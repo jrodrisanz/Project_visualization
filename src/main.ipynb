{
 "cells": [
  {
   "cell_type": "code",
   "execution_count": 2,
   "metadata": {},
   "outputs": [],
   "source": [
    "import pandas as pd\n",
    "import numpy as np\n",
    "import seaborn as sns\n",
    "import pylab as plt\n",
    "import json\n",
    "import time\n",
    "import requests\n",
    "import warnings\n",
    "from bs4 import BeautifulSoup\n",
    "from tqdm import tqdm\n",
    "import requests\n",
    "from joblib import Parallel, delayed\n",
    "from tqdm_joblib import tqdm_joblib\n",
    "import plotly.express as px\n",
    "from tqdm.autonotebook import tqdm\n",
    "warnings.filterwarnings('ignore')\n"
   ]
  },
  {
   "attachments": {},
   "cell_type": "markdown",
   "metadata": {},
   "source": [
    "                Extracción, transformación y limpieza de datos del dataset de películas, series y documentales de Netflix"
   ]
  },
  {
   "cell_type": "code",
   "execution_count": 3,
   "metadata": {},
   "outputs": [],
   "source": [
    "film = pd.read_csv('../data/Net_titles.csv', encoding='utf-8', encoding_errors='ignore')\n",
    "actor = pd.read_csv('../data/Net_credits.csv', encoding='utf-8', encoding_errors='ignore') "
   ]
  },
  {
   "cell_type": "code",
   "execution_count": 4,
   "metadata": {},
   "outputs": [],
   "source": [
    "# Para rellenar los valores nulos de la columna Age_certification. Si pertenece a los siguientes géneros se asumirá que la certificación de edad es R (+17)\n",
    "def fill_age_null(row):\n",
    "    if pd.isna(row['age_certification']):\n",
    "        if 'thriller' in row['genres'] or 'horror' in row['genres'] or 'black comedy' in row['genres']:\n",
    "            return 'R'\n",
    "    return row['age_certification']\n",
    "\n",
    "film['age_certification'] = film.apply(lambda row: fill_age_null(row), axis=1)"
   ]
  },
  {
   "cell_type": "code",
   "execution_count": 5,
   "metadata": {},
   "outputs": [],
   "source": [
    "# Eliminamos los valores nulos de las columnas relacionados con IMDB y TMDB, ya que sin el imdb_id es imposible analizarlos\n",
    "# Rellenamos los valores nulos de la columna seasons con '-1'\n",
    "# Rellenamos los valores nulos de la columna character del df 'actor' con la palabra 'unknown'\n",
    "# Rellenamos los valores nulos de la columna description con 'unknown'\n",
    "# Rellenamos los valores nulos de la columna age_certification con 'unknown'\n",
    "\n",
    "film.dropna(subset=['imdb_id', 'imdb_score', 'imdb_votes', 'tmdb_popularity', 'tmdb_score'], inplace=True)\n",
    "film['age_certification'] = film['age_certification'].fillna('unknown')\n",
    "film['seasons'] = film['seasons'].fillna('-1')\n",
    "film['description'] = film['description'].fillna('unknown')\n",
    "actor['character'] = actor['character'].fillna('unknown')\n",
    "\n"
   ]
  },
  {
   "cell_type": "code",
   "execution_count": 8,
   "metadata": {},
   "outputs": [
    {
     "name": "stderr",
     "output_type": "stream",
     "text": [
      "100%|██████████| 5131/5131 [14:34<00:00,  5.87it/s]\n"
     ]
    }
   ],
   "source": [
    "from joblib import Parallel, delayed\n",
    "from tqdm import tqdm\n",
    "\n",
    "def extract_reviews_and_ratings(imdb_id):\n",
    "    url = f'https://www.imdb.com/title/{imdb_id}/reviews?ref_=tt_ov_rt' \n",
    "    response = requests.get(url)\n",
    "    if response.status_code == 200:\n",
    "        soup = BeautifulSoup(response.text, 'html.parser')\n",
    "        reviews = soup.find_all('div', {'class': 'text show-more__control'})  \n",
    "        ratings = soup.find_all('span', {'class': 'rating-other-user-rating'})\n",
    "        results = []                                        # crea la lista para almacenar los resultados\n",
    "        for rev, rat in zip(reviews, ratings):              # itera sobre reviews y rating a la vez\n",
    "            rev_div = rev.find_parent('div', {'class': 'lister-item-content'})  \n",
    "            rev_title = rev_div.find('a', {'class': 'title'}).text.strip() if rev_div.find('a', {'class': 'title'}) else 'No title'\n",
    "            rat_title = rat.text.strip() if rat else 'Sin calificación'\n",
    "            results.append((imdb_id, rev_title, rat_title))\n",
    "        return results\n",
    "    else:\n",
    "        print(f'Error al obtener comentarios de la película con IMDB ID {imdb_id}')\n",
    "        return []\n",
    "\n",
    "if __name__ == '__main__':\n",
    "    imdb_ids = film['imdb_id'].tolist()                                                                                         #pasamos la columna del df a lista\n",
    "    reviews_and_ratings = Parallel(n_jobs=-1)(delayed(extract_reviews_and_ratings)(imdb_id) for imdb_id in tqdm(imdb_ids))      #extraemos en paralelo las reviews y ratings de cada id\n",
    "    reviews_and_ratings = [review for sublist in reviews_and_ratings for review in sublist]                                     #aplanamos la lista de listas 'reviews_and_ratings'\n",
    "    com_rev = pd.DataFrame(reviews_and_ratings, columns=['id', 'review_title', 'rating_title'])\n",
    "\n"
   ]
  },
  {
   "cell_type": "code",
   "execution_count": 20,
   "metadata": {},
   "outputs": [],
   "source": [
    "#com_rev.to_csv('../data/Net_comments.csv', index=False)\n",
    "#film.to_csv('../data/Net_titles_clean.csv', index=False)\n",
    "#actor.to_csv('../data/Net_actors_clean.csv', index=False)"
   ]
  },
  {
   "attachments": {},
   "cell_type": "markdown",
   "metadata": {},
   "source": [
    "                Realizamos el mismo proceso con las tablas de HBO"
   ]
  },
  {
   "cell_type": "code",
   "execution_count": 24,
   "metadata": {},
   "outputs": [],
   "source": [
    "film = pd.read_csv('../data/HBO_titles.csv', encoding='utf-8', encoding_errors='ignore')\n",
    "actor = pd.read_csv('../data/HBO_credits.csv', encoding='utf-8', encoding_errors='ignore') "
   ]
  },
  {
   "cell_type": "code",
   "execution_count": 26,
   "metadata": {},
   "outputs": [],
   "source": [
    "def fill_age_null(row):\n",
    "    if pd.isna(row['age_certification']):\n",
    "        if 'thriller' in row['genres'] or 'horror' in row['genres'] or 'black comedy' in row['genres']:\n",
    "            return 'R'\n",
    "    return row['age_certification']\n",
    "\n",
    "film['age_certification'] = film.apply(lambda row: fill_age_null(row), axis=1)"
   ]
  },
  {
   "cell_type": "code",
   "execution_count": 28,
   "metadata": {},
   "outputs": [],
   "source": [
    "film.dropna(subset=['imdb_id', 'imdb_score', 'imdb_votes', 'tmdb_popularity', 'tmdb_score'], inplace=True)\n",
    "film['age_certification'] = film['age_certification'].fillna('unknown')\n",
    "film['seasons'] = film['seasons'].fillna('-1')\n",
    "film['description'] = film['description'].fillna('unknown')\n",
    "actor['character'] = actor['character'].fillna('unknown')"
   ]
  },
  {
   "cell_type": "code",
   "execution_count": 31,
   "metadata": {},
   "outputs": [
    {
     "name": "stderr",
     "output_type": "stream",
     "text": [
      "100%|██████████| 2606/2606 [12:14<00:00,  3.55it/s]\n"
     ]
    }
   ],
   "source": [
    "from joblib import Parallel, delayed\n",
    "from tqdm import tqdm\n",
    "\n",
    "def extract_reviews_and_ratings(imdb_id):\n",
    "    url = f'https://www.imdb.com/title/{imdb_id}/reviews?ref_=tt_ov_rt' \n",
    "    response = requests.get(url)\n",
    "    if response.status_code == 200:\n",
    "        soup = BeautifulSoup(response.text, 'html.parser')\n",
    "        reviews = soup.find_all('div', {'class': 'text show-more__control'})  \n",
    "        ratings = soup.find_all('span', {'class': 'rating-other-user-rating'})\n",
    "        results = []\n",
    "        for rev, rat in zip(reviews, ratings):\n",
    "            rev_div = rev.find_parent('div', {'class': 'lister-item-content'})  \n",
    "            rev_title = rev_div.find('a', {'class': 'title'}).text.strip() if rev_div.find('a', {'class': 'title'}) else 'No title'\n",
    "            rat_title = rat.text.strip() if rat else 'Sin calificación'\n",
    "            results.append((imdb_id, rev_title, rat_title))\n",
    "        return results\n",
    "    else:\n",
    "        print(f'Error al obtener comentarios de la película con IMDB ID {imdb_id}')\n",
    "        return []\n",
    "\n",
    "if __name__ == '__main__':\n",
    "    imdb_ids = film['imdb_id'].tolist()\n",
    "    reviews_and_ratings = Parallel(n_jobs=-1)(delayed(extract_reviews_and_ratings)(imdb_id) for imdb_id in tqdm(imdb_ids))\n",
    "    reviews_and_ratings = [review for sublist in reviews_and_ratings for review in sublist]\n",
    "    com_rev = pd.DataFrame(reviews_and_ratings, columns=['id', 'review_title', 'rating_title'])"
   ]
  },
  {
   "cell_type": "code",
   "execution_count": 32,
   "metadata": {},
   "outputs": [],
   "source": [
    "#com_rev.to_csv('../data/HBO_comments.csv', index=False)\n",
    "#film.to_csv('../data/HBO_titles_clean.csv', index=False)\n",
    "#actor.to_csv('../data/HBO_actors_clean.csv', index=False)"
   ]
  },
  {
   "cell_type": "code",
   "execution_count": 10,
   "metadata": {},
   "outputs": [],
   "source": [
    "# Creamos el df de actores\n",
    "actor = pd.read_csv('../data/HBO_actors_clean.csv', encoding='utf-8', encoding_errors='ignore') "
   ]
  },
  {
   "cell_type": "code",
   "execution_count": 11,
   "metadata": {},
   "outputs": [],
   "source": [
    "actor = actor.drop(['id','character', 'role'], axis= 1)"
   ]
  },
  {
   "cell_type": "code",
   "execution_count": 12,
   "metadata": {},
   "outputs": [],
   "source": [
    "actor = actor.drop_duplicates()"
   ]
  },
  {
   "cell_type": "code",
   "execution_count": 13,
   "metadata": {},
   "outputs": [],
   "source": [
    "actor.to_csv('../data/sql/HBO_actors_sql.csv', index=False)"
   ]
  },
  {
   "cell_type": "code",
   "execution_count": 8,
   "metadata": {},
   "outputs": [],
   "source": [
    "# Creamos el df de reparto\n",
    "cast = pd.read_csv('../data/HBO_actors_clean.csv', encoding='utf-8', encoding_errors='ignore')"
   ]
  },
  {
   "cell_type": "code",
   "execution_count": 9,
   "metadata": {},
   "outputs": [],
   "source": [
    "cast = cast.drop(['name'], axis= 1)"
   ]
  },
  {
   "cell_type": "code",
   "execution_count": 10,
   "metadata": {},
   "outputs": [],
   "source": [
    "cast.rename(columns={'id': 'film_id'}, inplace=True)\n"
   ]
  },
  {
   "cell_type": "code",
   "execution_count": 11,
   "metadata": {},
   "outputs": [],
   "source": [
    "cast['id'] = range(1, len(cast)+1)"
   ]
  },
  {
   "cell_type": "code",
   "execution_count": 12,
   "metadata": {},
   "outputs": [],
   "source": [
    "cast = cast.reindex(columns=['id', 'person_id', 'film_id', 'character', 'role'])\n"
   ]
  },
  {
   "cell_type": "code",
   "execution_count": 14,
   "metadata": {},
   "outputs": [],
   "source": [
    "cast.to_csv('../data/sql/HBO_cast_sql.csv', index=False)"
   ]
  },
  {
   "cell_type": "code",
   "execution_count": 15,
   "metadata": {},
   "outputs": [],
   "source": [
    "# Creamos el df de reviews\n",
    "com = pd.read_csv('../data/HBO_comments.csv', encoding='utf-8', encoding_errors='ignore')"
   ]
  },
  {
   "cell_type": "code",
   "execution_count": 16,
   "metadata": {},
   "outputs": [],
   "source": [
    "com.rename(columns={'id': 'imdb_id'}, inplace=True)"
   ]
  },
  {
   "cell_type": "code",
   "execution_count": 17,
   "metadata": {},
   "outputs": [],
   "source": [
    "com['id'] = range(1, len(com)+1)"
   ]
  },
  {
   "cell_type": "code",
   "execution_count": 18,
   "metadata": {},
   "outputs": [],
   "source": [
    "com = com.reindex(columns=['id', 'imdb_id', 'review_title', 'rating_title'])"
   ]
  },
  {
   "cell_type": "code",
   "execution_count": 19,
   "metadata": {},
   "outputs": [],
   "source": [
    "com.to_csv('../data/sql/HBO_reviews_sql.csv', index=False)"
   ]
  },
  {
   "cell_type": "code",
   "execution_count": 20,
   "metadata": {},
   "outputs": [],
   "source": [
    "# Creamos el df de films\n",
    "film = pd.read_csv('../data/HBO_titles_clean.csv', encoding='utf-8', encoding_errors='ignore') \n",
    "film.rename(columns={'id': 'film_id'}, inplace=True)\n",
    "film.to_csv('../data/sql/HBO_titles_sql.csv', index=False)\n"
   ]
  },
  {
   "cell_type": "code",
   "execution_count": 21,
   "metadata": {},
   "outputs": [],
   "source": [
    "rev = pd.read_csv('../data/sql/HBO_reviews_sql.csv', encoding='utf-8', encoding_errors='ignore') \n",
    "rev.rename(columns={'id': 'review_id'}, inplace=True)\n",
    "rev.to_csv('../data/sql/HBO_reviews_sql.csv', index=False)"
   ]
  },
  {
   "attachments": {},
   "cell_type": "markdown",
   "metadata": {},
   "source": [
    "                Visualización de datos"
   ]
  },
  {
   "cell_type": "code",
   "execution_count": 22,
   "metadata": {},
   "outputs": [],
   "source": [
    "film = pd.read_csv('../data/Net_titles_clean.csv', encoding='utf-8', encoding_errors='ignore')"
   ]
  },
  {
   "cell_type": "code",
   "execution_count": 5,
   "metadata": {},
   "outputs": [],
   "source": [
    "# Definimos la función filtrar_gen para quitar del gráfico aquellos géneros y subgéneros que representen una minoría\n",
    "def filtrar_gen(df, col, thresh):\n",
    "    counts = df[col].value_counts()\n",
    "    mask = df[col].isin(counts[counts > thresh].index)\n",
    "    return df[mask]"
   ]
  },
  {
   "cell_type": "code",
   "execution_count": 24,
   "metadata": {},
   "outputs": [],
   "source": [
    "# Vamos a crear un nuevo df cuyas columnas sean el género y el subgénero de de las películas\n",
    "film['genres'] = film['genres'].str.strip('[]').str.replace(\"'\", '').str.split(', ')\n",
    "film_gen = film['genres'].apply(pd.Series).rename(columns = lambda x : 'genre_' + str(x))\n",
    "df_sunburst = pd.concat([film_gen['genre_0'], film_gen['genre_1'], film_gen['genre_2']], axis=1)\n",
    "df_sunburst.columns = ['Level 1', 'Level 2', 'Level 3']\n"
   ]
  },
  {
   "cell_type": "code",
   "execution_count": 25,
   "metadata": {},
   "outputs": [],
   "source": [
    "# Eliminamos los nulos de los subgéneros, ya que representan que género y subgénero coinciden\n",
    "\n",
    "df_sunburst = df_sunburst.dropna(subset=['Level 3'])\n",
    "df_sunburst = df_sunburst.dropna(subset=['Level 2'])\n",
    "\n"
   ]
  },
  {
   "cell_type": "code",
   "execution_count": 26,
   "metadata": {},
   "outputs": [],
   "source": [
    "# definimos un thresh con un umbral de 50 valores únicos para no tener en cuenta aquellos géneros y subgéneros que son poco representativos y que molestan visualmente\n",
    "df_sunburst = filtrar_gen(df_sunburst, 'Level 2', 50)   \n",
    "df_sunburst = filtrar_gen(df_sunburst, 'Level 1', 50)"
   ]
  },
  {
   "cell_type": "code",
   "execution_count": 27,
   "metadata": {},
   "outputs": [
    {
     "data": {
      "application/vnd.plotly.v1+json": {
       "config": {
        "plotlyServerURL": "https://plot.ly"
       },
       "data": [
        {
         "branchvalues": "total",
         "domain": {
          "x": [
           0,
           1
          ],
          "y": [
           0,
           1
          ]
         },
         "hovertemplate": "labels=%{label}<br>count=%{value}<br>parent=%{parent}<br>id=%{id}<extra></extra>",
         "ids": [
          "animation/action",
          "comedy/action",
          "crime/action",
          "documentation/action",
          "drama/action",
          "family/action",
          "fantasy/action",
          "horror/action",
          "romance/action",
          "scifi/action",
          "thriller/action",
          "action/animation",
          "comedy/animation",
          "drama/animation",
          "family/animation",
          "fantasy/animation",
          "scifi/animation",
          "thriller/animation",
          "action/comedy",
          "animation/comedy",
          "crime/comedy",
          "documentation/comedy",
          "drama/comedy",
          "family/comedy",
          "fantasy/comedy",
          "horror/comedy",
          "romance/comedy",
          "scifi/comedy",
          "thriller/comedy",
          "action/crime",
          "comedy/crime",
          "documentation/crime",
          "drama/crime",
          "family/crime",
          "horror/crime",
          "romance/crime",
          "scifi/crime",
          "thriller/crime",
          "action/drama",
          "animation/drama",
          "comedy/drama",
          "crime/drama",
          "documentation/drama",
          "family/drama",
          "fantasy/drama",
          "horror/drama",
          "romance/drama",
          "scifi/drama",
          "thriller/drama",
          "action/family",
          "animation/family",
          "comedy/family",
          "documentation/family",
          "drama/family",
          "fantasy/family",
          "romance/family",
          "scifi/family",
          "thriller/family",
          "action/fantasy",
          "animation/fantasy",
          "comedy/fantasy",
          "crime/fantasy",
          "documentation/fantasy",
          "drama/fantasy",
          "family/fantasy",
          "horror/fantasy",
          "scifi/fantasy",
          "thriller/fantasy",
          "action/history",
          "crime/history",
          "documentation/history",
          "drama/history",
          "romance/history",
          "thriller/history",
          "action/horror",
          "comedy/horror",
          "documentation/horror",
          "drama/horror",
          "fantasy/horror",
          "scifi/horror",
          "thriller/horror",
          "action/romance",
          "animation/romance",
          "comedy/romance",
          "crime/romance",
          "drama/romance",
          "family/romance",
          "fantasy/romance",
          "scifi/romance",
          "thriller/romance",
          "action/scifi",
          "animation/scifi",
          "comedy/scifi",
          "crime/scifi",
          "documentation/scifi",
          "drama/scifi",
          "fantasy/scifi",
          "horror/scifi",
          "thriller/scifi",
          "action/thriller",
          "animation/thriller",
          "comedy/thriller",
          "crime/thriller",
          "documentation/thriller",
          "drama/thriller",
          "fantasy/thriller",
          "horror/thriller",
          "romance/thriller",
          "scifi/thriller",
          "action",
          "animation",
          "comedy",
          "crime",
          "documentation",
          "drama",
          "family",
          "fantasy",
          "horror",
          "romance",
          "scifi",
          "thriller"
         ],
         "labels": [
          "action",
          "action",
          "action",
          "action",
          "action",
          "action",
          "action",
          "action",
          "action",
          "action",
          "action",
          "animation",
          "animation",
          "animation",
          "animation",
          "animation",
          "animation",
          "animation",
          "comedy",
          "comedy",
          "comedy",
          "comedy",
          "comedy",
          "comedy",
          "comedy",
          "comedy",
          "comedy",
          "comedy",
          "comedy",
          "crime",
          "crime",
          "crime",
          "crime",
          "crime",
          "crime",
          "crime",
          "crime",
          "crime",
          "drama",
          "drama",
          "drama",
          "drama",
          "drama",
          "drama",
          "drama",
          "drama",
          "drama",
          "drama",
          "drama",
          "family",
          "family",
          "family",
          "family",
          "family",
          "family",
          "family",
          "family",
          "family",
          "fantasy",
          "fantasy",
          "fantasy",
          "fantasy",
          "fantasy",
          "fantasy",
          "fantasy",
          "fantasy",
          "fantasy",
          "fantasy",
          "history",
          "history",
          "history",
          "history",
          "history",
          "history",
          "horror",
          "horror",
          "horror",
          "horror",
          "horror",
          "horror",
          "horror",
          "romance",
          "romance",
          "romance",
          "romance",
          "romance",
          "romance",
          "romance",
          "romance",
          "romance",
          "scifi",
          "scifi",
          "scifi",
          "scifi",
          "scifi",
          "scifi",
          "scifi",
          "scifi",
          "scifi",
          "thriller",
          "thriller",
          "thriller",
          "thriller",
          "thriller",
          "thriller",
          "thriller",
          "thriller",
          "thriller",
          "thriller",
          "action",
          "animation",
          "comedy",
          "crime",
          "documentation",
          "drama",
          "family",
          "fantasy",
          "horror",
          "romance",
          "scifi",
          "thriller"
         ],
         "name": "",
         "parents": [
          "animation",
          "comedy",
          "crime",
          "documentation",
          "drama",
          "family",
          "fantasy",
          "horror",
          "romance",
          "scifi",
          "thriller",
          "action",
          "comedy",
          "drama",
          "family",
          "fantasy",
          "scifi",
          "thriller",
          "action",
          "animation",
          "crime",
          "documentation",
          "drama",
          "family",
          "fantasy",
          "horror",
          "romance",
          "scifi",
          "thriller",
          "action",
          "comedy",
          "documentation",
          "drama",
          "family",
          "horror",
          "romance",
          "scifi",
          "thriller",
          "action",
          "animation",
          "comedy",
          "crime",
          "documentation",
          "family",
          "fantasy",
          "horror",
          "romance",
          "scifi",
          "thriller",
          "action",
          "animation",
          "comedy",
          "documentation",
          "drama",
          "fantasy",
          "romance",
          "scifi",
          "thriller",
          "action",
          "animation",
          "comedy",
          "crime",
          "documentation",
          "drama",
          "family",
          "horror",
          "scifi",
          "thriller",
          "action",
          "crime",
          "documentation",
          "drama",
          "romance",
          "thriller",
          "action",
          "comedy",
          "documentation",
          "drama",
          "fantasy",
          "scifi",
          "thriller",
          "action",
          "animation",
          "comedy",
          "crime",
          "drama",
          "family",
          "fantasy",
          "scifi",
          "thriller",
          "action",
          "animation",
          "comedy",
          "crime",
          "documentation",
          "drama",
          "fantasy",
          "horror",
          "thriller",
          "action",
          "animation",
          "comedy",
          "crime",
          "documentation",
          "drama",
          "fantasy",
          "horror",
          "romance",
          "scifi",
          "",
          "",
          "",
          "",
          "",
          "",
          "",
          "",
          "",
          "",
          "",
          ""
         ],
         "type": "sunburst",
         "values": [
          52,
          21,
          18,
          2,
          51,
          7,
          14,
          1,
          9,
          48,
          59,
          29,
          16,
          9,
          17,
          16,
          30,
          4,
          45,
          72,
          7,
          6,
          112,
          10,
          9,
          5,
          56,
          11,
          8,
          31,
          22,
          27,
          60,
          1,
          1,
          3,
          6,
          51,
          67,
          9,
          157,
          87,
          9,
          7,
          9,
          5,
          37,
          37,
          71,
          9,
          30,
          48,
          2,
          35,
          4,
          3,
          6,
          3,
          14,
          5,
          11,
          2,
          1,
          16,
          16,
          1,
          12,
          2,
          2,
          3,
          15,
          37,
          1,
          2,
          1,
          5,
          2,
          16,
          8,
          6,
          27,
          1,
          1,
          45,
          2,
          79,
          3,
          1,
          3,
          4,
          32,
          10,
          9,
          2,
          2,
          34,
          4,
          4,
          4,
          38,
          3,
          8,
          23,
          6,
          103,
          5,
          38,
          8,
          46,
          269,
          182,
          342,
          144,
          72,
          552,
          61,
          70,
          55,
          117,
          205,
          235
         ]
        }
       ],
       "layout": {
        "height": 600,
        "legend": {
         "tracegroupgap": 0
        },
        "margin": {
         "t": 60
        },
        "template": {
         "data": {
          "bar": [
           {
            "error_x": {
             "color": "#2a3f5f"
            },
            "error_y": {
             "color": "#2a3f5f"
            },
            "marker": {
             "line": {
              "color": "#E5ECF6",
              "width": 0.5
             },
             "pattern": {
              "fillmode": "overlay",
              "size": 10,
              "solidity": 0.2
             }
            },
            "type": "bar"
           }
          ],
          "barpolar": [
           {
            "marker": {
             "line": {
              "color": "#E5ECF6",
              "width": 0.5
             },
             "pattern": {
              "fillmode": "overlay",
              "size": 10,
              "solidity": 0.2
             }
            },
            "type": "barpolar"
           }
          ],
          "carpet": [
           {
            "aaxis": {
             "endlinecolor": "#2a3f5f",
             "gridcolor": "white",
             "linecolor": "white",
             "minorgridcolor": "white",
             "startlinecolor": "#2a3f5f"
            },
            "baxis": {
             "endlinecolor": "#2a3f5f",
             "gridcolor": "white",
             "linecolor": "white",
             "minorgridcolor": "white",
             "startlinecolor": "#2a3f5f"
            },
            "type": "carpet"
           }
          ],
          "choropleth": [
           {
            "colorbar": {
             "outlinewidth": 0,
             "ticks": ""
            },
            "type": "choropleth"
           }
          ],
          "contour": [
           {
            "colorbar": {
             "outlinewidth": 0,
             "ticks": ""
            },
            "colorscale": [
             [
              0,
              "#0d0887"
             ],
             [
              0.1111111111111111,
              "#46039f"
             ],
             [
              0.2222222222222222,
              "#7201a8"
             ],
             [
              0.3333333333333333,
              "#9c179e"
             ],
             [
              0.4444444444444444,
              "#bd3786"
             ],
             [
              0.5555555555555556,
              "#d8576b"
             ],
             [
              0.6666666666666666,
              "#ed7953"
             ],
             [
              0.7777777777777778,
              "#fb9f3a"
             ],
             [
              0.8888888888888888,
              "#fdca26"
             ],
             [
              1,
              "#f0f921"
             ]
            ],
            "type": "contour"
           }
          ],
          "contourcarpet": [
           {
            "colorbar": {
             "outlinewidth": 0,
             "ticks": ""
            },
            "type": "contourcarpet"
           }
          ],
          "heatmap": [
           {
            "colorbar": {
             "outlinewidth": 0,
             "ticks": ""
            },
            "colorscale": [
             [
              0,
              "#0d0887"
             ],
             [
              0.1111111111111111,
              "#46039f"
             ],
             [
              0.2222222222222222,
              "#7201a8"
             ],
             [
              0.3333333333333333,
              "#9c179e"
             ],
             [
              0.4444444444444444,
              "#bd3786"
             ],
             [
              0.5555555555555556,
              "#d8576b"
             ],
             [
              0.6666666666666666,
              "#ed7953"
             ],
             [
              0.7777777777777778,
              "#fb9f3a"
             ],
             [
              0.8888888888888888,
              "#fdca26"
             ],
             [
              1,
              "#f0f921"
             ]
            ],
            "type": "heatmap"
           }
          ],
          "heatmapgl": [
           {
            "colorbar": {
             "outlinewidth": 0,
             "ticks": ""
            },
            "colorscale": [
             [
              0,
              "#0d0887"
             ],
             [
              0.1111111111111111,
              "#46039f"
             ],
             [
              0.2222222222222222,
              "#7201a8"
             ],
             [
              0.3333333333333333,
              "#9c179e"
             ],
             [
              0.4444444444444444,
              "#bd3786"
             ],
             [
              0.5555555555555556,
              "#d8576b"
             ],
             [
              0.6666666666666666,
              "#ed7953"
             ],
             [
              0.7777777777777778,
              "#fb9f3a"
             ],
             [
              0.8888888888888888,
              "#fdca26"
             ],
             [
              1,
              "#f0f921"
             ]
            ],
            "type": "heatmapgl"
           }
          ],
          "histogram": [
           {
            "marker": {
             "pattern": {
              "fillmode": "overlay",
              "size": 10,
              "solidity": 0.2
             }
            },
            "type": "histogram"
           }
          ],
          "histogram2d": [
           {
            "colorbar": {
             "outlinewidth": 0,
             "ticks": ""
            },
            "colorscale": [
             [
              0,
              "#0d0887"
             ],
             [
              0.1111111111111111,
              "#46039f"
             ],
             [
              0.2222222222222222,
              "#7201a8"
             ],
             [
              0.3333333333333333,
              "#9c179e"
             ],
             [
              0.4444444444444444,
              "#bd3786"
             ],
             [
              0.5555555555555556,
              "#d8576b"
             ],
             [
              0.6666666666666666,
              "#ed7953"
             ],
             [
              0.7777777777777778,
              "#fb9f3a"
             ],
             [
              0.8888888888888888,
              "#fdca26"
             ],
             [
              1,
              "#f0f921"
             ]
            ],
            "type": "histogram2d"
           }
          ],
          "histogram2dcontour": [
           {
            "colorbar": {
             "outlinewidth": 0,
             "ticks": ""
            },
            "colorscale": [
             [
              0,
              "#0d0887"
             ],
             [
              0.1111111111111111,
              "#46039f"
             ],
             [
              0.2222222222222222,
              "#7201a8"
             ],
             [
              0.3333333333333333,
              "#9c179e"
             ],
             [
              0.4444444444444444,
              "#bd3786"
             ],
             [
              0.5555555555555556,
              "#d8576b"
             ],
             [
              0.6666666666666666,
              "#ed7953"
             ],
             [
              0.7777777777777778,
              "#fb9f3a"
             ],
             [
              0.8888888888888888,
              "#fdca26"
             ],
             [
              1,
              "#f0f921"
             ]
            ],
            "type": "histogram2dcontour"
           }
          ],
          "mesh3d": [
           {
            "colorbar": {
             "outlinewidth": 0,
             "ticks": ""
            },
            "type": "mesh3d"
           }
          ],
          "parcoords": [
           {
            "line": {
             "colorbar": {
              "outlinewidth": 0,
              "ticks": ""
             }
            },
            "type": "parcoords"
           }
          ],
          "pie": [
           {
            "automargin": true,
            "type": "pie"
           }
          ],
          "scatter": [
           {
            "fillpattern": {
             "fillmode": "overlay",
             "size": 10,
             "solidity": 0.2
            },
            "type": "scatter"
           }
          ],
          "scatter3d": [
           {
            "line": {
             "colorbar": {
              "outlinewidth": 0,
              "ticks": ""
             }
            },
            "marker": {
             "colorbar": {
              "outlinewidth": 0,
              "ticks": ""
             }
            },
            "type": "scatter3d"
           }
          ],
          "scattercarpet": [
           {
            "marker": {
             "colorbar": {
              "outlinewidth": 0,
              "ticks": ""
             }
            },
            "type": "scattercarpet"
           }
          ],
          "scattergeo": [
           {
            "marker": {
             "colorbar": {
              "outlinewidth": 0,
              "ticks": ""
             }
            },
            "type": "scattergeo"
           }
          ],
          "scattergl": [
           {
            "marker": {
             "colorbar": {
              "outlinewidth": 0,
              "ticks": ""
             }
            },
            "type": "scattergl"
           }
          ],
          "scattermapbox": [
           {
            "marker": {
             "colorbar": {
              "outlinewidth": 0,
              "ticks": ""
             }
            },
            "type": "scattermapbox"
           }
          ],
          "scatterpolar": [
           {
            "marker": {
             "colorbar": {
              "outlinewidth": 0,
              "ticks": ""
             }
            },
            "type": "scatterpolar"
           }
          ],
          "scatterpolargl": [
           {
            "marker": {
             "colorbar": {
              "outlinewidth": 0,
              "ticks": ""
             }
            },
            "type": "scatterpolargl"
           }
          ],
          "scatterternary": [
           {
            "marker": {
             "colorbar": {
              "outlinewidth": 0,
              "ticks": ""
             }
            },
            "type": "scatterternary"
           }
          ],
          "surface": [
           {
            "colorbar": {
             "outlinewidth": 0,
             "ticks": ""
            },
            "colorscale": [
             [
              0,
              "#0d0887"
             ],
             [
              0.1111111111111111,
              "#46039f"
             ],
             [
              0.2222222222222222,
              "#7201a8"
             ],
             [
              0.3333333333333333,
              "#9c179e"
             ],
             [
              0.4444444444444444,
              "#bd3786"
             ],
             [
              0.5555555555555556,
              "#d8576b"
             ],
             [
              0.6666666666666666,
              "#ed7953"
             ],
             [
              0.7777777777777778,
              "#fb9f3a"
             ],
             [
              0.8888888888888888,
              "#fdca26"
             ],
             [
              1,
              "#f0f921"
             ]
            ],
            "type": "surface"
           }
          ],
          "table": [
           {
            "cells": {
             "fill": {
              "color": "#EBF0F8"
             },
             "line": {
              "color": "white"
             }
            },
            "header": {
             "fill": {
              "color": "#C8D4E3"
             },
             "line": {
              "color": "white"
             }
            },
            "type": "table"
           }
          ]
         },
         "layout": {
          "annotationdefaults": {
           "arrowcolor": "#2a3f5f",
           "arrowhead": 0,
           "arrowwidth": 1
          },
          "autotypenumbers": "strict",
          "coloraxis": {
           "colorbar": {
            "outlinewidth": 0,
            "ticks": ""
           }
          },
          "colorscale": {
           "diverging": [
            [
             0,
             "#8e0152"
            ],
            [
             0.1,
             "#c51b7d"
            ],
            [
             0.2,
             "#de77ae"
            ],
            [
             0.3,
             "#f1b6da"
            ],
            [
             0.4,
             "#fde0ef"
            ],
            [
             0.5,
             "#f7f7f7"
            ],
            [
             0.6,
             "#e6f5d0"
            ],
            [
             0.7,
             "#b8e186"
            ],
            [
             0.8,
             "#7fbc41"
            ],
            [
             0.9,
             "#4d9221"
            ],
            [
             1,
             "#276419"
            ]
           ],
           "sequential": [
            [
             0,
             "#0d0887"
            ],
            [
             0.1111111111111111,
             "#46039f"
            ],
            [
             0.2222222222222222,
             "#7201a8"
            ],
            [
             0.3333333333333333,
             "#9c179e"
            ],
            [
             0.4444444444444444,
             "#bd3786"
            ],
            [
             0.5555555555555556,
             "#d8576b"
            ],
            [
             0.6666666666666666,
             "#ed7953"
            ],
            [
             0.7777777777777778,
             "#fb9f3a"
            ],
            [
             0.8888888888888888,
             "#fdca26"
            ],
            [
             1,
             "#f0f921"
            ]
           ],
           "sequentialminus": [
            [
             0,
             "#0d0887"
            ],
            [
             0.1111111111111111,
             "#46039f"
            ],
            [
             0.2222222222222222,
             "#7201a8"
            ],
            [
             0.3333333333333333,
             "#9c179e"
            ],
            [
             0.4444444444444444,
             "#bd3786"
            ],
            [
             0.5555555555555556,
             "#d8576b"
            ],
            [
             0.6666666666666666,
             "#ed7953"
            ],
            [
             0.7777777777777778,
             "#fb9f3a"
            ],
            [
             0.8888888888888888,
             "#fdca26"
            ],
            [
             1,
             "#f0f921"
            ]
           ]
          },
          "colorway": [
           "#636efa",
           "#EF553B",
           "#00cc96",
           "#ab63fa",
           "#FFA15A",
           "#19d3f3",
           "#FF6692",
           "#B6E880",
           "#FF97FF",
           "#FECB52"
          ],
          "font": {
           "color": "#2a3f5f"
          },
          "geo": {
           "bgcolor": "white",
           "lakecolor": "white",
           "landcolor": "#E5ECF6",
           "showlakes": true,
           "showland": true,
           "subunitcolor": "white"
          },
          "hoverlabel": {
           "align": "left"
          },
          "hovermode": "closest",
          "mapbox": {
           "style": "light"
          },
          "paper_bgcolor": "white",
          "plot_bgcolor": "#E5ECF6",
          "polar": {
           "angularaxis": {
            "gridcolor": "white",
            "linecolor": "white",
            "ticks": ""
           },
           "bgcolor": "#E5ECF6",
           "radialaxis": {
            "gridcolor": "white",
            "linecolor": "white",
            "ticks": ""
           }
          },
          "scene": {
           "xaxis": {
            "backgroundcolor": "#E5ECF6",
            "gridcolor": "white",
            "gridwidth": 2,
            "linecolor": "white",
            "showbackground": true,
            "ticks": "",
            "zerolinecolor": "white"
           },
           "yaxis": {
            "backgroundcolor": "#E5ECF6",
            "gridcolor": "white",
            "gridwidth": 2,
            "linecolor": "white",
            "showbackground": true,
            "ticks": "",
            "zerolinecolor": "white"
           },
           "zaxis": {
            "backgroundcolor": "#E5ECF6",
            "gridcolor": "white",
            "gridwidth": 2,
            "linecolor": "white",
            "showbackground": true,
            "ticks": "",
            "zerolinecolor": "white"
           }
          },
          "shapedefaults": {
           "line": {
            "color": "#2a3f5f"
           }
          },
          "ternary": {
           "aaxis": {
            "gridcolor": "white",
            "linecolor": "white",
            "ticks": ""
           },
           "baxis": {
            "gridcolor": "white",
            "linecolor": "white",
            "ticks": ""
           },
           "bgcolor": "#E5ECF6",
           "caxis": {
            "gridcolor": "white",
            "linecolor": "white",
            "ticks": ""
           }
          },
          "title": {
           "x": 0.05
          },
          "xaxis": {
           "automargin": true,
           "gridcolor": "white",
           "linecolor": "white",
           "ticks": "",
           "title": {
            "standoff": 15
           },
           "zerolinecolor": "white",
           "zerolinewidth": 2
          },
          "yaxis": {
           "automargin": true,
           "gridcolor": "white",
           "linecolor": "white",
           "ticks": "",
           "title": {
            "standoff": 15
           },
           "zerolinecolor": "white",
           "zerolinewidth": 2
          }
         }
        },
        "width": 600
       }
      }
     },
     "metadata": {},
     "output_type": "display_data"
    }
   ],
   "source": [
    "fig = px.sunburst(df_sunburst, path=['Level 1', 'Level 2'], width=600, height=600)\n",
    "fig.show()\n",
    "fig.write_html('../images/NET_gen_sunburst.html')\n"
   ]
  },
  {
   "cell_type": "code",
   "execution_count": 28,
   "metadata": {},
   "outputs": [
    {
     "data": {
      "application/vnd.plotly.v1+json": {
       "config": {
        "plotlyServerURL": "https://plot.ly"
       },
       "data": [
        {
         "branchvalues": "total",
         "domain": {
          "x": [
           0,
           1
          ],
          "y": [
           0,
           1
          ]
         },
         "hovertemplate": "labels=%{label}<br>count=%{value}<br>parent=%{parent}<br>id=%{id}<extra></extra>",
         "ids": [
          "animation/action",
          "comedy/action",
          "drama/action",
          "horror/action",
          "scifi/action",
          "thriller/action",
          "action/animation",
          "comedy/animation",
          "drama/animation",
          "horror/animation",
          "scifi/animation",
          "thriller/animation",
          "action/comedy",
          "animation/comedy",
          "drama/comedy",
          "horror/comedy",
          "scifi/comedy",
          "thriller/comedy",
          "action/crime",
          "comedy/crime",
          "drama/crime",
          "horror/crime",
          "scifi/crime",
          "thriller/crime",
          "action/drama",
          "animation/drama",
          "comedy/drama",
          "horror/drama",
          "scifi/drama",
          "thriller/drama",
          "animation/european",
          "comedy/european",
          "drama/european",
          "horror/european",
          "thriller/european",
          "action/family",
          "animation/family",
          "comedy/family",
          "drama/family",
          "scifi/family",
          "action/fantasy",
          "animation/fantasy",
          "comedy/fantasy",
          "drama/fantasy",
          "horror/fantasy",
          "scifi/fantasy",
          "thriller/fantasy",
          "comedy/romance",
          "drama/romance",
          "horror/romance",
          "thriller/romance",
          "action/scifi",
          "animation/scifi",
          "comedy/scifi",
          "drama/scifi",
          "horror/scifi",
          "thriller/scifi",
          "action/thriller",
          "animation/thriller",
          "comedy/thriller",
          "drama/thriller",
          "horror/thriller",
          "scifi/thriller",
          "action",
          "animation",
          "comedy",
          "drama",
          "horror",
          "scifi",
          "thriller"
         ],
         "labels": [
          "action",
          "action",
          "action",
          "action",
          "action",
          "action",
          "animation",
          "animation",
          "animation",
          "animation",
          "animation",
          "animation",
          "comedy",
          "comedy",
          "comedy",
          "comedy",
          "comedy",
          "comedy",
          "crime",
          "crime",
          "crime",
          "crime",
          "crime",
          "crime",
          "drama",
          "drama",
          "drama",
          "drama",
          "drama",
          "drama",
          "european",
          "european",
          "european",
          "european",
          "european",
          "family",
          "family",
          "family",
          "family",
          "family",
          "fantasy",
          "fantasy",
          "fantasy",
          "fantasy",
          "fantasy",
          "fantasy",
          "fantasy",
          "romance",
          "romance",
          "romance",
          "romance",
          "scifi",
          "scifi",
          "scifi",
          "scifi",
          "scifi",
          "scifi",
          "thriller",
          "thriller",
          "thriller",
          "thriller",
          "thriller",
          "thriller",
          "action",
          "animation",
          "comedy",
          "drama",
          "horror",
          "scifi",
          "thriller"
         ],
         "name": "",
         "parents": [
          "animation",
          "comedy",
          "drama",
          "horror",
          "scifi",
          "thriller",
          "action",
          "comedy",
          "drama",
          "horror",
          "scifi",
          "thriller",
          "action",
          "animation",
          "drama",
          "horror",
          "scifi",
          "thriller",
          "action",
          "comedy",
          "drama",
          "horror",
          "scifi",
          "thriller",
          "action",
          "animation",
          "comedy",
          "horror",
          "scifi",
          "thriller",
          "animation",
          "comedy",
          "drama",
          "horror",
          "thriller",
          "action",
          "animation",
          "comedy",
          "drama",
          "scifi",
          "action",
          "animation",
          "comedy",
          "drama",
          "horror",
          "scifi",
          "thriller",
          "comedy",
          "drama",
          "horror",
          "thriller",
          "action",
          "animation",
          "comedy",
          "drama",
          "horror",
          "thriller",
          "action",
          "animation",
          "comedy",
          "drama",
          "horror",
          "scifi",
          "",
          "",
          "",
          "",
          "",
          "",
          ""
         ],
         "type": "sunburst",
         "values": [
          15,
          18,
          22,
          3,
          25,
          31,
          10,
          21,
          3,
          1,
          4,
          1,
          13,
          20,
          55,
          1,
          8,
          5,
          16,
          15,
          30,
          1,
          2,
          20,
          23,
          3,
          78,
          4,
          13,
          44,
          1,
          3,
          55,
          2,
          3,
          8,
          6,
          30,
          7,
          3,
          10,
          5,
          9,
          13,
          2,
          3,
          3,
          19,
          57,
          1,
          1,
          17,
          5,
          9,
          13,
          6,
          8,
          25,
          3,
          7,
          76,
          21,
          9,
          122,
          58,
          209,
          331,
          42,
          67,
          116
         ]
        }
       ],
       "layout": {
        "height": 600,
        "legend": {
         "tracegroupgap": 0
        },
        "margin": {
         "t": 60
        },
        "template": {
         "data": {
          "bar": [
           {
            "error_x": {
             "color": "#2a3f5f"
            },
            "error_y": {
             "color": "#2a3f5f"
            },
            "marker": {
             "line": {
              "color": "#E5ECF6",
              "width": 0.5
             },
             "pattern": {
              "fillmode": "overlay",
              "size": 10,
              "solidity": 0.2
             }
            },
            "type": "bar"
           }
          ],
          "barpolar": [
           {
            "marker": {
             "line": {
              "color": "#E5ECF6",
              "width": 0.5
             },
             "pattern": {
              "fillmode": "overlay",
              "size": 10,
              "solidity": 0.2
             }
            },
            "type": "barpolar"
           }
          ],
          "carpet": [
           {
            "aaxis": {
             "endlinecolor": "#2a3f5f",
             "gridcolor": "white",
             "linecolor": "white",
             "minorgridcolor": "white",
             "startlinecolor": "#2a3f5f"
            },
            "baxis": {
             "endlinecolor": "#2a3f5f",
             "gridcolor": "white",
             "linecolor": "white",
             "minorgridcolor": "white",
             "startlinecolor": "#2a3f5f"
            },
            "type": "carpet"
           }
          ],
          "choropleth": [
           {
            "colorbar": {
             "outlinewidth": 0,
             "ticks": ""
            },
            "type": "choropleth"
           }
          ],
          "contour": [
           {
            "colorbar": {
             "outlinewidth": 0,
             "ticks": ""
            },
            "colorscale": [
             [
              0,
              "#0d0887"
             ],
             [
              0.1111111111111111,
              "#46039f"
             ],
             [
              0.2222222222222222,
              "#7201a8"
             ],
             [
              0.3333333333333333,
              "#9c179e"
             ],
             [
              0.4444444444444444,
              "#bd3786"
             ],
             [
              0.5555555555555556,
              "#d8576b"
             ],
             [
              0.6666666666666666,
              "#ed7953"
             ],
             [
              0.7777777777777778,
              "#fb9f3a"
             ],
             [
              0.8888888888888888,
              "#fdca26"
             ],
             [
              1,
              "#f0f921"
             ]
            ],
            "type": "contour"
           }
          ],
          "contourcarpet": [
           {
            "colorbar": {
             "outlinewidth": 0,
             "ticks": ""
            },
            "type": "contourcarpet"
           }
          ],
          "heatmap": [
           {
            "colorbar": {
             "outlinewidth": 0,
             "ticks": ""
            },
            "colorscale": [
             [
              0,
              "#0d0887"
             ],
             [
              0.1111111111111111,
              "#46039f"
             ],
             [
              0.2222222222222222,
              "#7201a8"
             ],
             [
              0.3333333333333333,
              "#9c179e"
             ],
             [
              0.4444444444444444,
              "#bd3786"
             ],
             [
              0.5555555555555556,
              "#d8576b"
             ],
             [
              0.6666666666666666,
              "#ed7953"
             ],
             [
              0.7777777777777778,
              "#fb9f3a"
             ],
             [
              0.8888888888888888,
              "#fdca26"
             ],
             [
              1,
              "#f0f921"
             ]
            ],
            "type": "heatmap"
           }
          ],
          "heatmapgl": [
           {
            "colorbar": {
             "outlinewidth": 0,
             "ticks": ""
            },
            "colorscale": [
             [
              0,
              "#0d0887"
             ],
             [
              0.1111111111111111,
              "#46039f"
             ],
             [
              0.2222222222222222,
              "#7201a8"
             ],
             [
              0.3333333333333333,
              "#9c179e"
             ],
             [
              0.4444444444444444,
              "#bd3786"
             ],
             [
              0.5555555555555556,
              "#d8576b"
             ],
             [
              0.6666666666666666,
              "#ed7953"
             ],
             [
              0.7777777777777778,
              "#fb9f3a"
             ],
             [
              0.8888888888888888,
              "#fdca26"
             ],
             [
              1,
              "#f0f921"
             ]
            ],
            "type": "heatmapgl"
           }
          ],
          "histogram": [
           {
            "marker": {
             "pattern": {
              "fillmode": "overlay",
              "size": 10,
              "solidity": 0.2
             }
            },
            "type": "histogram"
           }
          ],
          "histogram2d": [
           {
            "colorbar": {
             "outlinewidth": 0,
             "ticks": ""
            },
            "colorscale": [
             [
              0,
              "#0d0887"
             ],
             [
              0.1111111111111111,
              "#46039f"
             ],
             [
              0.2222222222222222,
              "#7201a8"
             ],
             [
              0.3333333333333333,
              "#9c179e"
             ],
             [
              0.4444444444444444,
              "#bd3786"
             ],
             [
              0.5555555555555556,
              "#d8576b"
             ],
             [
              0.6666666666666666,
              "#ed7953"
             ],
             [
              0.7777777777777778,
              "#fb9f3a"
             ],
             [
              0.8888888888888888,
              "#fdca26"
             ],
             [
              1,
              "#f0f921"
             ]
            ],
            "type": "histogram2d"
           }
          ],
          "histogram2dcontour": [
           {
            "colorbar": {
             "outlinewidth": 0,
             "ticks": ""
            },
            "colorscale": [
             [
              0,
              "#0d0887"
             ],
             [
              0.1111111111111111,
              "#46039f"
             ],
             [
              0.2222222222222222,
              "#7201a8"
             ],
             [
              0.3333333333333333,
              "#9c179e"
             ],
             [
              0.4444444444444444,
              "#bd3786"
             ],
             [
              0.5555555555555556,
              "#d8576b"
             ],
             [
              0.6666666666666666,
              "#ed7953"
             ],
             [
              0.7777777777777778,
              "#fb9f3a"
             ],
             [
              0.8888888888888888,
              "#fdca26"
             ],
             [
              1,
              "#f0f921"
             ]
            ],
            "type": "histogram2dcontour"
           }
          ],
          "mesh3d": [
           {
            "colorbar": {
             "outlinewidth": 0,
             "ticks": ""
            },
            "type": "mesh3d"
           }
          ],
          "parcoords": [
           {
            "line": {
             "colorbar": {
              "outlinewidth": 0,
              "ticks": ""
             }
            },
            "type": "parcoords"
           }
          ],
          "pie": [
           {
            "automargin": true,
            "type": "pie"
           }
          ],
          "scatter": [
           {
            "fillpattern": {
             "fillmode": "overlay",
             "size": 10,
             "solidity": 0.2
            },
            "type": "scatter"
           }
          ],
          "scatter3d": [
           {
            "line": {
             "colorbar": {
              "outlinewidth": 0,
              "ticks": ""
             }
            },
            "marker": {
             "colorbar": {
              "outlinewidth": 0,
              "ticks": ""
             }
            },
            "type": "scatter3d"
           }
          ],
          "scattercarpet": [
           {
            "marker": {
             "colorbar": {
              "outlinewidth": 0,
              "ticks": ""
             }
            },
            "type": "scattercarpet"
           }
          ],
          "scattergeo": [
           {
            "marker": {
             "colorbar": {
              "outlinewidth": 0,
              "ticks": ""
             }
            },
            "type": "scattergeo"
           }
          ],
          "scattergl": [
           {
            "marker": {
             "colorbar": {
              "outlinewidth": 0,
              "ticks": ""
             }
            },
            "type": "scattergl"
           }
          ],
          "scattermapbox": [
           {
            "marker": {
             "colorbar": {
              "outlinewidth": 0,
              "ticks": ""
             }
            },
            "type": "scattermapbox"
           }
          ],
          "scatterpolar": [
           {
            "marker": {
             "colorbar": {
              "outlinewidth": 0,
              "ticks": ""
             }
            },
            "type": "scatterpolar"
           }
          ],
          "scatterpolargl": [
           {
            "marker": {
             "colorbar": {
              "outlinewidth": 0,
              "ticks": ""
             }
            },
            "type": "scatterpolargl"
           }
          ],
          "scatterternary": [
           {
            "marker": {
             "colorbar": {
              "outlinewidth": 0,
              "ticks": ""
             }
            },
            "type": "scatterternary"
           }
          ],
          "surface": [
           {
            "colorbar": {
             "outlinewidth": 0,
             "ticks": ""
            },
            "colorscale": [
             [
              0,
              "#0d0887"
             ],
             [
              0.1111111111111111,
              "#46039f"
             ],
             [
              0.2222222222222222,
              "#7201a8"
             ],
             [
              0.3333333333333333,
              "#9c179e"
             ],
             [
              0.4444444444444444,
              "#bd3786"
             ],
             [
              0.5555555555555556,
              "#d8576b"
             ],
             [
              0.6666666666666666,
              "#ed7953"
             ],
             [
              0.7777777777777778,
              "#fb9f3a"
             ],
             [
              0.8888888888888888,
              "#fdca26"
             ],
             [
              1,
              "#f0f921"
             ]
            ],
            "type": "surface"
           }
          ],
          "table": [
           {
            "cells": {
             "fill": {
              "color": "#EBF0F8"
             },
             "line": {
              "color": "white"
             }
            },
            "header": {
             "fill": {
              "color": "#C8D4E3"
             },
             "line": {
              "color": "white"
             }
            },
            "type": "table"
           }
          ]
         },
         "layout": {
          "annotationdefaults": {
           "arrowcolor": "#2a3f5f",
           "arrowhead": 0,
           "arrowwidth": 1
          },
          "autotypenumbers": "strict",
          "coloraxis": {
           "colorbar": {
            "outlinewidth": 0,
            "ticks": ""
           }
          },
          "colorscale": {
           "diverging": [
            [
             0,
             "#8e0152"
            ],
            [
             0.1,
             "#c51b7d"
            ],
            [
             0.2,
             "#de77ae"
            ],
            [
             0.3,
             "#f1b6da"
            ],
            [
             0.4,
             "#fde0ef"
            ],
            [
             0.5,
             "#f7f7f7"
            ],
            [
             0.6,
             "#e6f5d0"
            ],
            [
             0.7,
             "#b8e186"
            ],
            [
             0.8,
             "#7fbc41"
            ],
            [
             0.9,
             "#4d9221"
            ],
            [
             1,
             "#276419"
            ]
           ],
           "sequential": [
            [
             0,
             "#0d0887"
            ],
            [
             0.1111111111111111,
             "#46039f"
            ],
            [
             0.2222222222222222,
             "#7201a8"
            ],
            [
             0.3333333333333333,
             "#9c179e"
            ],
            [
             0.4444444444444444,
             "#bd3786"
            ],
            [
             0.5555555555555556,
             "#d8576b"
            ],
            [
             0.6666666666666666,
             "#ed7953"
            ],
            [
             0.7777777777777778,
             "#fb9f3a"
            ],
            [
             0.8888888888888888,
             "#fdca26"
            ],
            [
             1,
             "#f0f921"
            ]
           ],
           "sequentialminus": [
            [
             0,
             "#0d0887"
            ],
            [
             0.1111111111111111,
             "#46039f"
            ],
            [
             0.2222222222222222,
             "#7201a8"
            ],
            [
             0.3333333333333333,
             "#9c179e"
            ],
            [
             0.4444444444444444,
             "#bd3786"
            ],
            [
             0.5555555555555556,
             "#d8576b"
            ],
            [
             0.6666666666666666,
             "#ed7953"
            ],
            [
             0.7777777777777778,
             "#fb9f3a"
            ],
            [
             0.8888888888888888,
             "#fdca26"
            ],
            [
             1,
             "#f0f921"
            ]
           ]
          },
          "colorway": [
           "#636efa",
           "#EF553B",
           "#00cc96",
           "#ab63fa",
           "#FFA15A",
           "#19d3f3",
           "#FF6692",
           "#B6E880",
           "#FF97FF",
           "#FECB52"
          ],
          "font": {
           "color": "#2a3f5f"
          },
          "geo": {
           "bgcolor": "white",
           "lakecolor": "white",
           "landcolor": "#E5ECF6",
           "showlakes": true,
           "showland": true,
           "subunitcolor": "white"
          },
          "hoverlabel": {
           "align": "left"
          },
          "hovermode": "closest",
          "mapbox": {
           "style": "light"
          },
          "paper_bgcolor": "white",
          "plot_bgcolor": "#E5ECF6",
          "polar": {
           "angularaxis": {
            "gridcolor": "white",
            "linecolor": "white",
            "ticks": ""
           },
           "bgcolor": "#E5ECF6",
           "radialaxis": {
            "gridcolor": "white",
            "linecolor": "white",
            "ticks": ""
           }
          },
          "scene": {
           "xaxis": {
            "backgroundcolor": "#E5ECF6",
            "gridcolor": "white",
            "gridwidth": 2,
            "linecolor": "white",
            "showbackground": true,
            "ticks": "",
            "zerolinecolor": "white"
           },
           "yaxis": {
            "backgroundcolor": "#E5ECF6",
            "gridcolor": "white",
            "gridwidth": 2,
            "linecolor": "white",
            "showbackground": true,
            "ticks": "",
            "zerolinecolor": "white"
           },
           "zaxis": {
            "backgroundcolor": "#E5ECF6",
            "gridcolor": "white",
            "gridwidth": 2,
            "linecolor": "white",
            "showbackground": true,
            "ticks": "",
            "zerolinecolor": "white"
           }
          },
          "shapedefaults": {
           "line": {
            "color": "#2a3f5f"
           }
          },
          "ternary": {
           "aaxis": {
            "gridcolor": "white",
            "linecolor": "white",
            "ticks": ""
           },
           "baxis": {
            "gridcolor": "white",
            "linecolor": "white",
            "ticks": ""
           },
           "bgcolor": "#E5ECF6",
           "caxis": {
            "gridcolor": "white",
            "linecolor": "white",
            "ticks": ""
           }
          },
          "title": {
           "x": 0.05
          },
          "xaxis": {
           "automargin": true,
           "gridcolor": "white",
           "linecolor": "white",
           "ticks": "",
           "title": {
            "standoff": 15
           },
           "zerolinecolor": "white",
           "zerolinewidth": 2
          },
          "yaxis": {
           "automargin": true,
           "gridcolor": "white",
           "linecolor": "white",
           "ticks": "",
           "title": {
            "standoff": 15
           },
           "zerolinecolor": "white",
           "zerolinewidth": 2
          }
         }
        },
        "width": 600
       }
      }
     },
     "metadata": {},
     "output_type": "display_data"
    }
   ],
   "source": [
    "film = pd.read_csv('../data/HBO_titles_clean.csv', encoding='utf-8', encoding_errors='ignore')\n",
    "\n",
    "film['genres'] = film['genres'].str.strip('[]').str.replace(\"'\", '').str.split(', ')\n",
    "film_gen = film['genres'].apply(pd.Series).rename(columns = lambda x : 'genre_' + str(x))\n",
    "\n",
    "df_sunburst = pd.concat([film_gen['genre_0'], film_gen['genre_1'], film_gen['genre_2']], axis=1)\n",
    "df_sunburst.columns = ['Level 1', 'Level 2', 'Level 3']\n",
    "\n",
    "df_sunburst = df_sunburst.dropna(subset=['Level 3'])\n",
    "df_sunburst = df_sunburst.dropna(subset=['Level 2'])\n",
    "\n",
    "df_sunburst = filtrar_gen(df_sunburst, 'Level 2', 40)  \n",
    "df_sunburst = filtrar_gen(df_sunburst, 'Level 1', 40)\n",
    "\n",
    "fig = px.sunburst(df_sunburst, path=['Level 1', 'Level 2'], width=600, height=600)\n",
    "\n",
    "fig.show()\n",
    "fig.write_html('../images/HBO_gen_sunburst.html')"
   ]
  },
  {
   "cell_type": "code",
   "execution_count": 25,
   "metadata": {},
   "outputs": [],
   "source": [
    "# Vamos a unir ambos dataframes y crear una columna que indicque la plataforma de la plicula\n",
    "hbo = pd.read_csv('../data/sql/HBO_titles_sql.csv', encoding='utf-8', encoding_errors='ignore') \n",
    "net = pd.read_csv('../data/sql/Net_titles_sql.csv', encoding='utf-8', encoding_errors='ignore')  \n",
    "\n",
    "both_platforms = set(net['film_id']).intersection(set(hbo['film_id']))\n",
    "\n",
    "# Agrega una columna \"both_platforms\" al dataframe combinado\n",
    "net['both_platforms'] = net['film_id'].isin(both_platforms)\n",
    "hbo['both_platforms'] = hbo['film_id'].isin(both_platforms)\n",
    "\n",
    "net['platform'] = 'Netflix'\n",
    "hbo['platform'] = 'HBO'\n",
    "\n",
    "df_combined = pd.concat([net, hbo])\n"
   ]
  },
  {
   "cell_type": "code",
   "execution_count": 27,
   "metadata": {},
   "outputs": [],
   "source": [
    "df_combined.loc[df_combined['both_platforms'], 'platform'] = 'both platforms'"
   ]
  },
  {
   "cell_type": "code",
   "execution_count": 31,
   "metadata": {},
   "outputs": [],
   "source": [
    "df_combined = df_combined.drop('both_platforms', axis=1)"
   ]
  },
  {
   "cell_type": "code",
   "execution_count": 33,
   "metadata": {},
   "outputs": [],
   "source": [
    "df_combined.to_csv('../data/sql/group/films.csv', index=False)"
   ]
  },
  {
   "cell_type": "code",
   "execution_count": 3,
   "metadata": {},
   "outputs": [],
   "source": [
    "df_combined = pd.read_csv('../data/sql/group/films.csv', encoding='utf-8', encoding_errors='ignore') "
   ]
  },
  {
   "cell_type": "code",
   "execution_count": 7,
   "metadata": {},
   "outputs": [
    {
     "data": {
      "application/vnd.plotly.v1+json": {
       "config": {
        "plotlyServerURL": "https://plot.ly"
       },
       "data": [
        {
         "branchvalues": "total",
         "domain": {
          "x": [
           0,
           1
          ],
          "y": [
           0,
           1
          ]
         },
         "hovertemplate": "labels=%{label}<br>count=%{value}<br>parent=%{parent}<br>id=%{id}<extra></extra>",
         "ids": [
          "action/N/A",
          "animation/N/A",
          "comedy/N/A",
          "crime/N/A",
          "documentation/N/A",
          "drama/N/A",
          "family/N/A",
          "fantasy/N/A",
          "horror/N/A",
          "music/N/A",
          "reality/N/A",
          "romance/N/A",
          "scifi/N/A",
          "thriller/N/A",
          "war/N/A",
          "animation/action",
          "comedy/action",
          "crime/action",
          "documentation/action",
          "drama/action",
          "family/action",
          "fantasy/action",
          "horror/action",
          "music/action",
          "reality/action",
          "romance/action",
          "scifi/action",
          "thriller/action",
          "war/action",
          "western/action",
          "action/animation",
          "comedy/animation",
          "documentation/animation",
          "drama/animation",
          "family/animation",
          "fantasy/animation",
          "horror/animation",
          "romance/animation",
          "scifi/animation",
          "thriller/animation",
          "action/comedy",
          "animation/comedy",
          "crime/comedy",
          "documentation/comedy",
          "drama/comedy",
          "family/comedy",
          "fantasy/comedy",
          "horror/comedy",
          "music/comedy",
          "reality/comedy",
          "romance/comedy",
          "scifi/comedy",
          "thriller/comedy",
          "war/comedy",
          "western/comedy",
          "action/crime",
          "comedy/crime",
          "documentation/crime",
          "drama/crime",
          "family/crime",
          "horror/crime",
          "romance/crime",
          "scifi/crime",
          "thriller/crime",
          "war/crime",
          "western/crime",
          "action/documentation",
          "animation/documentation",
          "comedy/documentation",
          "crime/documentation",
          "drama/documentation",
          "family/documentation",
          "music/documentation",
          "reality/documentation",
          "romance/documentation",
          "thriller/documentation",
          "war/documentation",
          "action/drama",
          "animation/drama",
          "comedy/drama",
          "crime/drama",
          "documentation/drama",
          "family/drama",
          "fantasy/drama",
          "horror/drama",
          "music/drama",
          "reality/drama",
          "romance/drama",
          "scifi/drama",
          "thriller/drama",
          "war/drama",
          "western/drama",
          "animation/european",
          "comedy/european",
          "crime/european",
          "documentation/european",
          "drama/european",
          "fantasy/european",
          "horror/european",
          "reality/european",
          "romance/european",
          "thriller/european",
          "war/european",
          "action/family",
          "animation/family",
          "comedy/family",
          "crime/family",
          "documentation/family",
          "drama/family",
          "fantasy/family",
          "music/family",
          "reality/family",
          "romance/family",
          "scifi/family",
          "thriller/family",
          "western/family",
          "action/fantasy",
          "animation/fantasy",
          "comedy/fantasy",
          "crime/fantasy",
          "documentation/fantasy",
          "drama/fantasy",
          "family/fantasy",
          "horror/fantasy",
          "romance/fantasy",
          "scifi/fantasy",
          "thriller/fantasy",
          "war/fantasy",
          "western/fantasy",
          "action/history",
          "comedy/history",
          "crime/history",
          "documentation/history",
          "drama/history",
          "romance/history",
          "thriller/history",
          "war/history",
          "western/history",
          "action/horror",
          "animation/horror",
          "comedy/horror",
          "documentation/horror",
          "drama/horror",
          "fantasy/horror",
          "scifi/horror",
          "thriller/horror",
          "western/horror",
          "animation/music",
          "comedy/music",
          "documentation/music",
          "drama/music",
          "family/music",
          "fantasy/music",
          "reality/music",
          "scifi/music",
          "thriller/music",
          "action/reality",
          "comedy/reality",
          "documentation/reality",
          "drama/reality",
          "family/reality",
          "fantasy/reality",
          "horror/reality",
          "music/reality",
          "scifi/reality",
          "war/reality",
          "action/romance",
          "animation/romance",
          "comedy/romance",
          "crime/romance",
          "documentation/romance",
          "drama/romance",
          "family/romance",
          "fantasy/romance",
          "horror/romance",
          "music/romance",
          "reality/romance",
          "scifi/romance",
          "thriller/romance",
          "war/romance",
          "action/scifi",
          "animation/scifi",
          "comedy/scifi",
          "crime/scifi",
          "documentation/scifi",
          "drama/scifi",
          "family/scifi",
          "fantasy/scifi",
          "horror/scifi",
          "thriller/scifi",
          "war/scifi",
          "action/sport",
          "comedy/sport",
          "crime/sport",
          "documentation/sport",
          "drama/sport",
          "family/sport",
          "reality/sport",
          "romance/sport",
          "thriller/sport",
          "action/thriller",
          "animation/thriller",
          "comedy/thriller",
          "crime/thriller",
          "documentation/thriller",
          "drama/thriller",
          "fantasy/thriller",
          "horror/thriller",
          "reality/thriller",
          "romance/thriller",
          "scifi/thriller",
          "war/thriller",
          "western/thriller",
          "action/war",
          "comedy/war",
          "crime/war",
          "documentation/war",
          "drama/war",
          "reality/war",
          "romance/war",
          "scifi/war",
          "thriller/war",
          "western/war",
          "action",
          "animation",
          "comedy",
          "crime",
          "documentation",
          "drama",
          "family",
          "fantasy",
          "horror",
          "music",
          "reality",
          "romance",
          "scifi",
          "thriller",
          "war",
          "western"
         ],
         "labels": [
          "N/A",
          "N/A",
          "N/A",
          "N/A",
          "N/A",
          "N/A",
          "N/A",
          "N/A",
          "N/A",
          "N/A",
          "N/A",
          "N/A",
          "N/A",
          "N/A",
          "N/A",
          "action",
          "action",
          "action",
          "action",
          "action",
          "action",
          "action",
          "action",
          "action",
          "action",
          "action",
          "action",
          "action",
          "action",
          "action",
          "animation",
          "animation",
          "animation",
          "animation",
          "animation",
          "animation",
          "animation",
          "animation",
          "animation",
          "animation",
          "comedy",
          "comedy",
          "comedy",
          "comedy",
          "comedy",
          "comedy",
          "comedy",
          "comedy",
          "comedy",
          "comedy",
          "comedy",
          "comedy",
          "comedy",
          "comedy",
          "comedy",
          "crime",
          "crime",
          "crime",
          "crime",
          "crime",
          "crime",
          "crime",
          "crime",
          "crime",
          "crime",
          "crime",
          "documentation",
          "documentation",
          "documentation",
          "documentation",
          "documentation",
          "documentation",
          "documentation",
          "documentation",
          "documentation",
          "documentation",
          "documentation",
          "drama",
          "drama",
          "drama",
          "drama",
          "drama",
          "drama",
          "drama",
          "drama",
          "drama",
          "drama",
          "drama",
          "drama",
          "drama",
          "drama",
          "drama",
          "european",
          "european",
          "european",
          "european",
          "european",
          "european",
          "european",
          "european",
          "european",
          "european",
          "european",
          "family",
          "family",
          "family",
          "family",
          "family",
          "family",
          "family",
          "family",
          "family",
          "family",
          "family",
          "family",
          "family",
          "fantasy",
          "fantasy",
          "fantasy",
          "fantasy",
          "fantasy",
          "fantasy",
          "fantasy",
          "fantasy",
          "fantasy",
          "fantasy",
          "fantasy",
          "fantasy",
          "fantasy",
          "history",
          "history",
          "history",
          "history",
          "history",
          "history",
          "history",
          "history",
          "history",
          "horror",
          "horror",
          "horror",
          "horror",
          "horror",
          "horror",
          "horror",
          "horror",
          "horror",
          "music",
          "music",
          "music",
          "music",
          "music",
          "music",
          "music",
          "music",
          "music",
          "reality",
          "reality",
          "reality",
          "reality",
          "reality",
          "reality",
          "reality",
          "reality",
          "reality",
          "reality",
          "romance",
          "romance",
          "romance",
          "romance",
          "romance",
          "romance",
          "romance",
          "romance",
          "romance",
          "romance",
          "romance",
          "romance",
          "romance",
          "romance",
          "scifi",
          "scifi",
          "scifi",
          "scifi",
          "scifi",
          "scifi",
          "scifi",
          "scifi",
          "scifi",
          "scifi",
          "scifi",
          "sport",
          "sport",
          "sport",
          "sport",
          "sport",
          "sport",
          "sport",
          "sport",
          "sport",
          "thriller",
          "thriller",
          "thriller",
          "thriller",
          "thriller",
          "thriller",
          "thriller",
          "thriller",
          "thriller",
          "thriller",
          "thriller",
          "thriller",
          "thriller",
          "war",
          "war",
          "war",
          "war",
          "war",
          "war",
          "war",
          "war",
          "war",
          "war",
          "action",
          "animation",
          "comedy",
          "crime",
          "documentation",
          "drama",
          "family",
          "fantasy",
          "horror",
          "music",
          "reality",
          "romance",
          "scifi",
          "thriller",
          "war",
          "western"
         ],
         "name": "",
         "parents": [
          "action",
          "animation",
          "comedy",
          "crime",
          "documentation",
          "drama",
          "family",
          "fantasy",
          "horror",
          "music",
          "reality",
          "romance",
          "scifi",
          "thriller",
          "war",
          "animation",
          "comedy",
          "crime",
          "documentation",
          "drama",
          "family",
          "fantasy",
          "horror",
          "music",
          "reality",
          "romance",
          "scifi",
          "thriller",
          "war",
          "western",
          "action",
          "comedy",
          "documentation",
          "drama",
          "family",
          "fantasy",
          "horror",
          "romance",
          "scifi",
          "thriller",
          "action",
          "animation",
          "crime",
          "documentation",
          "drama",
          "family",
          "fantasy",
          "horror",
          "music",
          "reality",
          "romance",
          "scifi",
          "thriller",
          "war",
          "western",
          "action",
          "comedy",
          "documentation",
          "drama",
          "family",
          "horror",
          "romance",
          "scifi",
          "thriller",
          "war",
          "western",
          "action",
          "animation",
          "comedy",
          "crime",
          "drama",
          "family",
          "music",
          "reality",
          "romance",
          "thriller",
          "war",
          "action",
          "animation",
          "comedy",
          "crime",
          "documentation",
          "family",
          "fantasy",
          "horror",
          "music",
          "reality",
          "romance",
          "scifi",
          "thriller",
          "war",
          "western",
          "animation",
          "comedy",
          "crime",
          "documentation",
          "drama",
          "fantasy",
          "horror",
          "reality",
          "romance",
          "thriller",
          "war",
          "action",
          "animation",
          "comedy",
          "crime",
          "documentation",
          "drama",
          "fantasy",
          "music",
          "reality",
          "romance",
          "scifi",
          "thriller",
          "western",
          "action",
          "animation",
          "comedy",
          "crime",
          "documentation",
          "drama",
          "family",
          "horror",
          "romance",
          "scifi",
          "thriller",
          "war",
          "western",
          "action",
          "comedy",
          "crime",
          "documentation",
          "drama",
          "romance",
          "thriller",
          "war",
          "western",
          "action",
          "animation",
          "comedy",
          "documentation",
          "drama",
          "fantasy",
          "scifi",
          "thriller",
          "western",
          "animation",
          "comedy",
          "documentation",
          "drama",
          "family",
          "fantasy",
          "reality",
          "scifi",
          "thriller",
          "action",
          "comedy",
          "documentation",
          "drama",
          "family",
          "fantasy",
          "horror",
          "music",
          "scifi",
          "war",
          "action",
          "animation",
          "comedy",
          "crime",
          "documentation",
          "drama",
          "family",
          "fantasy",
          "horror",
          "music",
          "reality",
          "scifi",
          "thriller",
          "war",
          "action",
          "animation",
          "comedy",
          "crime",
          "documentation",
          "drama",
          "family",
          "fantasy",
          "horror",
          "thriller",
          "war",
          "action",
          "comedy",
          "crime",
          "documentation",
          "drama",
          "family",
          "reality",
          "romance",
          "thriller",
          "action",
          "animation",
          "comedy",
          "crime",
          "documentation",
          "drama",
          "fantasy",
          "horror",
          "reality",
          "romance",
          "scifi",
          "war",
          "western",
          "action",
          "comedy",
          "crime",
          "documentation",
          "drama",
          "reality",
          "romance",
          "scifi",
          "thriller",
          "western",
          "",
          "",
          "",
          "",
          "",
          "",
          "",
          "",
          "",
          "",
          "",
          "",
          "",
          "",
          "",
          ""
         ],
         "type": "sunburst",
         "values": [
          11,
          19,
          548,
          2,
          481,
          367,
          14,
          1,
          15,
          7,
          113,
          4,
          1,
          24,
          1,
          69,
          53,
          26,
          4,
          95,
          9,
          34,
          5,
          1,
          3,
          11,
          78,
          110,
          9,
          6,
          41,
          52,
          4,
          13,
          26,
          22,
          1,
          1,
          34,
          5,
          69,
          106,
          16,
          32,
          307,
          22,
          16,
          11,
          12,
          16,
          125,
          23,
          14,
          1,
          8,
          51,
          56,
          124,
          152,
          1,
          3,
          4,
          8,
          78,
          1,
          2,
          1,
          4,
          165,
          48,
          30,
          1,
          44,
          14,
          3,
          7,
          9,
          109,
          14,
          397,
          133,
          33,
          11,
          14,
          12,
          7,
          4,
          95,
          53,
          163,
          20,
          20,
          4,
          43,
          1,
          32,
          135,
          1,
          3,
          2,
          2,
          7,
          1,
          18,
          66,
          110,
          1,
          16,
          64,
          10,
          1,
          1,
          6,
          10,
          3,
          1,
          29,
          12,
          27,
          2,
          1,
          33,
          18,
          3,
          1,
          15,
          6,
          1,
          1,
          2,
          1,
          3,
          62,
          101,
          2,
          4,
          3,
          2,
          3,
          2,
          29,
          3,
          27,
          12,
          10,
          66,
          1,
          2,
          39,
          57,
          52,
          3,
          3,
          6,
          1,
          2,
          2,
          15,
          22,
          2,
          2,
          1,
          2,
          2,
          2,
          1,
          1,
          1,
          160,
          3,
          1,
          283,
          4,
          1,
          2,
          3,
          15,
          3,
          7,
          3,
          58,
          15,
          21,
          3,
          2,
          50,
          1,
          8,
          15,
          13,
          1,
          1,
          17,
          1,
          88,
          42,
          1,
          1,
          1,
          2,
          78,
          6,
          16,
          44,
          8,
          229,
          6,
          89,
          1,
          12,
          60,
          2,
          1,
          7,
          6,
          2,
          14,
          32,
          2,
          1,
          4,
          5,
          1,
          481,
          320,
          1755,
          285,
          984,
          2014,
          113,
          129,
          161,
          77,
          178,
          268,
          302,
          516,
          53,
          43
         ]
        }
       ],
       "layout": {
        "height": 600,
        "legend": {
         "tracegroupgap": 0
        },
        "margin": {
         "t": 60
        },
        "template": {
         "data": {
          "bar": [
           {
            "error_x": {
             "color": "#2a3f5f"
            },
            "error_y": {
             "color": "#2a3f5f"
            },
            "marker": {
             "line": {
              "color": "#E5ECF6",
              "width": 0.5
             },
             "pattern": {
              "fillmode": "overlay",
              "size": 10,
              "solidity": 0.2
             }
            },
            "type": "bar"
           }
          ],
          "barpolar": [
           {
            "marker": {
             "line": {
              "color": "#E5ECF6",
              "width": 0.5
             },
             "pattern": {
              "fillmode": "overlay",
              "size": 10,
              "solidity": 0.2
             }
            },
            "type": "barpolar"
           }
          ],
          "carpet": [
           {
            "aaxis": {
             "endlinecolor": "#2a3f5f",
             "gridcolor": "white",
             "linecolor": "white",
             "minorgridcolor": "white",
             "startlinecolor": "#2a3f5f"
            },
            "baxis": {
             "endlinecolor": "#2a3f5f",
             "gridcolor": "white",
             "linecolor": "white",
             "minorgridcolor": "white",
             "startlinecolor": "#2a3f5f"
            },
            "type": "carpet"
           }
          ],
          "choropleth": [
           {
            "colorbar": {
             "outlinewidth": 0,
             "ticks": ""
            },
            "type": "choropleth"
           }
          ],
          "contour": [
           {
            "colorbar": {
             "outlinewidth": 0,
             "ticks": ""
            },
            "colorscale": [
             [
              0,
              "#0d0887"
             ],
             [
              0.1111111111111111,
              "#46039f"
             ],
             [
              0.2222222222222222,
              "#7201a8"
             ],
             [
              0.3333333333333333,
              "#9c179e"
             ],
             [
              0.4444444444444444,
              "#bd3786"
             ],
             [
              0.5555555555555556,
              "#d8576b"
             ],
             [
              0.6666666666666666,
              "#ed7953"
             ],
             [
              0.7777777777777778,
              "#fb9f3a"
             ],
             [
              0.8888888888888888,
              "#fdca26"
             ],
             [
              1,
              "#f0f921"
             ]
            ],
            "type": "contour"
           }
          ],
          "contourcarpet": [
           {
            "colorbar": {
             "outlinewidth": 0,
             "ticks": ""
            },
            "type": "contourcarpet"
           }
          ],
          "heatmap": [
           {
            "colorbar": {
             "outlinewidth": 0,
             "ticks": ""
            },
            "colorscale": [
             [
              0,
              "#0d0887"
             ],
             [
              0.1111111111111111,
              "#46039f"
             ],
             [
              0.2222222222222222,
              "#7201a8"
             ],
             [
              0.3333333333333333,
              "#9c179e"
             ],
             [
              0.4444444444444444,
              "#bd3786"
             ],
             [
              0.5555555555555556,
              "#d8576b"
             ],
             [
              0.6666666666666666,
              "#ed7953"
             ],
             [
              0.7777777777777778,
              "#fb9f3a"
             ],
             [
              0.8888888888888888,
              "#fdca26"
             ],
             [
              1,
              "#f0f921"
             ]
            ],
            "type": "heatmap"
           }
          ],
          "heatmapgl": [
           {
            "colorbar": {
             "outlinewidth": 0,
             "ticks": ""
            },
            "colorscale": [
             [
              0,
              "#0d0887"
             ],
             [
              0.1111111111111111,
              "#46039f"
             ],
             [
              0.2222222222222222,
              "#7201a8"
             ],
             [
              0.3333333333333333,
              "#9c179e"
             ],
             [
              0.4444444444444444,
              "#bd3786"
             ],
             [
              0.5555555555555556,
              "#d8576b"
             ],
             [
              0.6666666666666666,
              "#ed7953"
             ],
             [
              0.7777777777777778,
              "#fb9f3a"
             ],
             [
              0.8888888888888888,
              "#fdca26"
             ],
             [
              1,
              "#f0f921"
             ]
            ],
            "type": "heatmapgl"
           }
          ],
          "histogram": [
           {
            "marker": {
             "pattern": {
              "fillmode": "overlay",
              "size": 10,
              "solidity": 0.2
             }
            },
            "type": "histogram"
           }
          ],
          "histogram2d": [
           {
            "colorbar": {
             "outlinewidth": 0,
             "ticks": ""
            },
            "colorscale": [
             [
              0,
              "#0d0887"
             ],
             [
              0.1111111111111111,
              "#46039f"
             ],
             [
              0.2222222222222222,
              "#7201a8"
             ],
             [
              0.3333333333333333,
              "#9c179e"
             ],
             [
              0.4444444444444444,
              "#bd3786"
             ],
             [
              0.5555555555555556,
              "#d8576b"
             ],
             [
              0.6666666666666666,
              "#ed7953"
             ],
             [
              0.7777777777777778,
              "#fb9f3a"
             ],
             [
              0.8888888888888888,
              "#fdca26"
             ],
             [
              1,
              "#f0f921"
             ]
            ],
            "type": "histogram2d"
           }
          ],
          "histogram2dcontour": [
           {
            "colorbar": {
             "outlinewidth": 0,
             "ticks": ""
            },
            "colorscale": [
             [
              0,
              "#0d0887"
             ],
             [
              0.1111111111111111,
              "#46039f"
             ],
             [
              0.2222222222222222,
              "#7201a8"
             ],
             [
              0.3333333333333333,
              "#9c179e"
             ],
             [
              0.4444444444444444,
              "#bd3786"
             ],
             [
              0.5555555555555556,
              "#d8576b"
             ],
             [
              0.6666666666666666,
              "#ed7953"
             ],
             [
              0.7777777777777778,
              "#fb9f3a"
             ],
             [
              0.8888888888888888,
              "#fdca26"
             ],
             [
              1,
              "#f0f921"
             ]
            ],
            "type": "histogram2dcontour"
           }
          ],
          "mesh3d": [
           {
            "colorbar": {
             "outlinewidth": 0,
             "ticks": ""
            },
            "type": "mesh3d"
           }
          ],
          "parcoords": [
           {
            "line": {
             "colorbar": {
              "outlinewidth": 0,
              "ticks": ""
             }
            },
            "type": "parcoords"
           }
          ],
          "pie": [
           {
            "automargin": true,
            "type": "pie"
           }
          ],
          "scatter": [
           {
            "fillpattern": {
             "fillmode": "overlay",
             "size": 10,
             "solidity": 0.2
            },
            "type": "scatter"
           }
          ],
          "scatter3d": [
           {
            "line": {
             "colorbar": {
              "outlinewidth": 0,
              "ticks": ""
             }
            },
            "marker": {
             "colorbar": {
              "outlinewidth": 0,
              "ticks": ""
             }
            },
            "type": "scatter3d"
           }
          ],
          "scattercarpet": [
           {
            "marker": {
             "colorbar": {
              "outlinewidth": 0,
              "ticks": ""
             }
            },
            "type": "scattercarpet"
           }
          ],
          "scattergeo": [
           {
            "marker": {
             "colorbar": {
              "outlinewidth": 0,
              "ticks": ""
             }
            },
            "type": "scattergeo"
           }
          ],
          "scattergl": [
           {
            "marker": {
             "colorbar": {
              "outlinewidth": 0,
              "ticks": ""
             }
            },
            "type": "scattergl"
           }
          ],
          "scattermapbox": [
           {
            "marker": {
             "colorbar": {
              "outlinewidth": 0,
              "ticks": ""
             }
            },
            "type": "scattermapbox"
           }
          ],
          "scatterpolar": [
           {
            "marker": {
             "colorbar": {
              "outlinewidth": 0,
              "ticks": ""
             }
            },
            "type": "scatterpolar"
           }
          ],
          "scatterpolargl": [
           {
            "marker": {
             "colorbar": {
              "outlinewidth": 0,
              "ticks": ""
             }
            },
            "type": "scatterpolargl"
           }
          ],
          "scatterternary": [
           {
            "marker": {
             "colorbar": {
              "outlinewidth": 0,
              "ticks": ""
             }
            },
            "type": "scatterternary"
           }
          ],
          "surface": [
           {
            "colorbar": {
             "outlinewidth": 0,
             "ticks": ""
            },
            "colorscale": [
             [
              0,
              "#0d0887"
             ],
             [
              0.1111111111111111,
              "#46039f"
             ],
             [
              0.2222222222222222,
              "#7201a8"
             ],
             [
              0.3333333333333333,
              "#9c179e"
             ],
             [
              0.4444444444444444,
              "#bd3786"
             ],
             [
              0.5555555555555556,
              "#d8576b"
             ],
             [
              0.6666666666666666,
              "#ed7953"
             ],
             [
              0.7777777777777778,
              "#fb9f3a"
             ],
             [
              0.8888888888888888,
              "#fdca26"
             ],
             [
              1,
              "#f0f921"
             ]
            ],
            "type": "surface"
           }
          ],
          "table": [
           {
            "cells": {
             "fill": {
              "color": "#EBF0F8"
             },
             "line": {
              "color": "white"
             }
            },
            "header": {
             "fill": {
              "color": "#C8D4E3"
             },
             "line": {
              "color": "white"
             }
            },
            "type": "table"
           }
          ]
         },
         "layout": {
          "annotationdefaults": {
           "arrowcolor": "#2a3f5f",
           "arrowhead": 0,
           "arrowwidth": 1
          },
          "autotypenumbers": "strict",
          "coloraxis": {
           "colorbar": {
            "outlinewidth": 0,
            "ticks": ""
           }
          },
          "colorscale": {
           "diverging": [
            [
             0,
             "#8e0152"
            ],
            [
             0.1,
             "#c51b7d"
            ],
            [
             0.2,
             "#de77ae"
            ],
            [
             0.3,
             "#f1b6da"
            ],
            [
             0.4,
             "#fde0ef"
            ],
            [
             0.5,
             "#f7f7f7"
            ],
            [
             0.6,
             "#e6f5d0"
            ],
            [
             0.7,
             "#b8e186"
            ],
            [
             0.8,
             "#7fbc41"
            ],
            [
             0.9,
             "#4d9221"
            ],
            [
             1,
             "#276419"
            ]
           ],
           "sequential": [
            [
             0,
             "#0d0887"
            ],
            [
             0.1111111111111111,
             "#46039f"
            ],
            [
             0.2222222222222222,
             "#7201a8"
            ],
            [
             0.3333333333333333,
             "#9c179e"
            ],
            [
             0.4444444444444444,
             "#bd3786"
            ],
            [
             0.5555555555555556,
             "#d8576b"
            ],
            [
             0.6666666666666666,
             "#ed7953"
            ],
            [
             0.7777777777777778,
             "#fb9f3a"
            ],
            [
             0.8888888888888888,
             "#fdca26"
            ],
            [
             1,
             "#f0f921"
            ]
           ],
           "sequentialminus": [
            [
             0,
             "#0d0887"
            ],
            [
             0.1111111111111111,
             "#46039f"
            ],
            [
             0.2222222222222222,
             "#7201a8"
            ],
            [
             0.3333333333333333,
             "#9c179e"
            ],
            [
             0.4444444444444444,
             "#bd3786"
            ],
            [
             0.5555555555555556,
             "#d8576b"
            ],
            [
             0.6666666666666666,
             "#ed7953"
            ],
            [
             0.7777777777777778,
             "#fb9f3a"
            ],
            [
             0.8888888888888888,
             "#fdca26"
            ],
            [
             1,
             "#f0f921"
            ]
           ]
          },
          "colorway": [
           "#636efa",
           "#EF553B",
           "#00cc96",
           "#ab63fa",
           "#FFA15A",
           "#19d3f3",
           "#FF6692",
           "#B6E880",
           "#FF97FF",
           "#FECB52"
          ],
          "font": {
           "color": "#2a3f5f"
          },
          "geo": {
           "bgcolor": "white",
           "lakecolor": "white",
           "landcolor": "#E5ECF6",
           "showlakes": true,
           "showland": true,
           "subunitcolor": "white"
          },
          "hoverlabel": {
           "align": "left"
          },
          "hovermode": "closest",
          "mapbox": {
           "style": "light"
          },
          "paper_bgcolor": "white",
          "plot_bgcolor": "#E5ECF6",
          "polar": {
           "angularaxis": {
            "gridcolor": "white",
            "linecolor": "white",
            "ticks": ""
           },
           "bgcolor": "#E5ECF6",
           "radialaxis": {
            "gridcolor": "white",
            "linecolor": "white",
            "ticks": ""
           }
          },
          "scene": {
           "xaxis": {
            "backgroundcolor": "#E5ECF6",
            "gridcolor": "white",
            "gridwidth": 2,
            "linecolor": "white",
            "showbackground": true,
            "ticks": "",
            "zerolinecolor": "white"
           },
           "yaxis": {
            "backgroundcolor": "#E5ECF6",
            "gridcolor": "white",
            "gridwidth": 2,
            "linecolor": "white",
            "showbackground": true,
            "ticks": "",
            "zerolinecolor": "white"
           },
           "zaxis": {
            "backgroundcolor": "#E5ECF6",
            "gridcolor": "white",
            "gridwidth": 2,
            "linecolor": "white",
            "showbackground": true,
            "ticks": "",
            "zerolinecolor": "white"
           }
          },
          "shapedefaults": {
           "line": {
            "color": "#2a3f5f"
           }
          },
          "ternary": {
           "aaxis": {
            "gridcolor": "white",
            "linecolor": "white",
            "ticks": ""
           },
           "baxis": {
            "gridcolor": "white",
            "linecolor": "white",
            "ticks": ""
           },
           "bgcolor": "#E5ECF6",
           "caxis": {
            "gridcolor": "white",
            "linecolor": "white",
            "ticks": ""
           }
          },
          "title": {
           "x": 0.05
          },
          "xaxis": {
           "automargin": true,
           "gridcolor": "white",
           "linecolor": "white",
           "ticks": "",
           "title": {
            "standoff": 15
           },
           "zerolinecolor": "white",
           "zerolinewidth": 2
          },
          "yaxis": {
           "automargin": true,
           "gridcolor": "white",
           "linecolor": "white",
           "ticks": "",
           "title": {
            "standoff": 15
           },
           "zerolinecolor": "white",
           "zerolinewidth": 2
          }
         }
        },
        "width": 600
       }
      }
     },
     "metadata": {},
     "output_type": "display_data"
    }
   ],
   "source": [
    "# grafico sunburst de las dos plataformas en conjunto\n",
    "df_combined['genres'] = df_combined['genres'].astype(str).str.strip('[]').str.replace(\"'\", '').str.split(', ')\n",
    "film_gen = df_combined['genres'].apply(pd.Series).rename(columns = lambda x : 'genre_' + str(x))\n",
    "\n",
    "df_sunburst = pd.concat([film_gen['genre_0'], film_gen['genre_1'].fillna('N/A')], axis=1)\n",
    "df_sunburst.columns = ['Level 1', 'Level 2']\n",
    "\n",
    "df_sunburst = filtrar_gen(df_sunburst, 'Level 2', 40)  \n",
    "df_sunburst = filtrar_gen(df_sunburst, 'Level 1', 40)\n",
    "\n",
    "fig = px.sunburst(df_sunburst, path=['Level 1', 'Level 2'], width=600, height=600)\n",
    "\n",
    "fig.show()"
   ]
  },
  {
   "cell_type": "code",
   "execution_count": null,
   "metadata": {},
   "outputs": [],
   "source": [
    "film_gen.drop(['genre_2', 'genre_3','genre_4', 'genre_5', 'genre_6', 'genre_7', 'genre_8', 'genre_9'], axis=1, inplace=True)"
   ]
  },
  {
   "cell_type": "code",
   "execution_count": 13,
   "metadata": {},
   "outputs": [],
   "source": [
    "film_gen['genre_1'] = film_gen['genre_1'].fillna('N/A')"
   ]
  },
  {
   "cell_type": "code",
   "execution_count": 15,
   "metadata": {},
   "outputs": [
    {
     "data": {
      "text/html": [
       "<div>\n",
       "<style scoped>\n",
       "    .dataframe tbody tr th:only-of-type {\n",
       "        vertical-align: middle;\n",
       "    }\n",
       "\n",
       "    .dataframe tbody tr th {\n",
       "        vertical-align: top;\n",
       "    }\n",
       "\n",
       "    .dataframe thead th {\n",
       "        text-align: right;\n",
       "    }\n",
       "</style>\n",
       "<table border=\"1\" class=\"dataframe\">\n",
       "  <thead>\n",
       "    <tr style=\"text-align: right;\">\n",
       "      <th></th>\n",
       "      <th>genre</th>\n",
       "      <th>subgenre</th>\n",
       "    </tr>\n",
       "  </thead>\n",
       "  <tbody>\n",
       "    <tr>\n",
       "      <th>0</th>\n",
       "      <td>drama</td>\n",
       "      <td>crime</td>\n",
       "    </tr>\n",
       "    <tr>\n",
       "      <th>1</th>\n",
       "      <td>drama</td>\n",
       "      <td>action</td>\n",
       "    </tr>\n",
       "    <tr>\n",
       "      <th>2</th>\n",
       "      <td>fantasy</td>\n",
       "      <td>action</td>\n",
       "    </tr>\n",
       "    <tr>\n",
       "      <th>3</th>\n",
       "      <td>war</td>\n",
       "      <td>action</td>\n",
       "    </tr>\n",
       "    <tr>\n",
       "      <th>4</th>\n",
       "      <td>comedy</td>\n",
       "      <td>european</td>\n",
       "    </tr>\n",
       "    <tr>\n",
       "      <th>...</th>\n",
       "      <td>...</td>\n",
       "      <td>...</td>\n",
       "    </tr>\n",
       "    <tr>\n",
       "      <th>7732</th>\n",
       "      <td>comedy</td>\n",
       "      <td>N/A</td>\n",
       "    </tr>\n",
       "    <tr>\n",
       "      <th>7733</th>\n",
       "      <td>comedy</td>\n",
       "      <td>animation</td>\n",
       "    </tr>\n",
       "    <tr>\n",
       "      <th>7734</th>\n",
       "      <td>music</td>\n",
       "      <td>N/A</td>\n",
       "    </tr>\n",
       "    <tr>\n",
       "      <th>7735</th>\n",
       "      <td>comedy</td>\n",
       "      <td>N/A</td>\n",
       "    </tr>\n",
       "    <tr>\n",
       "      <th>7736</th>\n",
       "      <td>documentation</td>\n",
       "      <td>N/A</td>\n",
       "    </tr>\n",
       "  </tbody>\n",
       "</table>\n",
       "<p>7737 rows × 2 columns</p>\n",
       "</div>"
      ],
      "text/plain": [
       "              genre   subgenre\n",
       "0             drama      crime\n",
       "1             drama     action\n",
       "2           fantasy     action\n",
       "3               war     action\n",
       "4            comedy   european\n",
       "...             ...        ...\n",
       "7732         comedy        N/A\n",
       "7733         comedy  animation\n",
       "7734          music        N/A\n",
       "7735         comedy        N/A\n",
       "7736  documentation        N/A\n",
       "\n",
       "[7737 rows x 2 columns]"
      ]
     },
     "execution_count": 15,
     "metadata": {},
     "output_type": "execute_result"
    }
   ],
   "source": [
    "film_gen.rename(columns={'genre_0':'genre', 'genre_1':'subgenre'})"
   ]
  },
  {
   "cell_type": "code",
   "execution_count": 17,
   "metadata": {},
   "outputs": [],
   "source": [
    "df_combined = df_combined.drop('genres', axis=1)"
   ]
  },
  {
   "cell_type": "code",
   "execution_count": 19,
   "metadata": {},
   "outputs": [],
   "source": [
    "df_combined = pd.concat([df_combined, film_gen], axis=1)"
   ]
  },
  {
   "cell_type": "code",
   "execution_count": 23,
   "metadata": {},
   "outputs": [],
   "source": [
    "df_combined = df_combined.reindex(columns=['film_id', 'title', 'type', 'description', 'genre_0', 'genre_1', 'release_year', 'age_certification', 'runtime', 'production_countries', 'seasons', 'imdb_id', 'imdb_score', 'imdb_votes', 'tmdb_popularity', 'tmdb_score', 'platform'])"
   ]
  },
  {
   "cell_type": "code",
   "execution_count": 27,
   "metadata": {},
   "outputs": [],
   "source": [
    "df_combined = df_combined.rename(columns={'genre_0':'genre', 'genre_1':'subgenre'})"
   ]
  },
  {
   "cell_type": "code",
   "execution_count": 28,
   "metadata": {},
   "outputs": [
    {
     "data": {
      "text/html": [
       "<div>\n",
       "<style scoped>\n",
       "    .dataframe tbody tr th:only-of-type {\n",
       "        vertical-align: middle;\n",
       "    }\n",
       "\n",
       "    .dataframe tbody tr th {\n",
       "        vertical-align: top;\n",
       "    }\n",
       "\n",
       "    .dataframe thead th {\n",
       "        text-align: right;\n",
       "    }\n",
       "</style>\n",
       "<table border=\"1\" class=\"dataframe\">\n",
       "  <thead>\n",
       "    <tr style=\"text-align: right;\">\n",
       "      <th></th>\n",
       "      <th>film_id</th>\n",
       "      <th>title</th>\n",
       "      <th>type</th>\n",
       "      <th>description</th>\n",
       "      <th>genre</th>\n",
       "      <th>subgenre</th>\n",
       "      <th>release_year</th>\n",
       "      <th>age_certification</th>\n",
       "      <th>runtime</th>\n",
       "      <th>production_countries</th>\n",
       "      <th>seasons</th>\n",
       "      <th>imdb_id</th>\n",
       "      <th>imdb_score</th>\n",
       "      <th>imdb_votes</th>\n",
       "      <th>tmdb_popularity</th>\n",
       "      <th>tmdb_score</th>\n",
       "      <th>platform</th>\n",
       "    </tr>\n",
       "  </thead>\n",
       "  <tbody>\n",
       "    <tr>\n",
       "      <th>0</th>\n",
       "      <td>tm84618</td>\n",
       "      <td>Taxi Driver</td>\n",
       "      <td>MOVIE</td>\n",
       "      <td>A mentally unstable Vietnam War veteran works ...</td>\n",
       "      <td>drama</td>\n",
       "      <td>crime</td>\n",
       "      <td>1976</td>\n",
       "      <td>R</td>\n",
       "      <td>114</td>\n",
       "      <td>['US']</td>\n",
       "      <td>-1.0</td>\n",
       "      <td>tt0075314</td>\n",
       "      <td>8.2</td>\n",
       "      <td>808582.0</td>\n",
       "      <td>40.965</td>\n",
       "      <td>8.179</td>\n",
       "      <td>both platforms</td>\n",
       "    </tr>\n",
       "    <tr>\n",
       "      <th>1</th>\n",
       "      <td>tm154986</td>\n",
       "      <td>Deliverance</td>\n",
       "      <td>MOVIE</td>\n",
       "      <td>Intent on seeing the Cahulawassee River before...</td>\n",
       "      <td>drama</td>\n",
       "      <td>action</td>\n",
       "      <td>1972</td>\n",
       "      <td>R</td>\n",
       "      <td>109</td>\n",
       "      <td>['US']</td>\n",
       "      <td>-1.0</td>\n",
       "      <td>tt0068473</td>\n",
       "      <td>7.7</td>\n",
       "      <td>107673.0</td>\n",
       "      <td>10.010</td>\n",
       "      <td>7.300</td>\n",
       "      <td>Netflix</td>\n",
       "    </tr>\n",
       "    <tr>\n",
       "      <th>2</th>\n",
       "      <td>tm127384</td>\n",
       "      <td>Monty Python and the Holy Grail</td>\n",
       "      <td>MOVIE</td>\n",
       "      <td>King Arthur, accompanied by his squire, recrui...</td>\n",
       "      <td>fantasy</td>\n",
       "      <td>action</td>\n",
       "      <td>1975</td>\n",
       "      <td>PG</td>\n",
       "      <td>91</td>\n",
       "      <td>['GB']</td>\n",
       "      <td>-1.0</td>\n",
       "      <td>tt0071853</td>\n",
       "      <td>8.2</td>\n",
       "      <td>534486.0</td>\n",
       "      <td>15.461</td>\n",
       "      <td>7.811</td>\n",
       "      <td>Netflix</td>\n",
       "    </tr>\n",
       "    <tr>\n",
       "      <th>3</th>\n",
       "      <td>tm120801</td>\n",
       "      <td>The Dirty Dozen</td>\n",
       "      <td>MOVIE</td>\n",
       "      <td>12 American military prisoners in World War II...</td>\n",
       "      <td>war</td>\n",
       "      <td>action</td>\n",
       "      <td>1967</td>\n",
       "      <td>unknown</td>\n",
       "      <td>150</td>\n",
       "      <td>['GB', 'US']</td>\n",
       "      <td>-1.0</td>\n",
       "      <td>tt0061578</td>\n",
       "      <td>7.7</td>\n",
       "      <td>72662.0</td>\n",
       "      <td>20.398</td>\n",
       "      <td>7.600</td>\n",
       "      <td>both platforms</td>\n",
       "    </tr>\n",
       "    <tr>\n",
       "      <th>4</th>\n",
       "      <td>ts22164</td>\n",
       "      <td>Monty Python's Flying Circus</td>\n",
       "      <td>SHOW</td>\n",
       "      <td>A British sketch comedy series with the shows ...</td>\n",
       "      <td>comedy</td>\n",
       "      <td>european</td>\n",
       "      <td>1969</td>\n",
       "      <td>TV-14</td>\n",
       "      <td>30</td>\n",
       "      <td>['GB']</td>\n",
       "      <td>4.0</td>\n",
       "      <td>tt0063929</td>\n",
       "      <td>8.8</td>\n",
       "      <td>73424.0</td>\n",
       "      <td>17.617</td>\n",
       "      <td>8.306</td>\n",
       "      <td>Netflix</td>\n",
       "    </tr>\n",
       "    <tr>\n",
       "      <th>...</th>\n",
       "      <td>...</td>\n",
       "      <td>...</td>\n",
       "      <td>...</td>\n",
       "      <td>...</td>\n",
       "      <td>...</td>\n",
       "      <td>...</td>\n",
       "      <td>...</td>\n",
       "      <td>...</td>\n",
       "      <td>...</td>\n",
       "      <td>...</td>\n",
       "      <td>...</td>\n",
       "      <td>...</td>\n",
       "      <td>...</td>\n",
       "      <td>...</td>\n",
       "      <td>...</td>\n",
       "      <td>...</td>\n",
       "      <td>...</td>\n",
       "    </tr>\n",
       "    <tr>\n",
       "      <th>7732</th>\n",
       "      <td>tm1310730</td>\n",
       "      <td>Marlon Wayans: God Loves Me</td>\n",
       "      <td>MOVIE</td>\n",
       "      <td>Filmed at the Center Stage Theater in Atlanta,...</td>\n",
       "      <td>comedy</td>\n",
       "      <td>N/A</td>\n",
       "      <td>2023</td>\n",
       "      <td>unknown</td>\n",
       "      <td>60</td>\n",
       "      <td>['US']</td>\n",
       "      <td>-1.0</td>\n",
       "      <td>tt26753138</td>\n",
       "      <td>6.3</td>\n",
       "      <td>204.0</td>\n",
       "      <td>15.338</td>\n",
       "      <td>6.700</td>\n",
       "      <td>HBO</td>\n",
       "    </tr>\n",
       "    <tr>\n",
       "      <th>7733</th>\n",
       "      <td>ts171230</td>\n",
       "      <td>Poor Devil</td>\n",
       "      <td>SHOW</td>\n",
       "      <td>A typical 18-year-old who happens to be the An...</td>\n",
       "      <td>comedy</td>\n",
       "      <td>animation</td>\n",
       "      <td>2023</td>\n",
       "      <td>TV-MA</td>\n",
       "      <td>22</td>\n",
       "      <td>['ES']</td>\n",
       "      <td>1.0</td>\n",
       "      <td>tt15764846</td>\n",
       "      <td>6.6</td>\n",
       "      <td>265.0</td>\n",
       "      <td>13.511</td>\n",
       "      <td>7.714</td>\n",
       "      <td>HBO</td>\n",
       "    </tr>\n",
       "    <tr>\n",
       "      <th>7734</th>\n",
       "      <td>tm1306271</td>\n",
       "      <td>The Weeknd: Live at SoFi Stadium</td>\n",
       "      <td>MOVIE</td>\n",
       "      <td>Filmed at LA’s SoFi Stadium, The Weeknd brings...</td>\n",
       "      <td>music</td>\n",
       "      <td>N/A</td>\n",
       "      <td>2023</td>\n",
       "      <td>R</td>\n",
       "      <td>98</td>\n",
       "      <td>['US']</td>\n",
       "      <td>-1.0</td>\n",
       "      <td>tt26685153</td>\n",
       "      <td>8.1</td>\n",
       "      <td>257.0</td>\n",
       "      <td>23.370</td>\n",
       "      <td>5.800</td>\n",
       "      <td>HBO</td>\n",
       "    </tr>\n",
       "    <tr>\n",
       "      <th>7735</th>\n",
       "      <td>tm1305288</td>\n",
       "      <td>Marcella Arguello: Bitch, Grow Up!</td>\n",
       "      <td>MOVIE</td>\n",
       "      <td>Arguello couples her larger-than-life stage pr...</td>\n",
       "      <td>comedy</td>\n",
       "      <td>N/A</td>\n",
       "      <td>2023</td>\n",
       "      <td>R</td>\n",
       "      <td>37</td>\n",
       "      <td>['US']</td>\n",
       "      <td>-1.0</td>\n",
       "      <td>tt26623699</td>\n",
       "      <td>6.9</td>\n",
       "      <td>27.0</td>\n",
       "      <td>7.509</td>\n",
       "      <td>2.000</td>\n",
       "      <td>HBO</td>\n",
       "    </tr>\n",
       "    <tr>\n",
       "      <th>7736</th>\n",
       "      <td>tm1303655</td>\n",
       "      <td>Super-Vilains: l'Enquête</td>\n",
       "      <td>MOVIE</td>\n",
       "      <td>Comic book writers discuss how they make the v...</td>\n",
       "      <td>documentation</td>\n",
       "      <td>N/A</td>\n",
       "      <td>2023</td>\n",
       "      <td>PG-13</td>\n",
       "      <td>62</td>\n",
       "      <td>['FR']</td>\n",
       "      <td>-1.0</td>\n",
       "      <td>tt26498712</td>\n",
       "      <td>5.5</td>\n",
       "      <td>45.0</td>\n",
       "      <td>3.402</td>\n",
       "      <td>6.000</td>\n",
       "      <td>HBO</td>\n",
       "    </tr>\n",
       "  </tbody>\n",
       "</table>\n",
       "<p>7737 rows × 17 columns</p>\n",
       "</div>"
      ],
      "text/plain": [
       "        film_id                               title   type   \n",
       "0       tm84618                         Taxi Driver  MOVIE  \\\n",
       "1      tm154986                         Deliverance  MOVIE   \n",
       "2      tm127384     Monty Python and the Holy Grail  MOVIE   \n",
       "3      tm120801                     The Dirty Dozen  MOVIE   \n",
       "4       ts22164        Monty Python's Flying Circus   SHOW   \n",
       "...         ...                                 ...    ...   \n",
       "7732  tm1310730         Marlon Wayans: God Loves Me  MOVIE   \n",
       "7733   ts171230                          Poor Devil   SHOW   \n",
       "7734  tm1306271    The Weeknd: Live at SoFi Stadium  MOVIE   \n",
       "7735  tm1305288  Marcella Arguello: Bitch, Grow Up!  MOVIE   \n",
       "7736  tm1303655            Super-Vilains: l'Enquête  MOVIE   \n",
       "\n",
       "                                            description          genre   \n",
       "0     A mentally unstable Vietnam War veteran works ...          drama  \\\n",
       "1     Intent on seeing the Cahulawassee River before...          drama   \n",
       "2     King Arthur, accompanied by his squire, recrui...        fantasy   \n",
       "3     12 American military prisoners in World War II...            war   \n",
       "4     A British sketch comedy series with the shows ...         comedy   \n",
       "...                                                 ...            ...   \n",
       "7732  Filmed at the Center Stage Theater in Atlanta,...         comedy   \n",
       "7733  A typical 18-year-old who happens to be the An...         comedy   \n",
       "7734  Filmed at LA’s SoFi Stadium, The Weeknd brings...          music   \n",
       "7735  Arguello couples her larger-than-life stage pr...         comedy   \n",
       "7736  Comic book writers discuss how they make the v...  documentation   \n",
       "\n",
       "       subgenre  release_year age_certification  runtime production_countries   \n",
       "0         crime          1976                 R      114               ['US']  \\\n",
       "1        action          1972                 R      109               ['US']   \n",
       "2        action          1975                PG       91               ['GB']   \n",
       "3        action          1967           unknown      150         ['GB', 'US']   \n",
       "4      european          1969             TV-14       30               ['GB']   \n",
       "...         ...           ...               ...      ...                  ...   \n",
       "7732        N/A          2023           unknown       60               ['US']   \n",
       "7733  animation          2023             TV-MA       22               ['ES']   \n",
       "7734        N/A          2023                 R       98               ['US']   \n",
       "7735        N/A          2023                 R       37               ['US']   \n",
       "7736        N/A          2023             PG-13       62               ['FR']   \n",
       "\n",
       "      seasons     imdb_id  imdb_score  imdb_votes  tmdb_popularity   \n",
       "0        -1.0   tt0075314         8.2    808582.0           40.965  \\\n",
       "1        -1.0   tt0068473         7.7    107673.0           10.010   \n",
       "2        -1.0   tt0071853         8.2    534486.0           15.461   \n",
       "3        -1.0   tt0061578         7.7     72662.0           20.398   \n",
       "4         4.0   tt0063929         8.8     73424.0           17.617   \n",
       "...       ...         ...         ...         ...              ...   \n",
       "7732     -1.0  tt26753138         6.3       204.0           15.338   \n",
       "7733      1.0  tt15764846         6.6       265.0           13.511   \n",
       "7734     -1.0  tt26685153         8.1       257.0           23.370   \n",
       "7735     -1.0  tt26623699         6.9        27.0            7.509   \n",
       "7736     -1.0  tt26498712         5.5        45.0            3.402   \n",
       "\n",
       "      tmdb_score        platform  \n",
       "0          8.179  both platforms  \n",
       "1          7.300         Netflix  \n",
       "2          7.811         Netflix  \n",
       "3          7.600  both platforms  \n",
       "4          8.306         Netflix  \n",
       "...          ...             ...  \n",
       "7732       6.700             HBO  \n",
       "7733       7.714             HBO  \n",
       "7734       5.800             HBO  \n",
       "7735       2.000             HBO  \n",
       "7736       6.000             HBO  \n",
       "\n",
       "[7737 rows x 17 columns]"
      ]
     },
     "execution_count": 28,
     "metadata": {},
     "output_type": "execute_result"
    }
   ],
   "source": [
    "df_combined"
   ]
  },
  {
   "cell_type": "code",
   "execution_count": 30,
   "metadata": {},
   "outputs": [],
   "source": [
    "df_combined.to_csv('../data/sql/group/films.csv', index=False)"
   ]
  },
  {
   "cell_type": "code",
   "execution_count": 31,
   "metadata": {},
   "outputs": [],
   "source": [
    "df_combined = pd.read_csv('../data/sql/group/films.csv', encoding='utf-8', encoding_errors='ignore') "
   ]
  },
  {
   "cell_type": "code",
   "execution_count": 34,
   "metadata": {},
   "outputs": [],
   "source": [
    "df_combined['subgenre'] = df_combined['subgenre'].fillna('-')"
   ]
  },
  {
   "cell_type": "code",
   "execution_count": 36,
   "metadata": {},
   "outputs": [],
   "source": [
    "df_combined.to_csv('../data/sql/group/films.csv', index=False)"
   ]
  },
  {
   "cell_type": "code",
   "execution_count": null,
   "metadata": {},
   "outputs": [],
   "source": []
  }
 ],
 "metadata": {
  "kernelspec": {
   "display_name": "ETL",
   "language": "python",
   "name": "python3"
  },
  "language_info": {
   "codemirror_mode": {
    "name": "ipython",
    "version": 3
   },
   "file_extension": ".py",
   "mimetype": "text/x-python",
   "name": "python",
   "nbconvert_exporter": "python",
   "pygments_lexer": "ipython3",
   "version": "3.9.16"
  },
  "orig_nbformat": 4
 },
 "nbformat": 4,
 "nbformat_minor": 2
}

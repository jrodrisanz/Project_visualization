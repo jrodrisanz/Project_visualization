{
 "cells": [
  {
   "cell_type": "code",
   "execution_count": 2,
   "metadata": {},
   "outputs": [],
   "source": [
    "import pandas as pd\n",
    "import numpy as np\n",
    "import seaborn as sns\n",
    "import pylab as plt\n",
    "import json\n",
    "import time\n",
    "import requests\n",
    "import warnings\n",
    "from bs4 import BeautifulSoup\n",
    "from tqdm import tqdm\n",
    "import requests\n",
    "from joblib import Parallel, delayed\n",
    "from tqdm_joblib import tqdm_joblib\n",
    "import plotly.express as px\n",
    "from tqdm.autonotebook import tqdm\n",
    "warnings.filterwarnings('ignore')\n"
   ]
  },
  {
   "attachments": {},
   "cell_type": "markdown",
   "metadata": {},
   "source": [
    "                Extracción, transformación y limpieza de datos del dataset de películas, series y documentales de Netflix"
   ]
  },
  {
   "cell_type": "code",
   "execution_count": 3,
   "metadata": {},
   "outputs": [],
   "source": [
    "film = pd.read_csv('../data/Net_titles.csv', encoding='utf-8', encoding_errors='ignore')\n",
    "actor = pd.read_csv('../data/Net_credits.csv', encoding='utf-8', encoding_errors='ignore') "
   ]
  },
  {
   "cell_type": "code",
   "execution_count": 4,
   "metadata": {},
   "outputs": [],
   "source": [
    "# Para rellenar los valores nulos de la columna Age_certification. Si pertenece a los siguientes géneros se asumirá que la certificación de edad es R (+17)\n",
    "def fill_age_null(row):\n",
    "    if pd.isna(row['age_certification']):\n",
    "        if 'thriller' in row['genres'] or 'horror' in row['genres'] or 'black comedy' in row['genres']:\n",
    "            return 'R'\n",
    "    return row['age_certification']\n",
    "\n",
    "film['age_certification'] = film.apply(lambda row: fill_age_null(row), axis=1)"
   ]
  },
  {
   "cell_type": "code",
   "execution_count": 5,
   "metadata": {},
   "outputs": [],
   "source": [
    "# Eliminamos los valores nulos de las columnas relacionados con IMDB y TMDB, ya que sin el imdb_id es imposible analizarlos\n",
    "# Rellenamos los valores nulos de la columna seasons con '-1'\n",
    "# Rellenamos los valores nulos de la columna character del df 'actor' con la palabra 'unknown'\n",
    "# Rellenamos los valores nulos de la columna description con 'unknown'\n",
    "# Rellenamos los valores nulos de la columna age_certification con 'unknown'\n",
    "\n",
    "film.dropna(subset=['imdb_id', 'imdb_score', 'imdb_votes', 'tmdb_popularity', 'tmdb_score'], inplace=True)\n",
    "film['age_certification'] = film['age_certification'].fillna('unknown')\n",
    "film['seasons'] = film['seasons'].fillna('-1')\n",
    "film['description'] = film['description'].fillna('unknown')\n",
    "actor['character'] = actor['character'].fillna('unknown')\n",
    "\n"
   ]
  },
  {
   "cell_type": "code",
   "execution_count": 8,
   "metadata": {},
   "outputs": [
    {
     "name": "stderr",
     "output_type": "stream",
     "text": [
      "100%|██████████| 5131/5131 [14:34<00:00,  5.87it/s]\n"
     ]
    }
   ],
   "source": [
    "from joblib import Parallel, delayed\n",
    "from tqdm import tqdm\n",
    "\n",
    "def extract_reviews_and_ratings(imdb_id):\n",
    "    url = f'https://www.imdb.com/title/{imdb_id}/reviews?ref_=tt_ov_rt' \n",
    "    response = requests.get(url)\n",
    "    if response.status_code == 200:\n",
    "        soup = BeautifulSoup(response.text, 'html.parser')\n",
    "        reviews = soup.find_all('div', {'class': 'text show-more__control'})  \n",
    "        ratings = soup.find_all('span', {'class': 'rating-other-user-rating'})\n",
    "        results = []                                        # crea la lista para almacenar los resultados\n",
    "        for rev, rat in zip(reviews, ratings):              # itera sobre reviews y rating a la vez\n",
    "            rev_div = rev.find_parent('div', {'class': 'lister-item-content'})  \n",
    "            rev_title = rev_div.find('a', {'class': 'title'}).text.strip() if rev_div.find('a', {'class': 'title'}) else 'No title'\n",
    "            rat_title = rat.text.strip() if rat else 'Sin calificación'\n",
    "            results.append((imdb_id, rev_title, rat_title))\n",
    "        return results\n",
    "    else:\n",
    "        print(f'Error al obtener comentarios de la película con IMDB ID {imdb_id}')\n",
    "        return []\n",
    "\n",
    "if __name__ == '__main__':\n",
    "    imdb_ids = film['imdb_id'].tolist()                                                                                         #pasamos la columna del df a lista\n",
    "    reviews_and_ratings = Parallel(n_jobs=-1)(delayed(extract_reviews_and_ratings)(imdb_id) for imdb_id in tqdm(imdb_ids))      #extraemos en paralelo las reviews y ratings de cada id\n",
    "    reviews_and_ratings = [review for sublist in reviews_and_ratings for review in sublist]                                     #aplanamos la lista de listas 'reviews_and_ratings'\n",
    "    com_rev = pd.DataFrame(reviews_and_ratings, columns=['id', 'review_title', 'rating_title'])\n",
    "\n"
   ]
  },
  {
   "cell_type": "code",
   "execution_count": 20,
   "metadata": {},
   "outputs": [],
   "source": [
    "#com_rev.to_csv('../data/Net_comments.csv', index=False)\n",
    "#film.to_csv('../data/Net_titles_clean.csv', index=False)\n",
    "#actor.to_csv('../data/Net_actors_clean.csv', index=False)"
   ]
  },
  {
   "attachments": {},
   "cell_type": "markdown",
   "metadata": {},
   "source": [
    "                Realizamos el mismo proceso con las tablas de HBO"
   ]
  },
  {
   "cell_type": "code",
   "execution_count": 24,
   "metadata": {},
   "outputs": [],
   "source": [
    "film = pd.read_csv('../data/HBO_titles.csv', encoding='utf-8', encoding_errors='ignore')\n",
    "actor = pd.read_csv('../data/HBO_credits.csv', encoding='utf-8', encoding_errors='ignore') "
   ]
  },
  {
   "cell_type": "code",
   "execution_count": 26,
   "metadata": {},
   "outputs": [],
   "source": [
    "def fill_age_null(row):\n",
    "    if pd.isna(row['age_certification']):\n",
    "        if 'thriller' in row['genres'] or 'horror' in row['genres'] or 'black comedy' in row['genres']:\n",
    "            return 'R'\n",
    "    return row['age_certification']\n",
    "\n",
    "film['age_certification'] = film.apply(lambda row: fill_age_null(row), axis=1)"
   ]
  },
  {
   "cell_type": "code",
   "execution_count": 28,
   "metadata": {},
   "outputs": [],
   "source": [
    "film.dropna(subset=['imdb_id', 'imdb_score', 'imdb_votes', 'tmdb_popularity', 'tmdb_score'], inplace=True)\n",
    "film['age_certification'] = film['age_certification'].fillna('unknown')\n",
    "film['seasons'] = film['seasons'].fillna('-1')\n",
    "film['description'] = film['description'].fillna('unknown')\n",
    "actor['character'] = actor['character'].fillna('unknown')"
   ]
  },
  {
   "cell_type": "code",
   "execution_count": 31,
   "metadata": {},
   "outputs": [
    {
     "name": "stderr",
     "output_type": "stream",
     "text": [
      "100%|██████████| 2606/2606 [12:14<00:00,  3.55it/s]\n"
     ]
    }
   ],
   "source": [
    "from joblib import Parallel, delayed\n",
    "from tqdm import tqdm\n",
    "\n",
    "def extract_reviews_and_ratings(imdb_id):\n",
    "    url = f'https://www.imdb.com/title/{imdb_id}/reviews?ref_=tt_ov_rt' \n",
    "    response = requests.get(url)\n",
    "    if response.status_code == 200:\n",
    "        soup = BeautifulSoup(response.text, 'html.parser')\n",
    "        reviews = soup.find_all('div', {'class': 'text show-more__control'})  \n",
    "        ratings = soup.find_all('span', {'class': 'rating-other-user-rating'})\n",
    "        results = []\n",
    "        for rev, rat in zip(reviews, ratings):\n",
    "            rev_div = rev.find_parent('div', {'class': 'lister-item-content'})  \n",
    "            rev_title = rev_div.find('a', {'class': 'title'}).text.strip() if rev_div.find('a', {'class': 'title'}) else 'No title'\n",
    "            rat_title = rat.text.strip() if rat else 'Sin calificación'\n",
    "            results.append((imdb_id, rev_title, rat_title))\n",
    "        return results\n",
    "    else:\n",
    "        print(f'Error al obtener comentarios de la película con IMDB ID {imdb_id}')\n",
    "        return []\n",
    "\n",
    "if __name__ == '__main__':\n",
    "    imdb_ids = film['imdb_id'].tolist()\n",
    "    reviews_and_ratings = Parallel(n_jobs=-1)(delayed(extract_reviews_and_ratings)(imdb_id) for imdb_id in tqdm(imdb_ids))\n",
    "    reviews_and_ratings = [review for sublist in reviews_and_ratings for review in sublist]\n",
    "    com_rev = pd.DataFrame(reviews_and_ratings, columns=['id', 'review_title', 'rating_title'])"
   ]
  },
  {
   "cell_type": "code",
   "execution_count": 32,
   "metadata": {},
   "outputs": [],
   "source": [
    "#com_rev.to_csv('../data/HBO_comments.csv', index=False)\n",
    "#film.to_csv('../data/HBO_titles_clean.csv', index=False)\n",
    "#actor.to_csv('../data/HBO_actors_clean.csv', index=False)"
   ]
  },
  {
   "cell_type": "code",
   "execution_count": 3,
   "metadata": {},
   "outputs": [],
   "source": [
    "film = pd.read_csv('../data/Net_titles_clean.csv', encoding='utf-8', encoding_errors='ignore')\n",
    "actor = pd.read_csv('../data/Net_actors_clean.csv', encoding='utf-8', encoding_errors='ignore') \n",
    "com = pd.read_csv('../data/Net_comments.csv', encoding='utf-8', encoding_errors='ignore') "
   ]
  },
  {
   "cell_type": "code",
   "execution_count": 4,
   "metadata": {},
   "outputs": [
    {
     "data": {
      "text/plain": [
       "5131"
      ]
     },
     "execution_count": 4,
     "metadata": {},
     "output_type": "execute_result"
    }
   ],
   "source": [
    "film['id'].nunique()"
   ]
  },
  {
   "cell_type": "code",
   "execution_count": 7,
   "metadata": {},
   "outputs": [
    {
     "data": {
      "text/plain": [
       "5489"
      ]
     },
     "execution_count": 7,
     "metadata": {},
     "output_type": "execute_result"
    }
   ],
   "source": [
    "actor['id'].nunique()"
   ]
  },
  {
   "cell_type": "code",
   "execution_count": 5,
   "metadata": {},
   "outputs": [
    {
     "data": {
      "text/html": [
       "<div>\n",
       "<style scoped>\n",
       "    .dataframe tbody tr th:only-of-type {\n",
       "        vertical-align: middle;\n",
       "    }\n",
       "\n",
       "    .dataframe tbody tr th {\n",
       "        vertical-align: top;\n",
       "    }\n",
       "\n",
       "    .dataframe thead th {\n",
       "        text-align: right;\n",
       "    }\n",
       "</style>\n",
       "<table border=\"1\" class=\"dataframe\">\n",
       "  <thead>\n",
       "    <tr style=\"text-align: right;\">\n",
       "      <th></th>\n",
       "      <th>person_id</th>\n",
       "      <th>id</th>\n",
       "      <th>name</th>\n",
       "      <th>character</th>\n",
       "      <th>role</th>\n",
       "    </tr>\n",
       "  </thead>\n",
       "  <tbody>\n",
       "    <tr>\n",
       "      <th>0</th>\n",
       "      <td>3748</td>\n",
       "      <td>tm84618</td>\n",
       "      <td>Robert De Niro</td>\n",
       "      <td>Travis Bickle</td>\n",
       "      <td>ACTOR</td>\n",
       "    </tr>\n",
       "    <tr>\n",
       "      <th>1</th>\n",
       "      <td>14658</td>\n",
       "      <td>tm84618</td>\n",
       "      <td>Jodie Foster</td>\n",
       "      <td>Iris Steensma</td>\n",
       "      <td>ACTOR</td>\n",
       "    </tr>\n",
       "    <tr>\n",
       "      <th>2</th>\n",
       "      <td>7064</td>\n",
       "      <td>tm84618</td>\n",
       "      <td>Albert Brooks</td>\n",
       "      <td>Tom</td>\n",
       "      <td>ACTOR</td>\n",
       "    </tr>\n",
       "    <tr>\n",
       "      <th>3</th>\n",
       "      <td>3739</td>\n",
       "      <td>tm84618</td>\n",
       "      <td>Harvey Keitel</td>\n",
       "      <td>Matthew 'Sport' Higgins</td>\n",
       "      <td>ACTOR</td>\n",
       "    </tr>\n",
       "    <tr>\n",
       "      <th>4</th>\n",
       "      <td>48933</td>\n",
       "      <td>tm84618</td>\n",
       "      <td>Cybill Shepherd</td>\n",
       "      <td>Betsy</td>\n",
       "      <td>ACTOR</td>\n",
       "    </tr>\n",
       "  </tbody>\n",
       "</table>\n",
       "</div>"
      ],
      "text/plain": [
       "   person_id       id             name                character   role\n",
       "0       3748  tm84618   Robert De Niro            Travis Bickle  ACTOR\n",
       "1      14658  tm84618     Jodie Foster            Iris Steensma  ACTOR\n",
       "2       7064  tm84618    Albert Brooks                      Tom  ACTOR\n",
       "3       3739  tm84618    Harvey Keitel  Matthew 'Sport' Higgins  ACTOR\n",
       "4      48933  tm84618  Cybill Shepherd                    Betsy  ACTOR"
      ]
     },
     "execution_count": 5,
     "metadata": {},
     "output_type": "execute_result"
    }
   ],
   "source": [
    "actor.head()"
   ]
  },
  {
   "cell_type": "code",
   "execution_count": 8,
   "metadata": {},
   "outputs": [],
   "source": [
    "cast = pd.read_csv('../data/Net_actors_clean.csv', encoding='utf-8', encoding_errors='ignore') "
   ]
  },
  {
   "cell_type": "code",
   "execution_count": 11,
   "metadata": {},
   "outputs": [],
   "source": [
    "cast = cast.drop(['id','character', 'role'], axis= 1)"
   ]
  },
  {
   "cell_type": "code",
   "execution_count": 15,
   "metadata": {},
   "outputs": [
    {
     "ename": "AttributeError",
     "evalue": "'function' object has no attribute 'drop_duplicates'",
     "output_type": "error",
     "traceback": [
      "\u001b[1;31m---------------------------------------------------------------------------\u001b[0m",
      "\u001b[1;31mAttributeError\u001b[0m                            Traceback (most recent call last)",
      "Cell \u001b[1;32mIn[15], line 1\u001b[0m\n\u001b[1;32m----> 1\u001b[0m cast \u001b[39m=\u001b[39m cast\u001b[39m.\u001b[39;49mdrop_duplicates()\n",
      "\u001b[1;31mAttributeError\u001b[0m: 'function' object has no attribute 'drop_duplicates'"
     ]
    }
   ],
   "source": [
    "cast = cast.drop_duplicates()"
   ]
  },
  {
   "attachments": {},
   "cell_type": "markdown",
   "metadata": {},
   "source": [
    "                Visualización de datos"
   ]
  },
  {
   "cell_type": "code",
   "execution_count": 22,
   "metadata": {},
   "outputs": [],
   "source": [
    "film = pd.read_csv('../data/Net_titles_clean.csv', encoding='utf-8', encoding_errors='ignore')"
   ]
  },
  {
   "cell_type": "code",
   "execution_count": 23,
   "metadata": {},
   "outputs": [],
   "source": [
    "# Definimos la función filtrar_gen para quitar del gráfico aquellos géneros y subgéneros que representen una minoría\n",
    "def filtrar_gen(df, col, thresh):\n",
    "    counts = df[col].value_counts()\n",
    "    mask = df[col].isin(counts[counts > thresh].index)\n",
    "    return df[mask]"
   ]
  },
  {
   "cell_type": "code",
   "execution_count": 24,
   "metadata": {},
   "outputs": [],
   "source": [
    "# Vamos a crear un nuevo df cuyas columnas sean el género y el subgénero de de las películas\n",
    "film['genres'] = film['genres'].str.strip('[]').str.replace(\"'\", '').str.split(', ')\n",
    "film_gen = film['genres'].apply(pd.Series).rename(columns = lambda x : 'genre_' + str(x))\n",
    "df_sunburst = pd.concat([film_gen['genre_0'], film_gen['genre_1'], film_gen['genre_2']], axis=1)\n",
    "df_sunburst.columns = ['Level 1', 'Level 2', 'Level 3']\n"
   ]
  },
  {
   "cell_type": "code",
   "execution_count": 25,
   "metadata": {},
   "outputs": [],
   "source": [
    "# Eliminamos los nulos de los subgéneros, ya que representan que género y subgénero coinciden\n",
    "\n",
    "df_sunburst = df_sunburst.dropna(subset=['Level 3'])\n",
    "df_sunburst = df_sunburst.dropna(subset=['Level 2'])\n",
    "\n"
   ]
  },
  {
   "cell_type": "code",
   "execution_count": 26,
   "metadata": {},
   "outputs": [],
   "source": [
    "# definimos un thresh con un umbral de 50 valores únicos para no tener en cuenta aquellos géneros y subgéneros que son poco representativos y que molestan visualmente\n",
    "df_sunburst = filtrar_gen(df_sunburst, 'Level 2', 50)   \n",
    "df_sunburst = filtrar_gen(df_sunburst, 'Level 1', 50)"
   ]
  },
  {
   "cell_type": "code",
   "execution_count": 27,
   "metadata": {},
   "outputs": [
    {
     "data": {
      "application/vnd.plotly.v1+json": {
       "config": {
        "plotlyServerURL": "https://plot.ly"
       },
       "data": [
        {
         "branchvalues": "total",
         "domain": {
          "x": [
           0,
           1
          ],
          "y": [
           0,
           1
          ]
         },
         "hovertemplate": "labels=%{label}<br>count=%{value}<br>parent=%{parent}<br>id=%{id}<extra></extra>",
         "ids": [
          "animation/action",
          "comedy/action",
          "crime/action",
          "documentation/action",
          "drama/action",
          "family/action",
          "fantasy/action",
          "horror/action",
          "romance/action",
          "scifi/action",
          "thriller/action",
          "action/animation",
          "comedy/animation",
          "drama/animation",
          "family/animation",
          "fantasy/animation",
          "scifi/animation",
          "thriller/animation",
          "action/comedy",
          "animation/comedy",
          "crime/comedy",
          "documentation/comedy",
          "drama/comedy",
          "family/comedy",
          "fantasy/comedy",
          "horror/comedy",
          "romance/comedy",
          "scifi/comedy",
          "thriller/comedy",
          "action/crime",
          "comedy/crime",
          "documentation/crime",
          "drama/crime",
          "family/crime",
          "horror/crime",
          "romance/crime",
          "scifi/crime",
          "thriller/crime",
          "action/drama",
          "animation/drama",
          "comedy/drama",
          "crime/drama",
          "documentation/drama",
          "family/drama",
          "fantasy/drama",
          "horror/drama",
          "romance/drama",
          "scifi/drama",
          "thriller/drama",
          "action/family",
          "animation/family",
          "comedy/family",
          "documentation/family",
          "drama/family",
          "fantasy/family",
          "romance/family",
          "scifi/family",
          "thriller/family",
          "action/fantasy",
          "animation/fantasy",
          "comedy/fantasy",
          "crime/fantasy",
          "documentation/fantasy",
          "drama/fantasy",
          "family/fantasy",
          "horror/fantasy",
          "scifi/fantasy",
          "thriller/fantasy",
          "action/history",
          "crime/history",
          "documentation/history",
          "drama/history",
          "romance/history",
          "thriller/history",
          "action/horror",
          "comedy/horror",
          "documentation/horror",
          "drama/horror",
          "fantasy/horror",
          "scifi/horror",
          "thriller/horror",
          "action/romance",
          "animation/romance",
          "comedy/romance",
          "crime/romance",
          "drama/romance",
          "family/romance",
          "fantasy/romance",
          "scifi/romance",
          "thriller/romance",
          "action/scifi",
          "animation/scifi",
          "comedy/scifi",
          "crime/scifi",
          "documentation/scifi",
          "drama/scifi",
          "fantasy/scifi",
          "horror/scifi",
          "thriller/scifi",
          "action/thriller",
          "animation/thriller",
          "comedy/thriller",
          "crime/thriller",
          "documentation/thriller",
          "drama/thriller",
          "fantasy/thriller",
          "horror/thriller",
          "romance/thriller",
          "scifi/thriller",
          "action",
          "animation",
          "comedy",
          "crime",
          "documentation",
          "drama",
          "family",
          "fantasy",
          "horror",
          "romance",
          "scifi",
          "thriller"
         ],
         "labels": [
          "action",
          "action",
          "action",
          "action",
          "action",
          "action",
          "action",
          "action",
          "action",
          "action",
          "action",
          "animation",
          "animation",
          "animation",
          "animation",
          "animation",
          "animation",
          "animation",
          "comedy",
          "comedy",
          "comedy",
          "comedy",
          "comedy",
          "comedy",
          "comedy",
          "comedy",
          "comedy",
          "comedy",
          "comedy",
          "crime",
          "crime",
          "crime",
          "crime",
          "crime",
          "crime",
          "crime",
          "crime",
          "crime",
          "drama",
          "drama",
          "drama",
          "drama",
          "drama",
          "drama",
          "drama",
          "drama",
          "drama",
          "drama",
          "drama",
          "family",
          "family",
          "family",
          "family",
          "family",
          "family",
          "family",
          "family",
          "family",
          "fantasy",
          "fantasy",
          "fantasy",
          "fantasy",
          "fantasy",
          "fantasy",
          "fantasy",
          "fantasy",
          "fantasy",
          "fantasy",
          "history",
          "history",
          "history",
          "history",
          "history",
          "history",
          "horror",
          "horror",
          "horror",
          "horror",
          "horror",
          "horror",
          "horror",
          "romance",
          "romance",
          "romance",
          "romance",
          "romance",
          "romance",
          "romance",
          "romance",
          "romance",
          "scifi",
          "scifi",
          "scifi",
          "scifi",
          "scifi",
          "scifi",
          "scifi",
          "scifi",
          "scifi",
          "thriller",
          "thriller",
          "thriller",
          "thriller",
          "thriller",
          "thriller",
          "thriller",
          "thriller",
          "thriller",
          "thriller",
          "action",
          "animation",
          "comedy",
          "crime",
          "documentation",
          "drama",
          "family",
          "fantasy",
          "horror",
          "romance",
          "scifi",
          "thriller"
         ],
         "name": "",
         "parents": [
          "animation",
          "comedy",
          "crime",
          "documentation",
          "drama",
          "family",
          "fantasy",
          "horror",
          "romance",
          "scifi",
          "thriller",
          "action",
          "comedy",
          "drama",
          "family",
          "fantasy",
          "scifi",
          "thriller",
          "action",
          "animation",
          "crime",
          "documentation",
          "drama",
          "family",
          "fantasy",
          "horror",
          "romance",
          "scifi",
          "thriller",
          "action",
          "comedy",
          "documentation",
          "drama",
          "family",
          "horror",
          "romance",
          "scifi",
          "thriller",
          "action",
          "animation",
          "comedy",
          "crime",
          "documentation",
          "family",
          "fantasy",
          "horror",
          "romance",
          "scifi",
          "thriller",
          "action",
          "animation",
          "comedy",
          "documentation",
          "drama",
          "fantasy",
          "romance",
          "scifi",
          "thriller",
          "action",
          "animation",
          "comedy",
          "crime",
          "documentation",
          "drama",
          "family",
          "horror",
          "scifi",
          "thriller",
          "action",
          "crime",
          "documentation",
          "drama",
          "romance",
          "thriller",
          "action",
          "comedy",
          "documentation",
          "drama",
          "fantasy",
          "scifi",
          "thriller",
          "action",
          "animation",
          "comedy",
          "crime",
          "drama",
          "family",
          "fantasy",
          "scifi",
          "thriller",
          "action",
          "animation",
          "comedy",
          "crime",
          "documentation",
          "drama",
          "fantasy",
          "horror",
          "thriller",
          "action",
          "animation",
          "comedy",
          "crime",
          "documentation",
          "drama",
          "fantasy",
          "horror",
          "romance",
          "scifi",
          "",
          "",
          "",
          "",
          "",
          "",
          "",
          "",
          "",
          "",
          "",
          ""
         ],
         "type": "sunburst",
         "values": [
          52,
          21,
          18,
          2,
          51,
          7,
          14,
          1,
          9,
          48,
          59,
          29,
          16,
          9,
          17,
          16,
          30,
          4,
          45,
          72,
          7,
          6,
          112,
          10,
          9,
          5,
          56,
          11,
          8,
          31,
          22,
          27,
          60,
          1,
          1,
          3,
          6,
          51,
          67,
          9,
          157,
          87,
          9,
          7,
          9,
          5,
          37,
          37,
          71,
          9,
          30,
          48,
          2,
          35,
          4,
          3,
          6,
          3,
          14,
          5,
          11,
          2,
          1,
          16,
          16,
          1,
          12,
          2,
          2,
          3,
          15,
          37,
          1,
          2,
          1,
          5,
          2,
          16,
          8,
          6,
          27,
          1,
          1,
          45,
          2,
          79,
          3,
          1,
          3,
          4,
          32,
          10,
          9,
          2,
          2,
          34,
          4,
          4,
          4,
          38,
          3,
          8,
          23,
          6,
          103,
          5,
          38,
          8,
          46,
          269,
          182,
          342,
          144,
          72,
          552,
          61,
          70,
          55,
          117,
          205,
          235
         ]
        }
       ],
       "layout": {
        "height": 600,
        "legend": {
         "tracegroupgap": 0
        },
        "margin": {
         "t": 60
        },
        "template": {
         "data": {
          "bar": [
           {
            "error_x": {
             "color": "#2a3f5f"
            },
            "error_y": {
             "color": "#2a3f5f"
            },
            "marker": {
             "line": {
              "color": "#E5ECF6",
              "width": 0.5
             },
             "pattern": {
              "fillmode": "overlay",
              "size": 10,
              "solidity": 0.2
             }
            },
            "type": "bar"
           }
          ],
          "barpolar": [
           {
            "marker": {
             "line": {
              "color": "#E5ECF6",
              "width": 0.5
             },
             "pattern": {
              "fillmode": "overlay",
              "size": 10,
              "solidity": 0.2
             }
            },
            "type": "barpolar"
           }
          ],
          "carpet": [
           {
            "aaxis": {
             "endlinecolor": "#2a3f5f",
             "gridcolor": "white",
             "linecolor": "white",
             "minorgridcolor": "white",
             "startlinecolor": "#2a3f5f"
            },
            "baxis": {
             "endlinecolor": "#2a3f5f",
             "gridcolor": "white",
             "linecolor": "white",
             "minorgridcolor": "white",
             "startlinecolor": "#2a3f5f"
            },
            "type": "carpet"
           }
          ],
          "choropleth": [
           {
            "colorbar": {
             "outlinewidth": 0,
             "ticks": ""
            },
            "type": "choropleth"
           }
          ],
          "contour": [
           {
            "colorbar": {
             "outlinewidth": 0,
             "ticks": ""
            },
            "colorscale": [
             [
              0,
              "#0d0887"
             ],
             [
              0.1111111111111111,
              "#46039f"
             ],
             [
              0.2222222222222222,
              "#7201a8"
             ],
             [
              0.3333333333333333,
              "#9c179e"
             ],
             [
              0.4444444444444444,
              "#bd3786"
             ],
             [
              0.5555555555555556,
              "#d8576b"
             ],
             [
              0.6666666666666666,
              "#ed7953"
             ],
             [
              0.7777777777777778,
              "#fb9f3a"
             ],
             [
              0.8888888888888888,
              "#fdca26"
             ],
             [
              1,
              "#f0f921"
             ]
            ],
            "type": "contour"
           }
          ],
          "contourcarpet": [
           {
            "colorbar": {
             "outlinewidth": 0,
             "ticks": ""
            },
            "type": "contourcarpet"
           }
          ],
          "heatmap": [
           {
            "colorbar": {
             "outlinewidth": 0,
             "ticks": ""
            },
            "colorscale": [
             [
              0,
              "#0d0887"
             ],
             [
              0.1111111111111111,
              "#46039f"
             ],
             [
              0.2222222222222222,
              "#7201a8"
             ],
             [
              0.3333333333333333,
              "#9c179e"
             ],
             [
              0.4444444444444444,
              "#bd3786"
             ],
             [
              0.5555555555555556,
              "#d8576b"
             ],
             [
              0.6666666666666666,
              "#ed7953"
             ],
             [
              0.7777777777777778,
              "#fb9f3a"
             ],
             [
              0.8888888888888888,
              "#fdca26"
             ],
             [
              1,
              "#f0f921"
             ]
            ],
            "type": "heatmap"
           }
          ],
          "heatmapgl": [
           {
            "colorbar": {
             "outlinewidth": 0,
             "ticks": ""
            },
            "colorscale": [
             [
              0,
              "#0d0887"
             ],
             [
              0.1111111111111111,
              "#46039f"
             ],
             [
              0.2222222222222222,
              "#7201a8"
             ],
             [
              0.3333333333333333,
              "#9c179e"
             ],
             [
              0.4444444444444444,
              "#bd3786"
             ],
             [
              0.5555555555555556,
              "#d8576b"
             ],
             [
              0.6666666666666666,
              "#ed7953"
             ],
             [
              0.7777777777777778,
              "#fb9f3a"
             ],
             [
              0.8888888888888888,
              "#fdca26"
             ],
             [
              1,
              "#f0f921"
             ]
            ],
            "type": "heatmapgl"
           }
          ],
          "histogram": [
           {
            "marker": {
             "pattern": {
              "fillmode": "overlay",
              "size": 10,
              "solidity": 0.2
             }
            },
            "type": "histogram"
           }
          ],
          "histogram2d": [
           {
            "colorbar": {
             "outlinewidth": 0,
             "ticks": ""
            },
            "colorscale": [
             [
              0,
              "#0d0887"
             ],
             [
              0.1111111111111111,
              "#46039f"
             ],
             [
              0.2222222222222222,
              "#7201a8"
             ],
             [
              0.3333333333333333,
              "#9c179e"
             ],
             [
              0.4444444444444444,
              "#bd3786"
             ],
             [
              0.5555555555555556,
              "#d8576b"
             ],
             [
              0.6666666666666666,
              "#ed7953"
             ],
             [
              0.7777777777777778,
              "#fb9f3a"
             ],
             [
              0.8888888888888888,
              "#fdca26"
             ],
             [
              1,
              "#f0f921"
             ]
            ],
            "type": "histogram2d"
           }
          ],
          "histogram2dcontour": [
           {
            "colorbar": {
             "outlinewidth": 0,
             "ticks": ""
            },
            "colorscale": [
             [
              0,
              "#0d0887"
             ],
             [
              0.1111111111111111,
              "#46039f"
             ],
             [
              0.2222222222222222,
              "#7201a8"
             ],
             [
              0.3333333333333333,
              "#9c179e"
             ],
             [
              0.4444444444444444,
              "#bd3786"
             ],
             [
              0.5555555555555556,
              "#d8576b"
             ],
             [
              0.6666666666666666,
              "#ed7953"
             ],
             [
              0.7777777777777778,
              "#fb9f3a"
             ],
             [
              0.8888888888888888,
              "#fdca26"
             ],
             [
              1,
              "#f0f921"
             ]
            ],
            "type": "histogram2dcontour"
           }
          ],
          "mesh3d": [
           {
            "colorbar": {
             "outlinewidth": 0,
             "ticks": ""
            },
            "type": "mesh3d"
           }
          ],
          "parcoords": [
           {
            "line": {
             "colorbar": {
              "outlinewidth": 0,
              "ticks": ""
             }
            },
            "type": "parcoords"
           }
          ],
          "pie": [
           {
            "automargin": true,
            "type": "pie"
           }
          ],
          "scatter": [
           {
            "fillpattern": {
             "fillmode": "overlay",
             "size": 10,
             "solidity": 0.2
            },
            "type": "scatter"
           }
          ],
          "scatter3d": [
           {
            "line": {
             "colorbar": {
              "outlinewidth": 0,
              "ticks": ""
             }
            },
            "marker": {
             "colorbar": {
              "outlinewidth": 0,
              "ticks": ""
             }
            },
            "type": "scatter3d"
           }
          ],
          "scattercarpet": [
           {
            "marker": {
             "colorbar": {
              "outlinewidth": 0,
              "ticks": ""
             }
            },
            "type": "scattercarpet"
           }
          ],
          "scattergeo": [
           {
            "marker": {
             "colorbar": {
              "outlinewidth": 0,
              "ticks": ""
             }
            },
            "type": "scattergeo"
           }
          ],
          "scattergl": [
           {
            "marker": {
             "colorbar": {
              "outlinewidth": 0,
              "ticks": ""
             }
            },
            "type": "scattergl"
           }
          ],
          "scattermapbox": [
           {
            "marker": {
             "colorbar": {
              "outlinewidth": 0,
              "ticks": ""
             }
            },
            "type": "scattermapbox"
           }
          ],
          "scatterpolar": [
           {
            "marker": {
             "colorbar": {
              "outlinewidth": 0,
              "ticks": ""
             }
            },
            "type": "scatterpolar"
           }
          ],
          "scatterpolargl": [
           {
            "marker": {
             "colorbar": {
              "outlinewidth": 0,
              "ticks": ""
             }
            },
            "type": "scatterpolargl"
           }
          ],
          "scatterternary": [
           {
            "marker": {
             "colorbar": {
              "outlinewidth": 0,
              "ticks": ""
             }
            },
            "type": "scatterternary"
           }
          ],
          "surface": [
           {
            "colorbar": {
             "outlinewidth": 0,
             "ticks": ""
            },
            "colorscale": [
             [
              0,
              "#0d0887"
             ],
             [
              0.1111111111111111,
              "#46039f"
             ],
             [
              0.2222222222222222,
              "#7201a8"
             ],
             [
              0.3333333333333333,
              "#9c179e"
             ],
             [
              0.4444444444444444,
              "#bd3786"
             ],
             [
              0.5555555555555556,
              "#d8576b"
             ],
             [
              0.6666666666666666,
              "#ed7953"
             ],
             [
              0.7777777777777778,
              "#fb9f3a"
             ],
             [
              0.8888888888888888,
              "#fdca26"
             ],
             [
              1,
              "#f0f921"
             ]
            ],
            "type": "surface"
           }
          ],
          "table": [
           {
            "cells": {
             "fill": {
              "color": "#EBF0F8"
             },
             "line": {
              "color": "white"
             }
            },
            "header": {
             "fill": {
              "color": "#C8D4E3"
             },
             "line": {
              "color": "white"
             }
            },
            "type": "table"
           }
          ]
         },
         "layout": {
          "annotationdefaults": {
           "arrowcolor": "#2a3f5f",
           "arrowhead": 0,
           "arrowwidth": 1
          },
          "autotypenumbers": "strict",
          "coloraxis": {
           "colorbar": {
            "outlinewidth": 0,
            "ticks": ""
           }
          },
          "colorscale": {
           "diverging": [
            [
             0,
             "#8e0152"
            ],
            [
             0.1,
             "#c51b7d"
            ],
            [
             0.2,
             "#de77ae"
            ],
            [
             0.3,
             "#f1b6da"
            ],
            [
             0.4,
             "#fde0ef"
            ],
            [
             0.5,
             "#f7f7f7"
            ],
            [
             0.6,
             "#e6f5d0"
            ],
            [
             0.7,
             "#b8e186"
            ],
            [
             0.8,
             "#7fbc41"
            ],
            [
             0.9,
             "#4d9221"
            ],
            [
             1,
             "#276419"
            ]
           ],
           "sequential": [
            [
             0,
             "#0d0887"
            ],
            [
             0.1111111111111111,
             "#46039f"
            ],
            [
             0.2222222222222222,
             "#7201a8"
            ],
            [
             0.3333333333333333,
             "#9c179e"
            ],
            [
             0.4444444444444444,
             "#bd3786"
            ],
            [
             0.5555555555555556,
             "#d8576b"
            ],
            [
             0.6666666666666666,
             "#ed7953"
            ],
            [
             0.7777777777777778,
             "#fb9f3a"
            ],
            [
             0.8888888888888888,
             "#fdca26"
            ],
            [
             1,
             "#f0f921"
            ]
           ],
           "sequentialminus": [
            [
             0,
             "#0d0887"
            ],
            [
             0.1111111111111111,
             "#46039f"
            ],
            [
             0.2222222222222222,
             "#7201a8"
            ],
            [
             0.3333333333333333,
             "#9c179e"
            ],
            [
             0.4444444444444444,
             "#bd3786"
            ],
            [
             0.5555555555555556,
             "#d8576b"
            ],
            [
             0.6666666666666666,
             "#ed7953"
            ],
            [
             0.7777777777777778,
             "#fb9f3a"
            ],
            [
             0.8888888888888888,
             "#fdca26"
            ],
            [
             1,
             "#f0f921"
            ]
           ]
          },
          "colorway": [
           "#636efa",
           "#EF553B",
           "#00cc96",
           "#ab63fa",
           "#FFA15A",
           "#19d3f3",
           "#FF6692",
           "#B6E880",
           "#FF97FF",
           "#FECB52"
          ],
          "font": {
           "color": "#2a3f5f"
          },
          "geo": {
           "bgcolor": "white",
           "lakecolor": "white",
           "landcolor": "#E5ECF6",
           "showlakes": true,
           "showland": true,
           "subunitcolor": "white"
          },
          "hoverlabel": {
           "align": "left"
          },
          "hovermode": "closest",
          "mapbox": {
           "style": "light"
          },
          "paper_bgcolor": "white",
          "plot_bgcolor": "#E5ECF6",
          "polar": {
           "angularaxis": {
            "gridcolor": "white",
            "linecolor": "white",
            "ticks": ""
           },
           "bgcolor": "#E5ECF6",
           "radialaxis": {
            "gridcolor": "white",
            "linecolor": "white",
            "ticks": ""
           }
          },
          "scene": {
           "xaxis": {
            "backgroundcolor": "#E5ECF6",
            "gridcolor": "white",
            "gridwidth": 2,
            "linecolor": "white",
            "showbackground": true,
            "ticks": "",
            "zerolinecolor": "white"
           },
           "yaxis": {
            "backgroundcolor": "#E5ECF6",
            "gridcolor": "white",
            "gridwidth": 2,
            "linecolor": "white",
            "showbackground": true,
            "ticks": "",
            "zerolinecolor": "white"
           },
           "zaxis": {
            "backgroundcolor": "#E5ECF6",
            "gridcolor": "white",
            "gridwidth": 2,
            "linecolor": "white",
            "showbackground": true,
            "ticks": "",
            "zerolinecolor": "white"
           }
          },
          "shapedefaults": {
           "line": {
            "color": "#2a3f5f"
           }
          },
          "ternary": {
           "aaxis": {
            "gridcolor": "white",
            "linecolor": "white",
            "ticks": ""
           },
           "baxis": {
            "gridcolor": "white",
            "linecolor": "white",
            "ticks": ""
           },
           "bgcolor": "#E5ECF6",
           "caxis": {
            "gridcolor": "white",
            "linecolor": "white",
            "ticks": ""
           }
          },
          "title": {
           "x": 0.05
          },
          "xaxis": {
           "automargin": true,
           "gridcolor": "white",
           "linecolor": "white",
           "ticks": "",
           "title": {
            "standoff": 15
           },
           "zerolinecolor": "white",
           "zerolinewidth": 2
          },
          "yaxis": {
           "automargin": true,
           "gridcolor": "white",
           "linecolor": "white",
           "ticks": "",
           "title": {
            "standoff": 15
           },
           "zerolinecolor": "white",
           "zerolinewidth": 2
          }
         }
        },
        "width": 600
       }
      }
     },
     "metadata": {},
     "output_type": "display_data"
    }
   ],
   "source": [
    "fig = px.sunburst(df_sunburst, path=['Level 1', 'Level 2'], width=600, height=600)\n",
    "fig.show()\n",
    "fig.write_html('../images/NET_gen_sunburst.html')\n"
   ]
  },
  {
   "cell_type": "code",
   "execution_count": 28,
   "metadata": {},
   "outputs": [
    {
     "data": {
      "application/vnd.plotly.v1+json": {
       "config": {
        "plotlyServerURL": "https://plot.ly"
       },
       "data": [
        {
         "branchvalues": "total",
         "domain": {
          "x": [
           0,
           1
          ],
          "y": [
           0,
           1
          ]
         },
         "hovertemplate": "labels=%{label}<br>count=%{value}<br>parent=%{parent}<br>id=%{id}<extra></extra>",
         "ids": [
          "animation/action",
          "comedy/action",
          "drama/action",
          "horror/action",
          "scifi/action",
          "thriller/action",
          "action/animation",
          "comedy/animation",
          "drama/animation",
          "horror/animation",
          "scifi/animation",
          "thriller/animation",
          "action/comedy",
          "animation/comedy",
          "drama/comedy",
          "horror/comedy",
          "scifi/comedy",
          "thriller/comedy",
          "action/crime",
          "comedy/crime",
          "drama/crime",
          "horror/crime",
          "scifi/crime",
          "thriller/crime",
          "action/drama",
          "animation/drama",
          "comedy/drama",
          "horror/drama",
          "scifi/drama",
          "thriller/drama",
          "animation/european",
          "comedy/european",
          "drama/european",
          "horror/european",
          "thriller/european",
          "action/family",
          "animation/family",
          "comedy/family",
          "drama/family",
          "scifi/family",
          "action/fantasy",
          "animation/fantasy",
          "comedy/fantasy",
          "drama/fantasy",
          "horror/fantasy",
          "scifi/fantasy",
          "thriller/fantasy",
          "comedy/romance",
          "drama/romance",
          "horror/romance",
          "thriller/romance",
          "action/scifi",
          "animation/scifi",
          "comedy/scifi",
          "drama/scifi",
          "horror/scifi",
          "thriller/scifi",
          "action/thriller",
          "animation/thriller",
          "comedy/thriller",
          "drama/thriller",
          "horror/thriller",
          "scifi/thriller",
          "action",
          "animation",
          "comedy",
          "drama",
          "horror",
          "scifi",
          "thriller"
         ],
         "labels": [
          "action",
          "action",
          "action",
          "action",
          "action",
          "action",
          "animation",
          "animation",
          "animation",
          "animation",
          "animation",
          "animation",
          "comedy",
          "comedy",
          "comedy",
          "comedy",
          "comedy",
          "comedy",
          "crime",
          "crime",
          "crime",
          "crime",
          "crime",
          "crime",
          "drama",
          "drama",
          "drama",
          "drama",
          "drama",
          "drama",
          "european",
          "european",
          "european",
          "european",
          "european",
          "family",
          "family",
          "family",
          "family",
          "family",
          "fantasy",
          "fantasy",
          "fantasy",
          "fantasy",
          "fantasy",
          "fantasy",
          "fantasy",
          "romance",
          "romance",
          "romance",
          "romance",
          "scifi",
          "scifi",
          "scifi",
          "scifi",
          "scifi",
          "scifi",
          "thriller",
          "thriller",
          "thriller",
          "thriller",
          "thriller",
          "thriller",
          "action",
          "animation",
          "comedy",
          "drama",
          "horror",
          "scifi",
          "thriller"
         ],
         "name": "",
         "parents": [
          "animation",
          "comedy",
          "drama",
          "horror",
          "scifi",
          "thriller",
          "action",
          "comedy",
          "drama",
          "horror",
          "scifi",
          "thriller",
          "action",
          "animation",
          "drama",
          "horror",
          "scifi",
          "thriller",
          "action",
          "comedy",
          "drama",
          "horror",
          "scifi",
          "thriller",
          "action",
          "animation",
          "comedy",
          "horror",
          "scifi",
          "thriller",
          "animation",
          "comedy",
          "drama",
          "horror",
          "thriller",
          "action",
          "animation",
          "comedy",
          "drama",
          "scifi",
          "action",
          "animation",
          "comedy",
          "drama",
          "horror",
          "scifi",
          "thriller",
          "comedy",
          "drama",
          "horror",
          "thriller",
          "action",
          "animation",
          "comedy",
          "drama",
          "horror",
          "thriller",
          "action",
          "animation",
          "comedy",
          "drama",
          "horror",
          "scifi",
          "",
          "",
          "",
          "",
          "",
          "",
          ""
         ],
         "type": "sunburst",
         "values": [
          15,
          18,
          22,
          3,
          25,
          31,
          10,
          21,
          3,
          1,
          4,
          1,
          13,
          20,
          55,
          1,
          8,
          5,
          16,
          15,
          30,
          1,
          2,
          20,
          23,
          3,
          78,
          4,
          13,
          44,
          1,
          3,
          55,
          2,
          3,
          8,
          6,
          30,
          7,
          3,
          10,
          5,
          9,
          13,
          2,
          3,
          3,
          19,
          57,
          1,
          1,
          17,
          5,
          9,
          13,
          6,
          8,
          25,
          3,
          7,
          76,
          21,
          9,
          122,
          58,
          209,
          331,
          42,
          67,
          116
         ]
        }
       ],
       "layout": {
        "height": 600,
        "legend": {
         "tracegroupgap": 0
        },
        "margin": {
         "t": 60
        },
        "template": {
         "data": {
          "bar": [
           {
            "error_x": {
             "color": "#2a3f5f"
            },
            "error_y": {
             "color": "#2a3f5f"
            },
            "marker": {
             "line": {
              "color": "#E5ECF6",
              "width": 0.5
             },
             "pattern": {
              "fillmode": "overlay",
              "size": 10,
              "solidity": 0.2
             }
            },
            "type": "bar"
           }
          ],
          "barpolar": [
           {
            "marker": {
             "line": {
              "color": "#E5ECF6",
              "width": 0.5
             },
             "pattern": {
              "fillmode": "overlay",
              "size": 10,
              "solidity": 0.2
             }
            },
            "type": "barpolar"
           }
          ],
          "carpet": [
           {
            "aaxis": {
             "endlinecolor": "#2a3f5f",
             "gridcolor": "white",
             "linecolor": "white",
             "minorgridcolor": "white",
             "startlinecolor": "#2a3f5f"
            },
            "baxis": {
             "endlinecolor": "#2a3f5f",
             "gridcolor": "white",
             "linecolor": "white",
             "minorgridcolor": "white",
             "startlinecolor": "#2a3f5f"
            },
            "type": "carpet"
           }
          ],
          "choropleth": [
           {
            "colorbar": {
             "outlinewidth": 0,
             "ticks": ""
            },
            "type": "choropleth"
           }
          ],
          "contour": [
           {
            "colorbar": {
             "outlinewidth": 0,
             "ticks": ""
            },
            "colorscale": [
             [
              0,
              "#0d0887"
             ],
             [
              0.1111111111111111,
              "#46039f"
             ],
             [
              0.2222222222222222,
              "#7201a8"
             ],
             [
              0.3333333333333333,
              "#9c179e"
             ],
             [
              0.4444444444444444,
              "#bd3786"
             ],
             [
              0.5555555555555556,
              "#d8576b"
             ],
             [
              0.6666666666666666,
              "#ed7953"
             ],
             [
              0.7777777777777778,
              "#fb9f3a"
             ],
             [
              0.8888888888888888,
              "#fdca26"
             ],
             [
              1,
              "#f0f921"
             ]
            ],
            "type": "contour"
           }
          ],
          "contourcarpet": [
           {
            "colorbar": {
             "outlinewidth": 0,
             "ticks": ""
            },
            "type": "contourcarpet"
           }
          ],
          "heatmap": [
           {
            "colorbar": {
             "outlinewidth": 0,
             "ticks": ""
            },
            "colorscale": [
             [
              0,
              "#0d0887"
             ],
             [
              0.1111111111111111,
              "#46039f"
             ],
             [
              0.2222222222222222,
              "#7201a8"
             ],
             [
              0.3333333333333333,
              "#9c179e"
             ],
             [
              0.4444444444444444,
              "#bd3786"
             ],
             [
              0.5555555555555556,
              "#d8576b"
             ],
             [
              0.6666666666666666,
              "#ed7953"
             ],
             [
              0.7777777777777778,
              "#fb9f3a"
             ],
             [
              0.8888888888888888,
              "#fdca26"
             ],
             [
              1,
              "#f0f921"
             ]
            ],
            "type": "heatmap"
           }
          ],
          "heatmapgl": [
           {
            "colorbar": {
             "outlinewidth": 0,
             "ticks": ""
            },
            "colorscale": [
             [
              0,
              "#0d0887"
             ],
             [
              0.1111111111111111,
              "#46039f"
             ],
             [
              0.2222222222222222,
              "#7201a8"
             ],
             [
              0.3333333333333333,
              "#9c179e"
             ],
             [
              0.4444444444444444,
              "#bd3786"
             ],
             [
              0.5555555555555556,
              "#d8576b"
             ],
             [
              0.6666666666666666,
              "#ed7953"
             ],
             [
              0.7777777777777778,
              "#fb9f3a"
             ],
             [
              0.8888888888888888,
              "#fdca26"
             ],
             [
              1,
              "#f0f921"
             ]
            ],
            "type": "heatmapgl"
           }
          ],
          "histogram": [
           {
            "marker": {
             "pattern": {
              "fillmode": "overlay",
              "size": 10,
              "solidity": 0.2
             }
            },
            "type": "histogram"
           }
          ],
          "histogram2d": [
           {
            "colorbar": {
             "outlinewidth": 0,
             "ticks": ""
            },
            "colorscale": [
             [
              0,
              "#0d0887"
             ],
             [
              0.1111111111111111,
              "#46039f"
             ],
             [
              0.2222222222222222,
              "#7201a8"
             ],
             [
              0.3333333333333333,
              "#9c179e"
             ],
             [
              0.4444444444444444,
              "#bd3786"
             ],
             [
              0.5555555555555556,
              "#d8576b"
             ],
             [
              0.6666666666666666,
              "#ed7953"
             ],
             [
              0.7777777777777778,
              "#fb9f3a"
             ],
             [
              0.8888888888888888,
              "#fdca26"
             ],
             [
              1,
              "#f0f921"
             ]
            ],
            "type": "histogram2d"
           }
          ],
          "histogram2dcontour": [
           {
            "colorbar": {
             "outlinewidth": 0,
             "ticks": ""
            },
            "colorscale": [
             [
              0,
              "#0d0887"
             ],
             [
              0.1111111111111111,
              "#46039f"
             ],
             [
              0.2222222222222222,
              "#7201a8"
             ],
             [
              0.3333333333333333,
              "#9c179e"
             ],
             [
              0.4444444444444444,
              "#bd3786"
             ],
             [
              0.5555555555555556,
              "#d8576b"
             ],
             [
              0.6666666666666666,
              "#ed7953"
             ],
             [
              0.7777777777777778,
              "#fb9f3a"
             ],
             [
              0.8888888888888888,
              "#fdca26"
             ],
             [
              1,
              "#f0f921"
             ]
            ],
            "type": "histogram2dcontour"
           }
          ],
          "mesh3d": [
           {
            "colorbar": {
             "outlinewidth": 0,
             "ticks": ""
            },
            "type": "mesh3d"
           }
          ],
          "parcoords": [
           {
            "line": {
             "colorbar": {
              "outlinewidth": 0,
              "ticks": ""
             }
            },
            "type": "parcoords"
           }
          ],
          "pie": [
           {
            "automargin": true,
            "type": "pie"
           }
          ],
          "scatter": [
           {
            "fillpattern": {
             "fillmode": "overlay",
             "size": 10,
             "solidity": 0.2
            },
            "type": "scatter"
           }
          ],
          "scatter3d": [
           {
            "line": {
             "colorbar": {
              "outlinewidth": 0,
              "ticks": ""
             }
            },
            "marker": {
             "colorbar": {
              "outlinewidth": 0,
              "ticks": ""
             }
            },
            "type": "scatter3d"
           }
          ],
          "scattercarpet": [
           {
            "marker": {
             "colorbar": {
              "outlinewidth": 0,
              "ticks": ""
             }
            },
            "type": "scattercarpet"
           }
          ],
          "scattergeo": [
           {
            "marker": {
             "colorbar": {
              "outlinewidth": 0,
              "ticks": ""
             }
            },
            "type": "scattergeo"
           }
          ],
          "scattergl": [
           {
            "marker": {
             "colorbar": {
              "outlinewidth": 0,
              "ticks": ""
             }
            },
            "type": "scattergl"
           }
          ],
          "scattermapbox": [
           {
            "marker": {
             "colorbar": {
              "outlinewidth": 0,
              "ticks": ""
             }
            },
            "type": "scattermapbox"
           }
          ],
          "scatterpolar": [
           {
            "marker": {
             "colorbar": {
              "outlinewidth": 0,
              "ticks": ""
             }
            },
            "type": "scatterpolar"
           }
          ],
          "scatterpolargl": [
           {
            "marker": {
             "colorbar": {
              "outlinewidth": 0,
              "ticks": ""
             }
            },
            "type": "scatterpolargl"
           }
          ],
          "scatterternary": [
           {
            "marker": {
             "colorbar": {
              "outlinewidth": 0,
              "ticks": ""
             }
            },
            "type": "scatterternary"
           }
          ],
          "surface": [
           {
            "colorbar": {
             "outlinewidth": 0,
             "ticks": ""
            },
            "colorscale": [
             [
              0,
              "#0d0887"
             ],
             [
              0.1111111111111111,
              "#46039f"
             ],
             [
              0.2222222222222222,
              "#7201a8"
             ],
             [
              0.3333333333333333,
              "#9c179e"
             ],
             [
              0.4444444444444444,
              "#bd3786"
             ],
             [
              0.5555555555555556,
              "#d8576b"
             ],
             [
              0.6666666666666666,
              "#ed7953"
             ],
             [
              0.7777777777777778,
              "#fb9f3a"
             ],
             [
              0.8888888888888888,
              "#fdca26"
             ],
             [
              1,
              "#f0f921"
             ]
            ],
            "type": "surface"
           }
          ],
          "table": [
           {
            "cells": {
             "fill": {
              "color": "#EBF0F8"
             },
             "line": {
              "color": "white"
             }
            },
            "header": {
             "fill": {
              "color": "#C8D4E3"
             },
             "line": {
              "color": "white"
             }
            },
            "type": "table"
           }
          ]
         },
         "layout": {
          "annotationdefaults": {
           "arrowcolor": "#2a3f5f",
           "arrowhead": 0,
           "arrowwidth": 1
          },
          "autotypenumbers": "strict",
          "coloraxis": {
           "colorbar": {
            "outlinewidth": 0,
            "ticks": ""
           }
          },
          "colorscale": {
           "diverging": [
            [
             0,
             "#8e0152"
            ],
            [
             0.1,
             "#c51b7d"
            ],
            [
             0.2,
             "#de77ae"
            ],
            [
             0.3,
             "#f1b6da"
            ],
            [
             0.4,
             "#fde0ef"
            ],
            [
             0.5,
             "#f7f7f7"
            ],
            [
             0.6,
             "#e6f5d0"
            ],
            [
             0.7,
             "#b8e186"
            ],
            [
             0.8,
             "#7fbc41"
            ],
            [
             0.9,
             "#4d9221"
            ],
            [
             1,
             "#276419"
            ]
           ],
           "sequential": [
            [
             0,
             "#0d0887"
            ],
            [
             0.1111111111111111,
             "#46039f"
            ],
            [
             0.2222222222222222,
             "#7201a8"
            ],
            [
             0.3333333333333333,
             "#9c179e"
            ],
            [
             0.4444444444444444,
             "#bd3786"
            ],
            [
             0.5555555555555556,
             "#d8576b"
            ],
            [
             0.6666666666666666,
             "#ed7953"
            ],
            [
             0.7777777777777778,
             "#fb9f3a"
            ],
            [
             0.8888888888888888,
             "#fdca26"
            ],
            [
             1,
             "#f0f921"
            ]
           ],
           "sequentialminus": [
            [
             0,
             "#0d0887"
            ],
            [
             0.1111111111111111,
             "#46039f"
            ],
            [
             0.2222222222222222,
             "#7201a8"
            ],
            [
             0.3333333333333333,
             "#9c179e"
            ],
            [
             0.4444444444444444,
             "#bd3786"
            ],
            [
             0.5555555555555556,
             "#d8576b"
            ],
            [
             0.6666666666666666,
             "#ed7953"
            ],
            [
             0.7777777777777778,
             "#fb9f3a"
            ],
            [
             0.8888888888888888,
             "#fdca26"
            ],
            [
             1,
             "#f0f921"
            ]
           ]
          },
          "colorway": [
           "#636efa",
           "#EF553B",
           "#00cc96",
           "#ab63fa",
           "#FFA15A",
           "#19d3f3",
           "#FF6692",
           "#B6E880",
           "#FF97FF",
           "#FECB52"
          ],
          "font": {
           "color": "#2a3f5f"
          },
          "geo": {
           "bgcolor": "white",
           "lakecolor": "white",
           "landcolor": "#E5ECF6",
           "showlakes": true,
           "showland": true,
           "subunitcolor": "white"
          },
          "hoverlabel": {
           "align": "left"
          },
          "hovermode": "closest",
          "mapbox": {
           "style": "light"
          },
          "paper_bgcolor": "white",
          "plot_bgcolor": "#E5ECF6",
          "polar": {
           "angularaxis": {
            "gridcolor": "white",
            "linecolor": "white",
            "ticks": ""
           },
           "bgcolor": "#E5ECF6",
           "radialaxis": {
            "gridcolor": "white",
            "linecolor": "white",
            "ticks": ""
           }
          },
          "scene": {
           "xaxis": {
            "backgroundcolor": "#E5ECF6",
            "gridcolor": "white",
            "gridwidth": 2,
            "linecolor": "white",
            "showbackground": true,
            "ticks": "",
            "zerolinecolor": "white"
           },
           "yaxis": {
            "backgroundcolor": "#E5ECF6",
            "gridcolor": "white",
            "gridwidth": 2,
            "linecolor": "white",
            "showbackground": true,
            "ticks": "",
            "zerolinecolor": "white"
           },
           "zaxis": {
            "backgroundcolor": "#E5ECF6",
            "gridcolor": "white",
            "gridwidth": 2,
            "linecolor": "white",
            "showbackground": true,
            "ticks": "",
            "zerolinecolor": "white"
           }
          },
          "shapedefaults": {
           "line": {
            "color": "#2a3f5f"
           }
          },
          "ternary": {
           "aaxis": {
            "gridcolor": "white",
            "linecolor": "white",
            "ticks": ""
           },
           "baxis": {
            "gridcolor": "white",
            "linecolor": "white",
            "ticks": ""
           },
           "bgcolor": "#E5ECF6",
           "caxis": {
            "gridcolor": "white",
            "linecolor": "white",
            "ticks": ""
           }
          },
          "title": {
           "x": 0.05
          },
          "xaxis": {
           "automargin": true,
           "gridcolor": "white",
           "linecolor": "white",
           "ticks": "",
           "title": {
            "standoff": 15
           },
           "zerolinecolor": "white",
           "zerolinewidth": 2
          },
          "yaxis": {
           "automargin": true,
           "gridcolor": "white",
           "linecolor": "white",
           "ticks": "",
           "title": {
            "standoff": 15
           },
           "zerolinecolor": "white",
           "zerolinewidth": 2
          }
         }
        },
        "width": 600
       }
      }
     },
     "metadata": {},
     "output_type": "display_data"
    }
   ],
   "source": [
    "film = pd.read_csv('../data/HBO_titles_clean.csv', encoding='utf-8', encoding_errors='ignore')\n",
    "\n",
    "film['genres'] = film['genres'].str.strip('[]').str.replace(\"'\", '').str.split(', ')\n",
    "film_gen = film['genres'].apply(pd.Series).rename(columns = lambda x : 'genre_' + str(x))\n",
    "\n",
    "df_sunburst = pd.concat([film_gen['genre_0'], film_gen['genre_1'], film_gen['genre_2']], axis=1)\n",
    "df_sunburst.columns = ['Level 1', 'Level 2', 'Level 3']\n",
    "\n",
    "df_sunburst = df_sunburst.dropna(subset=['Level 3'])\n",
    "df_sunburst = df_sunburst.dropna(subset=['Level 2'])\n",
    "\n",
    "df_sunburst = filtrar_gen(df_sunburst, 'Level 2', 40)  \n",
    "df_sunburst = filtrar_gen(df_sunburst, 'Level 1', 40)\n",
    "\n",
    "fig = px.sunburst(df_sunburst, path=['Level 1', 'Level 2'], width=600, height=600)\n",
    "\n",
    "fig.show()\n",
    "fig.write_html('../images/HBO_gen_sunburst.html')"
   ]
  },
  {
   "cell_type": "code",
   "execution_count": null,
   "metadata": {},
   "outputs": [],
   "source": []
  }
 ],
 "metadata": {
  "kernelspec": {
   "display_name": "ETL",
   "language": "python",
   "name": "python3"
  },
  "language_info": {
   "codemirror_mode": {
    "name": "ipython",
    "version": 3
   },
   "file_extension": ".py",
   "mimetype": "text/x-python",
   "name": "python",
   "nbconvert_exporter": "python",
   "pygments_lexer": "ipython3",
   "version": "3.9.16"
  },
  "orig_nbformat": 4
 },
 "nbformat": 4,
 "nbformat_minor": 2
}

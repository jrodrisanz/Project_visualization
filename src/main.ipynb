{
 "cells": [
  {
   "cell_type": "code",
   "execution_count": 3,
   "metadata": {},
   "outputs": [],
   "source": [
    "import pandas as pd\n",
    "import numpy as np\n",
    "import seaborn as sns\n",
    "import pylab as plt\n",
    "import json\n",
    "import time\n",
    "import requests\n",
    "import warnings\n",
    "from bs4 import BeautifulSoup\n",
    "from tqdm import tqdm\n",
    "import requests\n",
    "from joblib import Parallel, delayed\n",
    "from tqdm_joblib import tqdm_joblib\n",
    "import plotly.express as px\n",
    "from tqdm.autonotebook import tqdm\n",
    "warnings.filterwarnings('ignore')\n"
   ]
  },
  {
   "attachments": {},
   "cell_type": "markdown",
   "metadata": {},
   "source": [
    "                Extracción, transformación y limpieza de datos del dataset de películas, series y documentales de Netflix"
   ]
  },
  {
   "cell_type": "code",
   "execution_count": 3,
   "metadata": {},
   "outputs": [],
   "source": [
    "film = pd.read_csv('../data/Net_titles.csv', encoding='utf-8', encoding_errors='ignore')\n",
    "actor = pd.read_csv('../data/Net_credits.csv', encoding='utf-8', encoding_errors='ignore') "
   ]
  },
  {
   "cell_type": "code",
   "execution_count": 4,
   "metadata": {},
   "outputs": [],
   "source": [
    "# Para rellenar los valores nulos de la columna Age_certification. Si pertenece a los siguientes géneros se asumirá que la certificación de edad es R (+17)\n",
    "def fill_age_null(row):\n",
    "    if pd.isna(row['age_certification']):\n",
    "        if 'thriller' in row['genres'] or 'horror' in row['genres'] or 'black comedy' in row['genres']:\n",
    "            return 'R'\n",
    "    return row['age_certification']\n",
    "\n",
    "film['age_certification'] = film.apply(lambda row: fill_age_null(row), axis=1)"
   ]
  },
  {
   "cell_type": "code",
   "execution_count": 5,
   "metadata": {},
   "outputs": [],
   "source": [
    "# Eliminamos los valores nulos de las columnas relacionados con IMDB y TMDB, ya que sin el imdb_id es imposible analizarlos\n",
    "# Rellenamos los valores nulos de la columna seasons con '-1'\n",
    "# Rellenamos los valores nulos de la columna character del df 'actor' con la palabra 'unknown'\n",
    "# Rellenamos los valores nulos de la columna description con 'unknown'\n",
    "# Rellenamos los valores nulos de la columna age_certification con 'unknown'\n",
    "\n",
    "film.dropna(subset=['imdb_id', 'imdb_score', 'imdb_votes', 'tmdb_popularity', 'tmdb_score'], inplace=True)\n",
    "film['age_certification'] = film['age_certification'].fillna('unknown')\n",
    "film['seasons'] = film['seasons'].fillna('-1')\n",
    "film['description'] = film['description'].fillna('unknown')\n",
    "actor['character'] = actor['character'].fillna('unknown')\n",
    "\n"
   ]
  },
  {
   "cell_type": "code",
   "execution_count": 8,
   "metadata": {},
   "outputs": [
    {
     "name": "stderr",
     "output_type": "stream",
     "text": [
      "100%|██████████| 5131/5131 [14:34<00:00,  5.87it/s]\n"
     ]
    }
   ],
   "source": [
    "from joblib import Parallel, delayed\n",
    "from tqdm import tqdm\n",
    "\n",
    "def extract_reviews_and_ratings(imdb_id):\n",
    "    url = f'https://www.imdb.com/title/{imdb_id}/reviews?ref_=tt_ov_rt' \n",
    "    response = requests.get(url)\n",
    "    if response.status_code == 200:\n",
    "        soup = BeautifulSoup(response.text, 'html.parser')\n",
    "        reviews = soup.find_all('div', {'class': 'text show-more__control'})  \n",
    "        ratings = soup.find_all('span', {'class': 'rating-other-user-rating'})\n",
    "        results = []                                        # crea la lista para almacenar los resultados\n",
    "        for rev, rat in zip(reviews, ratings):              # itera sobre reviews y rating a la vez\n",
    "            rev_div = rev.find_parent('div', {'class': 'lister-item-content'})  \n",
    "            rev_title = rev_div.find('a', {'class': 'title'}).text.strip() if rev_div.find('a', {'class': 'title'}) else 'No title'\n",
    "            rat_title = rat.text.strip() if rat else 'Sin calificación'\n",
    "            results.append((imdb_id, rev_title, rat_title))\n",
    "        return results\n",
    "    else:\n",
    "        print(f'Error al obtener comentarios de la película con IMDB ID {imdb_id}')\n",
    "        return []\n",
    "\n",
    "if __name__ == '__main__':\n",
    "    imdb_ids = film['imdb_id'].tolist()                                                                                         #pasamos la columna del df a lista\n",
    "    reviews_and_ratings = Parallel(n_jobs=-1)(delayed(extract_reviews_and_ratings)(imdb_id) for imdb_id in tqdm(imdb_ids))      #extraemos en paralelo las reviews y ratings de cada id\n",
    "    reviews_and_ratings = [review for sublist in reviews_and_ratings for review in sublist]                                     #aplanamos la lista de listas 'reviews_and_ratings'\n",
    "    com_rev = pd.DataFrame(reviews_and_ratings, columns=['id', 'review_title', 'rating_title'])\n",
    "\n"
   ]
  },
  {
   "cell_type": "code",
   "execution_count": 20,
   "metadata": {},
   "outputs": [],
   "source": [
    "#com_rev.to_csv('../data/Net_comments.csv', index=False)\n",
    "#film.to_csv('../data/Net_titles_clean.csv', index=False)\n",
    "#actor.to_csv('../data/Net_actors_clean.csv', index=False)"
   ]
  },
  {
   "attachments": {},
   "cell_type": "markdown",
   "metadata": {},
   "source": [
    "                Realizamos el mismo proceso con las tablas de HBO"
   ]
  },
  {
   "cell_type": "code",
   "execution_count": 24,
   "metadata": {},
   "outputs": [],
   "source": [
    "film = pd.read_csv('../data/HBO_titles.csv', encoding='utf-8', encoding_errors='ignore')\n",
    "actor = pd.read_csv('../data/HBO_credits.csv', encoding='utf-8', encoding_errors='ignore') "
   ]
  },
  {
   "cell_type": "code",
   "execution_count": 26,
   "metadata": {},
   "outputs": [],
   "source": [
    "def fill_age_null(row):\n",
    "    if pd.isna(row['age_certification']):\n",
    "        if 'thriller' in row['genres'] or 'horror' in row['genres'] or 'black comedy' in row['genres']:\n",
    "            return 'R'\n",
    "    return row['age_certification']\n",
    "\n",
    "film['age_certification'] = film.apply(lambda row: fill_age_null(row), axis=1)"
   ]
  },
  {
   "cell_type": "code",
   "execution_count": 28,
   "metadata": {},
   "outputs": [],
   "source": [
    "film.dropna(subset=['imdb_id', 'imdb_score', 'imdb_votes', 'tmdb_popularity', 'tmdb_score'], inplace=True)\n",
    "film['age_certification'] = film['age_certification'].fillna('unknown')\n",
    "film['seasons'] = film['seasons'].fillna('-1')\n",
    "film['description'] = film['description'].fillna('unknown')\n",
    "actor['character'] = actor['character'].fillna('unknown')"
   ]
  },
  {
   "cell_type": "code",
   "execution_count": 31,
   "metadata": {},
   "outputs": [
    {
     "name": "stderr",
     "output_type": "stream",
     "text": [
      "100%|██████████| 2606/2606 [12:14<00:00,  3.55it/s]\n"
     ]
    }
   ],
   "source": [
    "from joblib import Parallel, delayed\n",
    "from tqdm import tqdm\n",
    "\n",
    "def extract_reviews_and_ratings(imdb_id):\n",
    "    url = f'https://www.imdb.com/title/{imdb_id}/reviews?ref_=tt_ov_rt' \n",
    "    response = requests.get(url)\n",
    "    if response.status_code == 200:\n",
    "        soup = BeautifulSoup(response.text, 'html.parser')\n",
    "        reviews = soup.find_all('div', {'class': 'text show-more__control'})  \n",
    "        ratings = soup.find_all('span', {'class': 'rating-other-user-rating'})\n",
    "        results = []\n",
    "        for rev, rat in zip(reviews, ratings):\n",
    "            rev_div = rev.find_parent('div', {'class': 'lister-item-content'})  \n",
    "            rev_title = rev_div.find('a', {'class': 'title'}).text.strip() if rev_div.find('a', {'class': 'title'}) else 'No title'\n",
    "            rat_title = rat.text.strip() if rat else 'Sin calificación'\n",
    "            results.append((imdb_id, rev_title, rat_title))\n",
    "        return results\n",
    "    else:\n",
    "        print(f'Error al obtener comentarios de la película con IMDB ID {imdb_id}')\n",
    "        return []\n",
    "\n",
    "if __name__ == '__main__':\n",
    "    imdb_ids = film['imdb_id'].tolist()\n",
    "    reviews_and_ratings = Parallel(n_jobs=-1)(delayed(extract_reviews_and_ratings)(imdb_id) for imdb_id in tqdm(imdb_ids))\n",
    "    reviews_and_ratings = [review for sublist in reviews_and_ratings for review in sublist]\n",
    "    com_rev = pd.DataFrame(reviews_and_ratings, columns=['id', 'review_title', 'rating_title'])"
   ]
  },
  {
   "cell_type": "code",
   "execution_count": 32,
   "metadata": {},
   "outputs": [],
   "source": [
    "#com_rev.to_csv('../data/HBO_comments.csv', index=False)\n",
    "#film.to_csv('../data/HBO_titles_clean.csv', index=False)\n",
    "#actor.to_csv('../data/HBO_actors_clean.csv', index=False)"
   ]
  },
  {
   "cell_type": "code",
   "execution_count": 10,
   "metadata": {},
   "outputs": [],
   "source": [
    "# Creamos el df de actores\n",
    "actor = pd.read_csv('../data/HBO_actors_clean.csv', encoding='utf-8', encoding_errors='ignore') "
   ]
  },
  {
   "cell_type": "code",
   "execution_count": 11,
   "metadata": {},
   "outputs": [],
   "source": [
    "actor = actor.drop(['id','character', 'role'], axis= 1)"
   ]
  },
  {
   "cell_type": "code",
   "execution_count": 12,
   "metadata": {},
   "outputs": [],
   "source": [
    "actor = actor.drop_duplicates()"
   ]
  },
  {
   "cell_type": "code",
   "execution_count": 13,
   "metadata": {},
   "outputs": [],
   "source": [
    "actor.to_csv('../data/sql/HBO_actors_sql.csv', index=False)"
   ]
  },
  {
   "cell_type": "code",
   "execution_count": 15,
   "metadata": {},
   "outputs": [],
   "source": [
    "# Creamos el df de reparto\n",
    "cast = pd.read_csv('../data/Net_actors_clean.csv', encoding='utf-8', encoding_errors='ignore')"
   ]
  },
  {
   "cell_type": "code",
   "execution_count": 17,
   "metadata": {},
   "outputs": [],
   "source": [
    "cast = cast.drop(['name'], axis= 1)"
   ]
  },
  {
   "cell_type": "code",
   "execution_count": 19,
   "metadata": {},
   "outputs": [],
   "source": [
    "cast.rename(columns={'id': 'film_id'}, inplace=True)\n"
   ]
  },
  {
   "cell_type": "code",
   "execution_count": 21,
   "metadata": {},
   "outputs": [],
   "source": [
    "cast['id'] = range(1, len(cast)+1)"
   ]
  },
  {
   "cell_type": "code",
   "execution_count": 23,
   "metadata": {},
   "outputs": [],
   "source": [
    "cast = cast.reindex(columns=['id', 'person_id', 'film_id', 'character', 'role'])\n"
   ]
  },
  {
   "cell_type": "code",
   "execution_count": 25,
   "metadata": {},
   "outputs": [],
   "source": [
    "cast.to_csv('../data/sql/Net_cast_sql.csv', index=False)"
   ]
  },
  {
   "cell_type": "code",
   "execution_count": 26,
   "metadata": {},
   "outputs": [],
   "source": [
    "# Creamos el df de reviews\n",
    "com = pd.read_csv('../data/Net_comments.csv', encoding='utf-8', encoding_errors='ignore')"
   ]
  },
  {
   "cell_type": "code",
   "execution_count": 28,
   "metadata": {},
   "outputs": [],
   "source": [
    "com.rename(columns={'id': 'imdb_id'}, inplace=True)"
   ]
  },
  {
   "cell_type": "code",
   "execution_count": 30,
   "metadata": {},
   "outputs": [],
   "source": [
    "com['id'] = range(1, len(com)+1)"
   ]
  },
  {
   "cell_type": "code",
   "execution_count": 32,
   "metadata": {},
   "outputs": [],
   "source": [
    "com = com.reindex(columns=['id', 'imdb_id', 'review_title', 'rating_title'])"
   ]
  },
  {
   "cell_type": "code",
   "execution_count": 34,
   "metadata": {},
   "outputs": [],
   "source": [
    "com.to_csv('../data/sql/Net_reviews_sql.csv', index=False)"
   ]
  },
  {
   "cell_type": "code",
   "execution_count": 63,
   "metadata": {},
   "outputs": [],
   "source": [
    "# Creamos el df de films\n",
    "film = pd.read_csv('../data/Net_titles_clean.csv', encoding='utf-8', encoding_errors='ignore') \n",
    "film.rename(columns={'id': 'film_id'}, inplace=True)\n",
    "film.to_csv('../data/sql/Net_titles_sql.csv', index=False)\n"
   ]
  },
  {
   "cell_type": "code",
   "execution_count": 69,
   "metadata": {},
   "outputs": [],
   "source": [
    "rev = pd.read_csv('../data/sql/Net_reviews_sql.csv', encoding='utf-8', encoding_errors='ignore') \n",
    "rev.rename(columns={'id': 'review_id'}, inplace=True)\n",
    "rev.to_csv('../data/sql/Net_reviews_sql.csv', index=False)"
   ]
  },
  {
   "attachments": {},
   "cell_type": "markdown",
   "metadata": {},
   "source": [
    "                Visualización de datos"
   ]
  },
  {
   "cell_type": "code",
   "execution_count": 22,
   "metadata": {},
   "outputs": [],
   "source": [
    "film = pd.read_csv('../data/Net_titles_clean.csv', encoding='utf-8', encoding_errors='ignore')"
   ]
  },
  {
   "cell_type": "code",
   "execution_count": 23,
   "metadata": {},
   "outputs": [],
   "source": [
    "# Definimos la función filtrar_gen para quitar del gráfico aquellos géneros y subgéneros que representen una minoría\n",
    "def filtrar_gen(df, col, thresh):\n",
    "    counts = df[col].value_counts()\n",
    "    mask = df[col].isin(counts[counts > thresh].index)\n",
    "    return df[mask]"
   ]
  },
  {
   "cell_type": "code",
   "execution_count": 24,
   "metadata": {},
   "outputs": [],
   "source": [
    "# Vamos a crear un nuevo df cuyas columnas sean el género y el subgénero de de las películas\n",
    "film['genres'] = film['genres'].str.strip('[]').str.replace(\"'\", '').str.split(', ')\n",
    "film_gen = film['genres'].apply(pd.Series).rename(columns = lambda x : 'genre_' + str(x))\n",
    "df_sunburst = pd.concat([film_gen['genre_0'], film_gen['genre_1'], film_gen['genre_2']], axis=1)\n",
    "df_sunburst.columns = ['Level 1', 'Level 2', 'Level 3']\n"
   ]
  },
  {
   "cell_type": "code",
   "execution_count": 25,
   "metadata": {},
   "outputs": [],
   "source": [
    "# Eliminamos los nulos de los subgéneros, ya que representan que género y subgénero coinciden\n",
    "\n",
    "df_sunburst = df_sunburst.dropna(subset=['Level 3'])\n",
    "df_sunburst = df_sunburst.dropna(subset=['Level 2'])\n",
    "\n"
   ]
  },
  {
   "cell_type": "code",
   "execution_count": 26,
   "metadata": {},
   "outputs": [],
   "source": [
    "# definimos un thresh con un umbral de 50 valores únicos para no tener en cuenta aquellos géneros y subgéneros que son poco representativos y que molestan visualmente\n",
    "df_sunburst = filtrar_gen(df_sunburst, 'Level 2', 50)   \n",
    "df_sunburst = filtrar_gen(df_sunburst, 'Level 1', 50)"
   ]
  },
  {
   "cell_type": "code",
   "execution_count": 27,
   "metadata": {},
   "outputs": [
    {
     "data": {
      "application/vnd.plotly.v1+json": {
       "config": {
        "plotlyServerURL": "https://plot.ly"
       },
       "data": [
        {
         "branchvalues": "total",
         "domain": {
          "x": [
           0,
           1
          ],
          "y": [
           0,
           1
          ]
         },
         "hovertemplate": "labels=%{label}<br>count=%{value}<br>parent=%{parent}<br>id=%{id}<extra></extra>",
         "ids": [
          "animation/action",
          "comedy/action",
          "crime/action",
          "documentation/action",
          "drama/action",
          "family/action",
          "fantasy/action",
          "horror/action",
          "romance/action",
          "scifi/action",
          "thriller/action",
          "action/animation",
          "comedy/animation",
          "drama/animation",
          "family/animation",
          "fantasy/animation",
          "scifi/animation",
          "thriller/animation",
          "action/comedy",
          "animation/comedy",
          "crime/comedy",
          "documentation/comedy",
          "drama/comedy",
          "family/comedy",
          "fantasy/comedy",
          "horror/comedy",
          "romance/comedy",
          "scifi/comedy",
          "thriller/comedy",
          "action/crime",
          "comedy/crime",
          "documentation/crime",
          "drama/crime",
          "family/crime",
          "horror/crime",
          "romance/crime",
          "scifi/crime",
          "thriller/crime",
          "action/drama",
          "animation/drama",
          "comedy/drama",
          "crime/drama",
          "documentation/drama",
          "family/drama",
          "fantasy/drama",
          "horror/drama",
          "romance/drama",
          "scifi/drama",
          "thriller/drama",
          "action/family",
          "animation/family",
          "comedy/family",
          "documentation/family",
          "drama/family",
          "fantasy/family",
          "romance/family",
          "scifi/family",
          "thriller/family",
          "action/fantasy",
          "animation/fantasy",
          "comedy/fantasy",
          "crime/fantasy",
          "documentation/fantasy",
          "drama/fantasy",
          "family/fantasy",
          "horror/fantasy",
          "scifi/fantasy",
          "thriller/fantasy",
          "action/history",
          "crime/history",
          "documentation/history",
          "drama/history",
          "romance/history",
          "thriller/history",
          "action/horror",
          "comedy/horror",
          "documentation/horror",
          "drama/horror",
          "fantasy/horror",
          "scifi/horror",
          "thriller/horror",
          "action/romance",
          "animation/romance",
          "comedy/romance",
          "crime/romance",
          "drama/romance",
          "family/romance",
          "fantasy/romance",
          "scifi/romance",
          "thriller/romance",
          "action/scifi",
          "animation/scifi",
          "comedy/scifi",
          "crime/scifi",
          "documentation/scifi",
          "drama/scifi",
          "fantasy/scifi",
          "horror/scifi",
          "thriller/scifi",
          "action/thriller",
          "animation/thriller",
          "comedy/thriller",
          "crime/thriller",
          "documentation/thriller",
          "drama/thriller",
          "fantasy/thriller",
          "horror/thriller",
          "romance/thriller",
          "scifi/thriller",
          "action",
          "animation",
          "comedy",
          "crime",
          "documentation",
          "drama",
          "family",
          "fantasy",
          "horror",
          "romance",
          "scifi",
          "thriller"
         ],
         "labels": [
          "action",
          "action",
          "action",
          "action",
          "action",
          "action",
          "action",
          "action",
          "action",
          "action",
          "action",
          "animation",
          "animation",
          "animation",
          "animation",
          "animation",
          "animation",
          "animation",
          "comedy",
          "comedy",
          "comedy",
          "comedy",
          "comedy",
          "comedy",
          "comedy",
          "comedy",
          "comedy",
          "comedy",
          "comedy",
          "crime",
          "crime",
          "crime",
          "crime",
          "crime",
          "crime",
          "crime",
          "crime",
          "crime",
          "drama",
          "drama",
          "drama",
          "drama",
          "drama",
          "drama",
          "drama",
          "drama",
          "drama",
          "drama",
          "drama",
          "family",
          "family",
          "family",
          "family",
          "family",
          "family",
          "family",
          "family",
          "family",
          "fantasy",
          "fantasy",
          "fantasy",
          "fantasy",
          "fantasy",
          "fantasy",
          "fantasy",
          "fantasy",
          "fantasy",
          "fantasy",
          "history",
          "history",
          "history",
          "history",
          "history",
          "history",
          "horror",
          "horror",
          "horror",
          "horror",
          "horror",
          "horror",
          "horror",
          "romance",
          "romance",
          "romance",
          "romance",
          "romance",
          "romance",
          "romance",
          "romance",
          "romance",
          "scifi",
          "scifi",
          "scifi",
          "scifi",
          "scifi",
          "scifi",
          "scifi",
          "scifi",
          "scifi",
          "thriller",
          "thriller",
          "thriller",
          "thriller",
          "thriller",
          "thriller",
          "thriller",
          "thriller",
          "thriller",
          "thriller",
          "action",
          "animation",
          "comedy",
          "crime",
          "documentation",
          "drama",
          "family",
          "fantasy",
          "horror",
          "romance",
          "scifi",
          "thriller"
         ],
         "name": "",
         "parents": [
          "animation",
          "comedy",
          "crime",
          "documentation",
          "drama",
          "family",
          "fantasy",
          "horror",
          "romance",
          "scifi",
          "thriller",
          "action",
          "comedy",
          "drama",
          "family",
          "fantasy",
          "scifi",
          "thriller",
          "action",
          "animation",
          "crime",
          "documentation",
          "drama",
          "family",
          "fantasy",
          "horror",
          "romance",
          "scifi",
          "thriller",
          "action",
          "comedy",
          "documentation",
          "drama",
          "family",
          "horror",
          "romance",
          "scifi",
          "thriller",
          "action",
          "animation",
          "comedy",
          "crime",
          "documentation",
          "family",
          "fantasy",
          "horror",
          "romance",
          "scifi",
          "thriller",
          "action",
          "animation",
          "comedy",
          "documentation",
          "drama",
          "fantasy",
          "romance",
          "scifi",
          "thriller",
          "action",
          "animation",
          "comedy",
          "crime",
          "documentation",
          "drama",
          "family",
          "horror",
          "scifi",
          "thriller",
          "action",
          "crime",
          "documentation",
          "drama",
          "romance",
          "thriller",
          "action",
          "comedy",
          "documentation",
          "drama",
          "fantasy",
          "scifi",
          "thriller",
          "action",
          "animation",
          "comedy",
          "crime",
          "drama",
          "family",
          "fantasy",
          "scifi",
          "thriller",
          "action",
          "animation",
          "comedy",
          "crime",
          "documentation",
          "drama",
          "fantasy",
          "horror",
          "thriller",
          "action",
          "animation",
          "comedy",
          "crime",
          "documentation",
          "drama",
          "fantasy",
          "horror",
          "romance",
          "scifi",
          "",
          "",
          "",
          "",
          "",
          "",
          "",
          "",
          "",
          "",
          "",
          ""
         ],
         "type": "sunburst",
         "values": [
          52,
          21,
          18,
          2,
          51,
          7,
          14,
          1,
          9,
          48,
          59,
          29,
          16,
          9,
          17,
          16,
          30,
          4,
          45,
          72,
          7,
          6,
          112,
          10,
          9,
          5,
          56,
          11,
          8,
          31,
          22,
          27,
          60,
          1,
          1,
          3,
          6,
          51,
          67,
          9,
          157,
          87,
          9,
          7,
          9,
          5,
          37,
          37,
          71,
          9,
          30,
          48,
          2,
          35,
          4,
          3,
          6,
          3,
          14,
          5,
          11,
          2,
          1,
          16,
          16,
          1,
          12,
          2,
          2,
          3,
          15,
          37,
          1,
          2,
          1,
          5,
          2,
          16,
          8,
          6,
          27,
          1,
          1,
          45,
          2,
          79,
          3,
          1,
          3,
          4,
          32,
          10,
          9,
          2,
          2,
          34,
          4,
          4,
          4,
          38,
          3,
          8,
          23,
          6,
          103,
          5,
          38,
          8,
          46,
          269,
          182,
          342,
          144,
          72,
          552,
          61,
          70,
          55,
          117,
          205,
          235
         ]
        }
       ],
       "layout": {
        "height": 600,
        "legend": {
         "tracegroupgap": 0
        },
        "margin": {
         "t": 60
        },
        "template": {
         "data": {
          "bar": [
           {
            "error_x": {
             "color": "#2a3f5f"
            },
            "error_y": {
             "color": "#2a3f5f"
            },
            "marker": {
             "line": {
              "color": "#E5ECF6",
              "width": 0.5
             },
             "pattern": {
              "fillmode": "overlay",
              "size": 10,
              "solidity": 0.2
             }
            },
            "type": "bar"
           }
          ],
          "barpolar": [
           {
            "marker": {
             "line": {
              "color": "#E5ECF6",
              "width": 0.5
             },
             "pattern": {
              "fillmode": "overlay",
              "size": 10,
              "solidity": 0.2
             }
            },
            "type": "barpolar"
           }
          ],
          "carpet": [
           {
            "aaxis": {
             "endlinecolor": "#2a3f5f",
             "gridcolor": "white",
             "linecolor": "white",
             "minorgridcolor": "white",
             "startlinecolor": "#2a3f5f"
            },
            "baxis": {
             "endlinecolor": "#2a3f5f",
             "gridcolor": "white",
             "linecolor": "white",
             "minorgridcolor": "white",
             "startlinecolor": "#2a3f5f"
            },
            "type": "carpet"
           }
          ],
          "choropleth": [
           {
            "colorbar": {
             "outlinewidth": 0,
             "ticks": ""
            },
            "type": "choropleth"
           }
          ],
          "contour": [
           {
            "colorbar": {
             "outlinewidth": 0,
             "ticks": ""
            },
            "colorscale": [
             [
              0,
              "#0d0887"
             ],
             [
              0.1111111111111111,
              "#46039f"
             ],
             [
              0.2222222222222222,
              "#7201a8"
             ],
             [
              0.3333333333333333,
              "#9c179e"
             ],
             [
              0.4444444444444444,
              "#bd3786"
             ],
             [
              0.5555555555555556,
              "#d8576b"
             ],
             [
              0.6666666666666666,
              "#ed7953"
             ],
             [
              0.7777777777777778,
              "#fb9f3a"
             ],
             [
              0.8888888888888888,
              "#fdca26"
             ],
             [
              1,
              "#f0f921"
             ]
            ],
            "type": "contour"
           }
          ],
          "contourcarpet": [
           {
            "colorbar": {
             "outlinewidth": 0,
             "ticks": ""
            },
            "type": "contourcarpet"
           }
          ],
          "heatmap": [
           {
            "colorbar": {
             "outlinewidth": 0,
             "ticks": ""
            },
            "colorscale": [
             [
              0,
              "#0d0887"
             ],
             [
              0.1111111111111111,
              "#46039f"
             ],
             [
              0.2222222222222222,
              "#7201a8"
             ],
             [
              0.3333333333333333,
              "#9c179e"
             ],
             [
              0.4444444444444444,
              "#bd3786"
             ],
             [
              0.5555555555555556,
              "#d8576b"
             ],
             [
              0.6666666666666666,
              "#ed7953"
             ],
             [
              0.7777777777777778,
              "#fb9f3a"
             ],
             [
              0.8888888888888888,
              "#fdca26"
             ],
             [
              1,
              "#f0f921"
             ]
            ],
            "type": "heatmap"
           }
          ],
          "heatmapgl": [
           {
            "colorbar": {
             "outlinewidth": 0,
             "ticks": ""
            },
            "colorscale": [
             [
              0,
              "#0d0887"
             ],
             [
              0.1111111111111111,
              "#46039f"
             ],
             [
              0.2222222222222222,
              "#7201a8"
             ],
             [
              0.3333333333333333,
              "#9c179e"
             ],
             [
              0.4444444444444444,
              "#bd3786"
             ],
             [
              0.5555555555555556,
              "#d8576b"
             ],
             [
              0.6666666666666666,
              "#ed7953"
             ],
             [
              0.7777777777777778,
              "#fb9f3a"
             ],
             [
              0.8888888888888888,
              "#fdca26"
             ],
             [
              1,
              "#f0f921"
             ]
            ],
            "type": "heatmapgl"
           }
          ],
          "histogram": [
           {
            "marker": {
             "pattern": {
              "fillmode": "overlay",
              "size": 10,
              "solidity": 0.2
             }
            },
            "type": "histogram"
           }
          ],
          "histogram2d": [
           {
            "colorbar": {
             "outlinewidth": 0,
             "ticks": ""
            },
            "colorscale": [
             [
              0,
              "#0d0887"
             ],
             [
              0.1111111111111111,
              "#46039f"
             ],
             [
              0.2222222222222222,
              "#7201a8"
             ],
             [
              0.3333333333333333,
              "#9c179e"
             ],
             [
              0.4444444444444444,
              "#bd3786"
             ],
             [
              0.5555555555555556,
              "#d8576b"
             ],
             [
              0.6666666666666666,
              "#ed7953"
             ],
             [
              0.7777777777777778,
              "#fb9f3a"
             ],
             [
              0.8888888888888888,
              "#fdca26"
             ],
             [
              1,
              "#f0f921"
             ]
            ],
            "type": "histogram2d"
           }
          ],
          "histogram2dcontour": [
           {
            "colorbar": {
             "outlinewidth": 0,
             "ticks": ""
            },
            "colorscale": [
             [
              0,
              "#0d0887"
             ],
             [
              0.1111111111111111,
              "#46039f"
             ],
             [
              0.2222222222222222,
              "#7201a8"
             ],
             [
              0.3333333333333333,
              "#9c179e"
             ],
             [
              0.4444444444444444,
              "#bd3786"
             ],
             [
              0.5555555555555556,
              "#d8576b"
             ],
             [
              0.6666666666666666,
              "#ed7953"
             ],
             [
              0.7777777777777778,
              "#fb9f3a"
             ],
             [
              0.8888888888888888,
              "#fdca26"
             ],
             [
              1,
              "#f0f921"
             ]
            ],
            "type": "histogram2dcontour"
           }
          ],
          "mesh3d": [
           {
            "colorbar": {
             "outlinewidth": 0,
             "ticks": ""
            },
            "type": "mesh3d"
           }
          ],
          "parcoords": [
           {
            "line": {
             "colorbar": {
              "outlinewidth": 0,
              "ticks": ""
             }
            },
            "type": "parcoords"
           }
          ],
          "pie": [
           {
            "automargin": true,
            "type": "pie"
           }
          ],
          "scatter": [
           {
            "fillpattern": {
             "fillmode": "overlay",
             "size": 10,
             "solidity": 0.2
            },
            "type": "scatter"
           }
          ],
          "scatter3d": [
           {
            "line": {
             "colorbar": {
              "outlinewidth": 0,
              "ticks": ""
             }
            },
            "marker": {
             "colorbar": {
              "outlinewidth": 0,
              "ticks": ""
             }
            },
            "type": "scatter3d"
           }
          ],
          "scattercarpet": [
           {
            "marker": {
             "colorbar": {
              "outlinewidth": 0,
              "ticks": ""
             }
            },
            "type": "scattercarpet"
           }
          ],
          "scattergeo": [
           {
            "marker": {
             "colorbar": {
              "outlinewidth": 0,
              "ticks": ""
             }
            },
            "type": "scattergeo"
           }
          ],
          "scattergl": [
           {
            "marker": {
             "colorbar": {
              "outlinewidth": 0,
              "ticks": ""
             }
            },
            "type": "scattergl"
           }
          ],
          "scattermapbox": [
           {
            "marker": {
             "colorbar": {
              "outlinewidth": 0,
              "ticks": ""
             }
            },
            "type": "scattermapbox"
           }
          ],
          "scatterpolar": [
           {
            "marker": {
             "colorbar": {
              "outlinewidth": 0,
              "ticks": ""
             }
            },
            "type": "scatterpolar"
           }
          ],
          "scatterpolargl": [
           {
            "marker": {
             "colorbar": {
              "outlinewidth": 0,
              "ticks": ""
             }
            },
            "type": "scatterpolargl"
           }
          ],
          "scatterternary": [
           {
            "marker": {
             "colorbar": {
              "outlinewidth": 0,
              "ticks": ""
             }
            },
            "type": "scatterternary"
           }
          ],
          "surface": [
           {
            "colorbar": {
             "outlinewidth": 0,
             "ticks": ""
            },
            "colorscale": [
             [
              0,
              "#0d0887"
             ],
             [
              0.1111111111111111,
              "#46039f"
             ],
             [
              0.2222222222222222,
              "#7201a8"
             ],
             [
              0.3333333333333333,
              "#9c179e"
             ],
             [
              0.4444444444444444,
              "#bd3786"
             ],
             [
              0.5555555555555556,
              "#d8576b"
             ],
             [
              0.6666666666666666,
              "#ed7953"
             ],
             [
              0.7777777777777778,
              "#fb9f3a"
             ],
             [
              0.8888888888888888,
              "#fdca26"
             ],
             [
              1,
              "#f0f921"
             ]
            ],
            "type": "surface"
           }
          ],
          "table": [
           {
            "cells": {
             "fill": {
              "color": "#EBF0F8"
             },
             "line": {
              "color": "white"
             }
            },
            "header": {
             "fill": {
              "color": "#C8D4E3"
             },
             "line": {
              "color": "white"
             }
            },
            "type": "table"
           }
          ]
         },
         "layout": {
          "annotationdefaults": {
           "arrowcolor": "#2a3f5f",
           "arrowhead": 0,
           "arrowwidth": 1
          },
          "autotypenumbers": "strict",
          "coloraxis": {
           "colorbar": {
            "outlinewidth": 0,
            "ticks": ""
           }
          },
          "colorscale": {
           "diverging": [
            [
             0,
             "#8e0152"
            ],
            [
             0.1,
             "#c51b7d"
            ],
            [
             0.2,
             "#de77ae"
            ],
            [
             0.3,
             "#f1b6da"
            ],
            [
             0.4,
             "#fde0ef"
            ],
            [
             0.5,
             "#f7f7f7"
            ],
            [
             0.6,
             "#e6f5d0"
            ],
            [
             0.7,
             "#b8e186"
            ],
            [
             0.8,
             "#7fbc41"
            ],
            [
             0.9,
             "#4d9221"
            ],
            [
             1,
             "#276419"
            ]
           ],
           "sequential": [
            [
             0,
             "#0d0887"
            ],
            [
             0.1111111111111111,
             "#46039f"
            ],
            [
             0.2222222222222222,
             "#7201a8"
            ],
            [
             0.3333333333333333,
             "#9c179e"
            ],
            [
             0.4444444444444444,
             "#bd3786"
            ],
            [
             0.5555555555555556,
             "#d8576b"
            ],
            [
             0.6666666666666666,
             "#ed7953"
            ],
            [
             0.7777777777777778,
             "#fb9f3a"
            ],
            [
             0.8888888888888888,
             "#fdca26"
            ],
            [
             1,
             "#f0f921"
            ]
           ],
           "sequentialminus": [
            [
             0,
             "#0d0887"
            ],
            [
             0.1111111111111111,
             "#46039f"
            ],
            [
             0.2222222222222222,
             "#7201a8"
            ],
            [
             0.3333333333333333,
             "#9c179e"
            ],
            [
             0.4444444444444444,
             "#bd3786"
            ],
            [
             0.5555555555555556,
             "#d8576b"
            ],
            [
             0.6666666666666666,
             "#ed7953"
            ],
            [
             0.7777777777777778,
             "#fb9f3a"
            ],
            [
             0.8888888888888888,
             "#fdca26"
            ],
            [
             1,
             "#f0f921"
            ]
           ]
          },
          "colorway": [
           "#636efa",
           "#EF553B",
           "#00cc96",
           "#ab63fa",
           "#FFA15A",
           "#19d3f3",
           "#FF6692",
           "#B6E880",
           "#FF97FF",
           "#FECB52"
          ],
          "font": {
           "color": "#2a3f5f"
          },
          "geo": {
           "bgcolor": "white",
           "lakecolor": "white",
           "landcolor": "#E5ECF6",
           "showlakes": true,
           "showland": true,
           "subunitcolor": "white"
          },
          "hoverlabel": {
           "align": "left"
          },
          "hovermode": "closest",
          "mapbox": {
           "style": "light"
          },
          "paper_bgcolor": "white",
          "plot_bgcolor": "#E5ECF6",
          "polar": {
           "angularaxis": {
            "gridcolor": "white",
            "linecolor": "white",
            "ticks": ""
           },
           "bgcolor": "#E5ECF6",
           "radialaxis": {
            "gridcolor": "white",
            "linecolor": "white",
            "ticks": ""
           }
          },
          "scene": {
           "xaxis": {
            "backgroundcolor": "#E5ECF6",
            "gridcolor": "white",
            "gridwidth": 2,
            "linecolor": "white",
            "showbackground": true,
            "ticks": "",
            "zerolinecolor": "white"
           },
           "yaxis": {
            "backgroundcolor": "#E5ECF6",
            "gridcolor": "white",
            "gridwidth": 2,
            "linecolor": "white",
            "showbackground": true,
            "ticks": "",
            "zerolinecolor": "white"
           },
           "zaxis": {
            "backgroundcolor": "#E5ECF6",
            "gridcolor": "white",
            "gridwidth": 2,
            "linecolor": "white",
            "showbackground": true,
            "ticks": "",
            "zerolinecolor": "white"
           }
          },
          "shapedefaults": {
           "line": {
            "color": "#2a3f5f"
           }
          },
          "ternary": {
           "aaxis": {
            "gridcolor": "white",
            "linecolor": "white",
            "ticks": ""
           },
           "baxis": {
            "gridcolor": "white",
            "linecolor": "white",
            "ticks": ""
           },
           "bgcolor": "#E5ECF6",
           "caxis": {
            "gridcolor": "white",
            "linecolor": "white",
            "ticks": ""
           }
          },
          "title": {
           "x": 0.05
          },
          "xaxis": {
           "automargin": true,
           "gridcolor": "white",
           "linecolor": "white",
           "ticks": "",
           "title": {
            "standoff": 15
           },
           "zerolinecolor": "white",
           "zerolinewidth": 2
          },
          "yaxis": {
           "automargin": true,
           "gridcolor": "white",
           "linecolor": "white",
           "ticks": "",
           "title": {
            "standoff": 15
           },
           "zerolinecolor": "white",
           "zerolinewidth": 2
          }
         }
        },
        "width": 600
       }
      }
     },
     "metadata": {},
     "output_type": "display_data"
    }
   ],
   "source": [
    "fig = px.sunburst(df_sunburst, path=['Level 1', 'Level 2'], width=600, height=600)\n",
    "fig.show()\n",
    "fig.write_html('../images/NET_gen_sunburst.html')\n"
   ]
  },
  {
   "cell_type": "code",
   "execution_count": 28,
   "metadata": {},
   "outputs": [
    {
     "data": {
      "application/vnd.plotly.v1+json": {
       "config": {
        "plotlyServerURL": "https://plot.ly"
       },
       "data": [
        {
         "branchvalues": "total",
         "domain": {
          "x": [
           0,
           1
          ],
          "y": [
           0,
           1
          ]
         },
         "hovertemplate": "labels=%{label}<br>count=%{value}<br>parent=%{parent}<br>id=%{id}<extra></extra>",
         "ids": [
          "animation/action",
          "comedy/action",
          "drama/action",
          "horror/action",
          "scifi/action",
          "thriller/action",
          "action/animation",
          "comedy/animation",
          "drama/animation",
          "horror/animation",
          "scifi/animation",
          "thriller/animation",
          "action/comedy",
          "animation/comedy",
          "drama/comedy",
          "horror/comedy",
          "scifi/comedy",
          "thriller/comedy",
          "action/crime",
          "comedy/crime",
          "drama/crime",
          "horror/crime",
          "scifi/crime",
          "thriller/crime",
          "action/drama",
          "animation/drama",
          "comedy/drama",
          "horror/drama",
          "scifi/drama",
          "thriller/drama",
          "animation/european",
          "comedy/european",
          "drama/european",
          "horror/european",
          "thriller/european",
          "action/family",
          "animation/family",
          "comedy/family",
          "drama/family",
          "scifi/family",
          "action/fantasy",
          "animation/fantasy",
          "comedy/fantasy",
          "drama/fantasy",
          "horror/fantasy",
          "scifi/fantasy",
          "thriller/fantasy",
          "comedy/romance",
          "drama/romance",
          "horror/romance",
          "thriller/romance",
          "action/scifi",
          "animation/scifi",
          "comedy/scifi",
          "drama/scifi",
          "horror/scifi",
          "thriller/scifi",
          "action/thriller",
          "animation/thriller",
          "comedy/thriller",
          "drama/thriller",
          "horror/thriller",
          "scifi/thriller",
          "action",
          "animation",
          "comedy",
          "drama",
          "horror",
          "scifi",
          "thriller"
         ],
         "labels": [
          "action",
          "action",
          "action",
          "action",
          "action",
          "action",
          "animation",
          "animation",
          "animation",
          "animation",
          "animation",
          "animation",
          "comedy",
          "comedy",
          "comedy",
          "comedy",
          "comedy",
          "comedy",
          "crime",
          "crime",
          "crime",
          "crime",
          "crime",
          "crime",
          "drama",
          "drama",
          "drama",
          "drama",
          "drama",
          "drama",
          "european",
          "european",
          "european",
          "european",
          "european",
          "family",
          "family",
          "family",
          "family",
          "family",
          "fantasy",
          "fantasy",
          "fantasy",
          "fantasy",
          "fantasy",
          "fantasy",
          "fantasy",
          "romance",
          "romance",
          "romance",
          "romance",
          "scifi",
          "scifi",
          "scifi",
          "scifi",
          "scifi",
          "scifi",
          "thriller",
          "thriller",
          "thriller",
          "thriller",
          "thriller",
          "thriller",
          "action",
          "animation",
          "comedy",
          "drama",
          "horror",
          "scifi",
          "thriller"
         ],
         "name": "",
         "parents": [
          "animation",
          "comedy",
          "drama",
          "horror",
          "scifi",
          "thriller",
          "action",
          "comedy",
          "drama",
          "horror",
          "scifi",
          "thriller",
          "action",
          "animation",
          "drama",
          "horror",
          "scifi",
          "thriller",
          "action",
          "comedy",
          "drama",
          "horror",
          "scifi",
          "thriller",
          "action",
          "animation",
          "comedy",
          "horror",
          "scifi",
          "thriller",
          "animation",
          "comedy",
          "drama",
          "horror",
          "thriller",
          "action",
          "animation",
          "comedy",
          "drama",
          "scifi",
          "action",
          "animation",
          "comedy",
          "drama",
          "horror",
          "scifi",
          "thriller",
          "comedy",
          "drama",
          "horror",
          "thriller",
          "action",
          "animation",
          "comedy",
          "drama",
          "horror",
          "thriller",
          "action",
          "animation",
          "comedy",
          "drama",
          "horror",
          "scifi",
          "",
          "",
          "",
          "",
          "",
          "",
          ""
         ],
         "type": "sunburst",
         "values": [
          15,
          18,
          22,
          3,
          25,
          31,
          10,
          21,
          3,
          1,
          4,
          1,
          13,
          20,
          55,
          1,
          8,
          5,
          16,
          15,
          30,
          1,
          2,
          20,
          23,
          3,
          78,
          4,
          13,
          44,
          1,
          3,
          55,
          2,
          3,
          8,
          6,
          30,
          7,
          3,
          10,
          5,
          9,
          13,
          2,
          3,
          3,
          19,
          57,
          1,
          1,
          17,
          5,
          9,
          13,
          6,
          8,
          25,
          3,
          7,
          76,
          21,
          9,
          122,
          58,
          209,
          331,
          42,
          67,
          116
         ]
        }
       ],
       "layout": {
        "height": 600,
        "legend": {
         "tracegroupgap": 0
        },
        "margin": {
         "t": 60
        },
        "template": {
         "data": {
          "bar": [
           {
            "error_x": {
             "color": "#2a3f5f"
            },
            "error_y": {
             "color": "#2a3f5f"
            },
            "marker": {
             "line": {
              "color": "#E5ECF6",
              "width": 0.5
             },
             "pattern": {
              "fillmode": "overlay",
              "size": 10,
              "solidity": 0.2
             }
            },
            "type": "bar"
           }
          ],
          "barpolar": [
           {
            "marker": {
             "line": {
              "color": "#E5ECF6",
              "width": 0.5
             },
             "pattern": {
              "fillmode": "overlay",
              "size": 10,
              "solidity": 0.2
             }
            },
            "type": "barpolar"
           }
          ],
          "carpet": [
           {
            "aaxis": {
             "endlinecolor": "#2a3f5f",
             "gridcolor": "white",
             "linecolor": "white",
             "minorgridcolor": "white",
             "startlinecolor": "#2a3f5f"
            },
            "baxis": {
             "endlinecolor": "#2a3f5f",
             "gridcolor": "white",
             "linecolor": "white",
             "minorgridcolor": "white",
             "startlinecolor": "#2a3f5f"
            },
            "type": "carpet"
           }
          ],
          "choropleth": [
           {
            "colorbar": {
             "outlinewidth": 0,
             "ticks": ""
            },
            "type": "choropleth"
           }
          ],
          "contour": [
           {
            "colorbar": {
             "outlinewidth": 0,
             "ticks": ""
            },
            "colorscale": [
             [
              0,
              "#0d0887"
             ],
             [
              0.1111111111111111,
              "#46039f"
             ],
             [
              0.2222222222222222,
              "#7201a8"
             ],
             [
              0.3333333333333333,
              "#9c179e"
             ],
             [
              0.4444444444444444,
              "#bd3786"
             ],
             [
              0.5555555555555556,
              "#d8576b"
             ],
             [
              0.6666666666666666,
              "#ed7953"
             ],
             [
              0.7777777777777778,
              "#fb9f3a"
             ],
             [
              0.8888888888888888,
              "#fdca26"
             ],
             [
              1,
              "#f0f921"
             ]
            ],
            "type": "contour"
           }
          ],
          "contourcarpet": [
           {
            "colorbar": {
             "outlinewidth": 0,
             "ticks": ""
            },
            "type": "contourcarpet"
           }
          ],
          "heatmap": [
           {
            "colorbar": {
             "outlinewidth": 0,
             "ticks": ""
            },
            "colorscale": [
             [
              0,
              "#0d0887"
             ],
             [
              0.1111111111111111,
              "#46039f"
             ],
             [
              0.2222222222222222,
              "#7201a8"
             ],
             [
              0.3333333333333333,
              "#9c179e"
             ],
             [
              0.4444444444444444,
              "#bd3786"
             ],
             [
              0.5555555555555556,
              "#d8576b"
             ],
             [
              0.6666666666666666,
              "#ed7953"
             ],
             [
              0.7777777777777778,
              "#fb9f3a"
             ],
             [
              0.8888888888888888,
              "#fdca26"
             ],
             [
              1,
              "#f0f921"
             ]
            ],
            "type": "heatmap"
           }
          ],
          "heatmapgl": [
           {
            "colorbar": {
             "outlinewidth": 0,
             "ticks": ""
            },
            "colorscale": [
             [
              0,
              "#0d0887"
             ],
             [
              0.1111111111111111,
              "#46039f"
             ],
             [
              0.2222222222222222,
              "#7201a8"
             ],
             [
              0.3333333333333333,
              "#9c179e"
             ],
             [
              0.4444444444444444,
              "#bd3786"
             ],
             [
              0.5555555555555556,
              "#d8576b"
             ],
             [
              0.6666666666666666,
              "#ed7953"
             ],
             [
              0.7777777777777778,
              "#fb9f3a"
             ],
             [
              0.8888888888888888,
              "#fdca26"
             ],
             [
              1,
              "#f0f921"
             ]
            ],
            "type": "heatmapgl"
           }
          ],
          "histogram": [
           {
            "marker": {
             "pattern": {
              "fillmode": "overlay",
              "size": 10,
              "solidity": 0.2
             }
            },
            "type": "histogram"
           }
          ],
          "histogram2d": [
           {
            "colorbar": {
             "outlinewidth": 0,
             "ticks": ""
            },
            "colorscale": [
             [
              0,
              "#0d0887"
             ],
             [
              0.1111111111111111,
              "#46039f"
             ],
             [
              0.2222222222222222,
              "#7201a8"
             ],
             [
              0.3333333333333333,
              "#9c179e"
             ],
             [
              0.4444444444444444,
              "#bd3786"
             ],
             [
              0.5555555555555556,
              "#d8576b"
             ],
             [
              0.6666666666666666,
              "#ed7953"
             ],
             [
              0.7777777777777778,
              "#fb9f3a"
             ],
             [
              0.8888888888888888,
              "#fdca26"
             ],
             [
              1,
              "#f0f921"
             ]
            ],
            "type": "histogram2d"
           }
          ],
          "histogram2dcontour": [
           {
            "colorbar": {
             "outlinewidth": 0,
             "ticks": ""
            },
            "colorscale": [
             [
              0,
              "#0d0887"
             ],
             [
              0.1111111111111111,
              "#46039f"
             ],
             [
              0.2222222222222222,
              "#7201a8"
             ],
             [
              0.3333333333333333,
              "#9c179e"
             ],
             [
              0.4444444444444444,
              "#bd3786"
             ],
             [
              0.5555555555555556,
              "#d8576b"
             ],
             [
              0.6666666666666666,
              "#ed7953"
             ],
             [
              0.7777777777777778,
              "#fb9f3a"
             ],
             [
              0.8888888888888888,
              "#fdca26"
             ],
             [
              1,
              "#f0f921"
             ]
            ],
            "type": "histogram2dcontour"
           }
          ],
          "mesh3d": [
           {
            "colorbar": {
             "outlinewidth": 0,
             "ticks": ""
            },
            "type": "mesh3d"
           }
          ],
          "parcoords": [
           {
            "line": {
             "colorbar": {
              "outlinewidth": 0,
              "ticks": ""
             }
            },
            "type": "parcoords"
           }
          ],
          "pie": [
           {
            "automargin": true,
            "type": "pie"
           }
          ],
          "scatter": [
           {
            "fillpattern": {
             "fillmode": "overlay",
             "size": 10,
             "solidity": 0.2
            },
            "type": "scatter"
           }
          ],
          "scatter3d": [
           {
            "line": {
             "colorbar": {
              "outlinewidth": 0,
              "ticks": ""
             }
            },
            "marker": {
             "colorbar": {
              "outlinewidth": 0,
              "ticks": ""
             }
            },
            "type": "scatter3d"
           }
          ],
          "scattercarpet": [
           {
            "marker": {
             "colorbar": {
              "outlinewidth": 0,
              "ticks": ""
             }
            },
            "type": "scattercarpet"
           }
          ],
          "scattergeo": [
           {
            "marker": {
             "colorbar": {
              "outlinewidth": 0,
              "ticks": ""
             }
            },
            "type": "scattergeo"
           }
          ],
          "scattergl": [
           {
            "marker": {
             "colorbar": {
              "outlinewidth": 0,
              "ticks": ""
             }
            },
            "type": "scattergl"
           }
          ],
          "scattermapbox": [
           {
            "marker": {
             "colorbar": {
              "outlinewidth": 0,
              "ticks": ""
             }
            },
            "type": "scattermapbox"
           }
          ],
          "scatterpolar": [
           {
            "marker": {
             "colorbar": {
              "outlinewidth": 0,
              "ticks": ""
             }
            },
            "type": "scatterpolar"
           }
          ],
          "scatterpolargl": [
           {
            "marker": {
             "colorbar": {
              "outlinewidth": 0,
              "ticks": ""
             }
            },
            "type": "scatterpolargl"
           }
          ],
          "scatterternary": [
           {
            "marker": {
             "colorbar": {
              "outlinewidth": 0,
              "ticks": ""
             }
            },
            "type": "scatterternary"
           }
          ],
          "surface": [
           {
            "colorbar": {
             "outlinewidth": 0,
             "ticks": ""
            },
            "colorscale": [
             [
              0,
              "#0d0887"
             ],
             [
              0.1111111111111111,
              "#46039f"
             ],
             [
              0.2222222222222222,
              "#7201a8"
             ],
             [
              0.3333333333333333,
              "#9c179e"
             ],
             [
              0.4444444444444444,
              "#bd3786"
             ],
             [
              0.5555555555555556,
              "#d8576b"
             ],
             [
              0.6666666666666666,
              "#ed7953"
             ],
             [
              0.7777777777777778,
              "#fb9f3a"
             ],
             [
              0.8888888888888888,
              "#fdca26"
             ],
             [
              1,
              "#f0f921"
             ]
            ],
            "type": "surface"
           }
          ],
          "table": [
           {
            "cells": {
             "fill": {
              "color": "#EBF0F8"
             },
             "line": {
              "color": "white"
             }
            },
            "header": {
             "fill": {
              "color": "#C8D4E3"
             },
             "line": {
              "color": "white"
             }
            },
            "type": "table"
           }
          ]
         },
         "layout": {
          "annotationdefaults": {
           "arrowcolor": "#2a3f5f",
           "arrowhead": 0,
           "arrowwidth": 1
          },
          "autotypenumbers": "strict",
          "coloraxis": {
           "colorbar": {
            "outlinewidth": 0,
            "ticks": ""
           }
          },
          "colorscale": {
           "diverging": [
            [
             0,
             "#8e0152"
            ],
            [
             0.1,
             "#c51b7d"
            ],
            [
             0.2,
             "#de77ae"
            ],
            [
             0.3,
             "#f1b6da"
            ],
            [
             0.4,
             "#fde0ef"
            ],
            [
             0.5,
             "#f7f7f7"
            ],
            [
             0.6,
             "#e6f5d0"
            ],
            [
             0.7,
             "#b8e186"
            ],
            [
             0.8,
             "#7fbc41"
            ],
            [
             0.9,
             "#4d9221"
            ],
            [
             1,
             "#276419"
            ]
           ],
           "sequential": [
            [
             0,
             "#0d0887"
            ],
            [
             0.1111111111111111,
             "#46039f"
            ],
            [
             0.2222222222222222,
             "#7201a8"
            ],
            [
             0.3333333333333333,
             "#9c179e"
            ],
            [
             0.4444444444444444,
             "#bd3786"
            ],
            [
             0.5555555555555556,
             "#d8576b"
            ],
            [
             0.6666666666666666,
             "#ed7953"
            ],
            [
             0.7777777777777778,
             "#fb9f3a"
            ],
            [
             0.8888888888888888,
             "#fdca26"
            ],
            [
             1,
             "#f0f921"
            ]
           ],
           "sequentialminus": [
            [
             0,
             "#0d0887"
            ],
            [
             0.1111111111111111,
             "#46039f"
            ],
            [
             0.2222222222222222,
             "#7201a8"
            ],
            [
             0.3333333333333333,
             "#9c179e"
            ],
            [
             0.4444444444444444,
             "#bd3786"
            ],
            [
             0.5555555555555556,
             "#d8576b"
            ],
            [
             0.6666666666666666,
             "#ed7953"
            ],
            [
             0.7777777777777778,
             "#fb9f3a"
            ],
            [
             0.8888888888888888,
             "#fdca26"
            ],
            [
             1,
             "#f0f921"
            ]
           ]
          },
          "colorway": [
           "#636efa",
           "#EF553B",
           "#00cc96",
           "#ab63fa",
           "#FFA15A",
           "#19d3f3",
           "#FF6692",
           "#B6E880",
           "#FF97FF",
           "#FECB52"
          ],
          "font": {
           "color": "#2a3f5f"
          },
          "geo": {
           "bgcolor": "white",
           "lakecolor": "white",
           "landcolor": "#E5ECF6",
           "showlakes": true,
           "showland": true,
           "subunitcolor": "white"
          },
          "hoverlabel": {
           "align": "left"
          },
          "hovermode": "closest",
          "mapbox": {
           "style": "light"
          },
          "paper_bgcolor": "white",
          "plot_bgcolor": "#E5ECF6",
          "polar": {
           "angularaxis": {
            "gridcolor": "white",
            "linecolor": "white",
            "ticks": ""
           },
           "bgcolor": "#E5ECF6",
           "radialaxis": {
            "gridcolor": "white",
            "linecolor": "white",
            "ticks": ""
           }
          },
          "scene": {
           "xaxis": {
            "backgroundcolor": "#E5ECF6",
            "gridcolor": "white",
            "gridwidth": 2,
            "linecolor": "white",
            "showbackground": true,
            "ticks": "",
            "zerolinecolor": "white"
           },
           "yaxis": {
            "backgroundcolor": "#E5ECF6",
            "gridcolor": "white",
            "gridwidth": 2,
            "linecolor": "white",
            "showbackground": true,
            "ticks": "",
            "zerolinecolor": "white"
           },
           "zaxis": {
            "backgroundcolor": "#E5ECF6",
            "gridcolor": "white",
            "gridwidth": 2,
            "linecolor": "white",
            "showbackground": true,
            "ticks": "",
            "zerolinecolor": "white"
           }
          },
          "shapedefaults": {
           "line": {
            "color": "#2a3f5f"
           }
          },
          "ternary": {
           "aaxis": {
            "gridcolor": "white",
            "linecolor": "white",
            "ticks": ""
           },
           "baxis": {
            "gridcolor": "white",
            "linecolor": "white",
            "ticks": ""
           },
           "bgcolor": "#E5ECF6",
           "caxis": {
            "gridcolor": "white",
            "linecolor": "white",
            "ticks": ""
           }
          },
          "title": {
           "x": 0.05
          },
          "xaxis": {
           "automargin": true,
           "gridcolor": "white",
           "linecolor": "white",
           "ticks": "",
           "title": {
            "standoff": 15
           },
           "zerolinecolor": "white",
           "zerolinewidth": 2
          },
          "yaxis": {
           "automargin": true,
           "gridcolor": "white",
           "linecolor": "white",
           "ticks": "",
           "title": {
            "standoff": 15
           },
           "zerolinecolor": "white",
           "zerolinewidth": 2
          }
         }
        },
        "width": 600
       }
      }
     },
     "metadata": {},
     "output_type": "display_data"
    }
   ],
   "source": [
    "film = pd.read_csv('../data/HBO_titles_clean.csv', encoding='utf-8', encoding_errors='ignore')\n",
    "\n",
    "film['genres'] = film['genres'].str.strip('[]').str.replace(\"'\", '').str.split(', ')\n",
    "film_gen = film['genres'].apply(pd.Series).rename(columns = lambda x : 'genre_' + str(x))\n",
    "\n",
    "df_sunburst = pd.concat([film_gen['genre_0'], film_gen['genre_1'], film_gen['genre_2']], axis=1)\n",
    "df_sunburst.columns = ['Level 1', 'Level 2', 'Level 3']\n",
    "\n",
    "df_sunburst = df_sunburst.dropna(subset=['Level 3'])\n",
    "df_sunburst = df_sunburst.dropna(subset=['Level 2'])\n",
    "\n",
    "df_sunburst = filtrar_gen(df_sunburst, 'Level 2', 40)  \n",
    "df_sunburst = filtrar_gen(df_sunburst, 'Level 1', 40)\n",
    "\n",
    "fig = px.sunburst(df_sunburst, path=['Level 1', 'Level 2'], width=600, height=600)\n",
    "\n",
    "fig.show()\n",
    "fig.write_html('../images/HBO_gen_sunburst.html')"
   ]
  },
  {
   "cell_type": "code",
   "execution_count": null,
   "metadata": {},
   "outputs": [],
   "source": []
  },
  {
   "cell_type": "code",
   "execution_count": 70,
   "metadata": {},
   "outputs": [],
   "source": [
    "actor = pd.read_csv('../data/sql/Net_actors_sql.csv', encoding='utf-8', encoding_errors='ignore') \n",
    "film = pd.read_csv('../data/sql/Net_titles_sql.csv', encoding='utf-8', encoding_errors='ignore')  \n",
    "cast = pd.read_csv('../data/sql/Net_cast_sql.csv', encoding='utf-8', encoding_errors='ignore') \n",
    "rev = pd.read_csv('../data/sql/Net_reviews_sql.csv', encoding='utf-8', encoding_errors='ignore') \n"
   ]
  },
  {
   "cell_type": "code",
   "execution_count": 71,
   "metadata": {},
   "outputs": [
    {
     "data": {
      "text/html": [
       "<div>\n",
       "<style scoped>\n",
       "    .dataframe tbody tr th:only-of-type {\n",
       "        vertical-align: middle;\n",
       "    }\n",
       "\n",
       "    .dataframe tbody tr th {\n",
       "        vertical-align: top;\n",
       "    }\n",
       "\n",
       "    .dataframe thead th {\n",
       "        text-align: right;\n",
       "    }\n",
       "</style>\n",
       "<table border=\"1\" class=\"dataframe\">\n",
       "  <thead>\n",
       "    <tr style=\"text-align: right;\">\n",
       "      <th></th>\n",
       "      <th>person_id</th>\n",
       "      <th>name</th>\n",
       "    </tr>\n",
       "  </thead>\n",
       "  <tbody>\n",
       "    <tr>\n",
       "      <th>0</th>\n",
       "      <td>3748</td>\n",
       "      <td>Robert De Niro</td>\n",
       "    </tr>\n",
       "    <tr>\n",
       "      <th>1</th>\n",
       "      <td>14658</td>\n",
       "      <td>Jodie Foster</td>\n",
       "    </tr>\n",
       "    <tr>\n",
       "      <th>2</th>\n",
       "      <td>7064</td>\n",
       "      <td>Albert Brooks</td>\n",
       "    </tr>\n",
       "    <tr>\n",
       "      <th>3</th>\n",
       "      <td>3739</td>\n",
       "      <td>Harvey Keitel</td>\n",
       "    </tr>\n",
       "    <tr>\n",
       "      <th>4</th>\n",
       "      <td>48933</td>\n",
       "      <td>Cybill Shepherd</td>\n",
       "    </tr>\n",
       "  </tbody>\n",
       "</table>\n",
       "</div>"
      ],
      "text/plain": [
       "   person_id             name\n",
       "0       3748   Robert De Niro\n",
       "1      14658     Jodie Foster\n",
       "2       7064    Albert Brooks\n",
       "3       3739    Harvey Keitel\n",
       "4      48933  Cybill Shepherd"
      ]
     },
     "execution_count": 71,
     "metadata": {},
     "output_type": "execute_result"
    }
   ],
   "source": [
    "actor.head()"
   ]
  },
  {
   "cell_type": "code",
   "execution_count": 72,
   "metadata": {},
   "outputs": [
    {
     "data": {
      "text/html": [
       "<div>\n",
       "<style scoped>\n",
       "    .dataframe tbody tr th:only-of-type {\n",
       "        vertical-align: middle;\n",
       "    }\n",
       "\n",
       "    .dataframe tbody tr th {\n",
       "        vertical-align: top;\n",
       "    }\n",
       "\n",
       "    .dataframe thead th {\n",
       "        text-align: right;\n",
       "    }\n",
       "</style>\n",
       "<table border=\"1\" class=\"dataframe\">\n",
       "  <thead>\n",
       "    <tr style=\"text-align: right;\">\n",
       "      <th></th>\n",
       "      <th>film_id</th>\n",
       "      <th>title</th>\n",
       "      <th>type</th>\n",
       "      <th>description</th>\n",
       "      <th>release_year</th>\n",
       "      <th>age_certification</th>\n",
       "      <th>runtime</th>\n",
       "      <th>genres</th>\n",
       "      <th>production_countries</th>\n",
       "      <th>seasons</th>\n",
       "      <th>imdb_id</th>\n",
       "      <th>imdb_score</th>\n",
       "      <th>imdb_votes</th>\n",
       "      <th>tmdb_popularity</th>\n",
       "      <th>tmdb_score</th>\n",
       "    </tr>\n",
       "  </thead>\n",
       "  <tbody>\n",
       "    <tr>\n",
       "      <th>0</th>\n",
       "      <td>tm84618</td>\n",
       "      <td>Taxi Driver</td>\n",
       "      <td>MOVIE</td>\n",
       "      <td>A mentally unstable Vietnam War veteran works ...</td>\n",
       "      <td>1976</td>\n",
       "      <td>R</td>\n",
       "      <td>114</td>\n",
       "      <td>['drama', 'crime']</td>\n",
       "      <td>['US']</td>\n",
       "      <td>-1.0</td>\n",
       "      <td>tt0075314</td>\n",
       "      <td>8.2</td>\n",
       "      <td>808582.0</td>\n",
       "      <td>40.965</td>\n",
       "      <td>8.179</td>\n",
       "    </tr>\n",
       "    <tr>\n",
       "      <th>1</th>\n",
       "      <td>tm154986</td>\n",
       "      <td>Deliverance</td>\n",
       "      <td>MOVIE</td>\n",
       "      <td>Intent on seeing the Cahulawassee River before...</td>\n",
       "      <td>1972</td>\n",
       "      <td>R</td>\n",
       "      <td>109</td>\n",
       "      <td>['drama', 'action', 'thriller', 'european']</td>\n",
       "      <td>['US']</td>\n",
       "      <td>-1.0</td>\n",
       "      <td>tt0068473</td>\n",
       "      <td>7.7</td>\n",
       "      <td>107673.0</td>\n",
       "      <td>10.010</td>\n",
       "      <td>7.300</td>\n",
       "    </tr>\n",
       "    <tr>\n",
       "      <th>2</th>\n",
       "      <td>tm127384</td>\n",
       "      <td>Monty Python and the Holy Grail</td>\n",
       "      <td>MOVIE</td>\n",
       "      <td>King Arthur, accompanied by his squire, recrui...</td>\n",
       "      <td>1975</td>\n",
       "      <td>PG</td>\n",
       "      <td>91</td>\n",
       "      <td>['fantasy', 'action', 'comedy']</td>\n",
       "      <td>['GB']</td>\n",
       "      <td>-1.0</td>\n",
       "      <td>tt0071853</td>\n",
       "      <td>8.2</td>\n",
       "      <td>534486.0</td>\n",
       "      <td>15.461</td>\n",
       "      <td>7.811</td>\n",
       "    </tr>\n",
       "    <tr>\n",
       "      <th>3</th>\n",
       "      <td>tm120801</td>\n",
       "      <td>The Dirty Dozen</td>\n",
       "      <td>MOVIE</td>\n",
       "      <td>12 American military prisoners in World War II...</td>\n",
       "      <td>1967</td>\n",
       "      <td>unknown</td>\n",
       "      <td>150</td>\n",
       "      <td>['war', 'action']</td>\n",
       "      <td>['GB', 'US']</td>\n",
       "      <td>-1.0</td>\n",
       "      <td>tt0061578</td>\n",
       "      <td>7.7</td>\n",
       "      <td>72662.0</td>\n",
       "      <td>20.398</td>\n",
       "      <td>7.600</td>\n",
       "    </tr>\n",
       "    <tr>\n",
       "      <th>4</th>\n",
       "      <td>ts22164</td>\n",
       "      <td>Monty Python's Flying Circus</td>\n",
       "      <td>SHOW</td>\n",
       "      <td>A British sketch comedy series with the shows ...</td>\n",
       "      <td>1969</td>\n",
       "      <td>TV-14</td>\n",
       "      <td>30</td>\n",
       "      <td>['comedy', 'european']</td>\n",
       "      <td>['GB']</td>\n",
       "      <td>4.0</td>\n",
       "      <td>tt0063929</td>\n",
       "      <td>8.8</td>\n",
       "      <td>73424.0</td>\n",
       "      <td>17.617</td>\n",
       "      <td>8.306</td>\n",
       "    </tr>\n",
       "  </tbody>\n",
       "</table>\n",
       "</div>"
      ],
      "text/plain": [
       "    film_id                            title   type   \n",
       "0   tm84618                      Taxi Driver  MOVIE  \\\n",
       "1  tm154986                      Deliverance  MOVIE   \n",
       "2  tm127384  Monty Python and the Holy Grail  MOVIE   \n",
       "3  tm120801                  The Dirty Dozen  MOVIE   \n",
       "4   ts22164     Monty Python's Flying Circus   SHOW   \n",
       "\n",
       "                                         description  release_year   \n",
       "0  A mentally unstable Vietnam War veteran works ...          1976  \\\n",
       "1  Intent on seeing the Cahulawassee River before...          1972   \n",
       "2  King Arthur, accompanied by his squire, recrui...          1975   \n",
       "3  12 American military prisoners in World War II...          1967   \n",
       "4  A British sketch comedy series with the shows ...          1969   \n",
       "\n",
       "  age_certification  runtime                                       genres   \n",
       "0                 R      114                           ['drama', 'crime']  \\\n",
       "1                 R      109  ['drama', 'action', 'thriller', 'european']   \n",
       "2                PG       91              ['fantasy', 'action', 'comedy']   \n",
       "3           unknown      150                            ['war', 'action']   \n",
       "4             TV-14       30                       ['comedy', 'european']   \n",
       "\n",
       "  production_countries  seasons    imdb_id  imdb_score  imdb_votes   \n",
       "0               ['US']     -1.0  tt0075314         8.2    808582.0  \\\n",
       "1               ['US']     -1.0  tt0068473         7.7    107673.0   \n",
       "2               ['GB']     -1.0  tt0071853         8.2    534486.0   \n",
       "3         ['GB', 'US']     -1.0  tt0061578         7.7     72662.0   \n",
       "4               ['GB']      4.0  tt0063929         8.8     73424.0   \n",
       "\n",
       "   tmdb_popularity  tmdb_score  \n",
       "0           40.965       8.179  \n",
       "1           10.010       7.300  \n",
       "2           15.461       7.811  \n",
       "3           20.398       7.600  \n",
       "4           17.617       8.306  "
      ]
     },
     "execution_count": 72,
     "metadata": {},
     "output_type": "execute_result"
    }
   ],
   "source": [
    "film.head()"
   ]
  },
  {
   "cell_type": "code",
   "execution_count": 76,
   "metadata": {},
   "outputs": [],
   "source": [
    "h = pd.read_csv('../data/HBO_titles_clean.csv')"
   ]
  },
  {
   "cell_type": "code",
   "execution_count": 82,
   "metadata": {},
   "outputs": [
    {
     "data": {
      "text/html": [
       "<div>\n",
       "<style scoped>\n",
       "    .dataframe tbody tr th:only-of-type {\n",
       "        vertical-align: middle;\n",
       "    }\n",
       "\n",
       "    .dataframe tbody tr th {\n",
       "        vertical-align: top;\n",
       "    }\n",
       "\n",
       "    .dataframe thead th {\n",
       "        text-align: right;\n",
       "    }\n",
       "</style>\n",
       "<table border=\"1\" class=\"dataframe\">\n",
       "  <thead>\n",
       "    <tr style=\"text-align: right;\">\n",
       "      <th></th>\n",
       "      <th>film_id</th>\n",
       "      <th>title</th>\n",
       "      <th>type</th>\n",
       "      <th>description</th>\n",
       "      <th>release_year</th>\n",
       "      <th>age_certification</th>\n",
       "      <th>runtime</th>\n",
       "      <th>genres</th>\n",
       "      <th>production_countries</th>\n",
       "      <th>seasons</th>\n",
       "      <th>imdb_id</th>\n",
       "      <th>imdb_score</th>\n",
       "      <th>imdb_votes</th>\n",
       "      <th>tmdb_popularity</th>\n",
       "      <th>tmdb_score</th>\n",
       "    </tr>\n",
       "  </thead>\n",
       "  <tbody>\n",
       "    <tr>\n",
       "      <th>0</th>\n",
       "      <td>tm84618</td>\n",
       "      <td>Taxi Driver</td>\n",
       "      <td>MOVIE</td>\n",
       "      <td>A mentally unstable Vietnam War veteran works ...</td>\n",
       "      <td>1976</td>\n",
       "      <td>R</td>\n",
       "      <td>114</td>\n",
       "      <td>['drama', 'crime']</td>\n",
       "      <td>['US']</td>\n",
       "      <td>-1.0</td>\n",
       "      <td>tt0075314</td>\n",
       "      <td>8.2</td>\n",
       "      <td>808582.0</td>\n",
       "      <td>40.965</td>\n",
       "      <td>8.179</td>\n",
       "    </tr>\n",
       "    <tr>\n",
       "      <th>1255</th>\n",
       "      <td>tm248010</td>\n",
       "      <td>Taxi Driver</td>\n",
       "      <td>MOVIE</td>\n",
       "      <td>A small-town mechanic turned chauffeur for the...</td>\n",
       "      <td>2015</td>\n",
       "      <td>unknown</td>\n",
       "      <td>100</td>\n",
       "      <td>['comedy', 'crime', 'drama']</td>\n",
       "      <td>['NG']</td>\n",
       "      <td>-1.0</td>\n",
       "      <td>tt5112438</td>\n",
       "      <td>6.0</td>\n",
       "      <td>69.0</td>\n",
       "      <td>1.191</td>\n",
       "      <td>5.300</td>\n",
       "    </tr>\n",
       "  </tbody>\n",
       "</table>\n",
       "</div>"
      ],
      "text/plain": [
       "       film_id        title   type   \n",
       "0      tm84618  Taxi Driver  MOVIE  \\\n",
       "1255  tm248010  Taxi Driver  MOVIE   \n",
       "\n",
       "                                            description  release_year   \n",
       "0     A mentally unstable Vietnam War veteran works ...          1976  \\\n",
       "1255  A small-town mechanic turned chauffeur for the...          2015   \n",
       "\n",
       "     age_certification  runtime                        genres   \n",
       "0                    R      114            ['drama', 'crime']  \\\n",
       "1255           unknown      100  ['comedy', 'crime', 'drama']   \n",
       "\n",
       "     production_countries  seasons    imdb_id  imdb_score  imdb_votes   \n",
       "0                  ['US']     -1.0  tt0075314         8.2    808582.0  \\\n",
       "1255               ['NG']     -1.0  tt5112438         6.0        69.0   \n",
       "\n",
       "      tmdb_popularity  tmdb_score  \n",
       "0              40.965       8.179  \n",
       "1255            1.191       5.300  "
      ]
     },
     "execution_count": 82,
     "metadata": {},
     "output_type": "execute_result"
    }
   ],
   "source": [
    "film.query('title == \"Taxi Driver\"')"
   ]
  },
  {
   "cell_type": "code",
   "execution_count": 81,
   "metadata": {},
   "outputs": [
    {
     "data": {
      "text/html": [
       "<div>\n",
       "<style scoped>\n",
       "    .dataframe tbody tr th:only-of-type {\n",
       "        vertical-align: middle;\n",
       "    }\n",
       "\n",
       "    .dataframe tbody tr th {\n",
       "        vertical-align: top;\n",
       "    }\n",
       "\n",
       "    .dataframe thead th {\n",
       "        text-align: right;\n",
       "    }\n",
       "</style>\n",
       "<table border=\"1\" class=\"dataframe\">\n",
       "  <thead>\n",
       "    <tr style=\"text-align: right;\">\n",
       "      <th></th>\n",
       "      <th>id</th>\n",
       "      <th>title</th>\n",
       "      <th>type</th>\n",
       "      <th>description</th>\n",
       "      <th>release_year</th>\n",
       "      <th>age_certification</th>\n",
       "      <th>runtime</th>\n",
       "      <th>genres</th>\n",
       "      <th>production_countries</th>\n",
       "      <th>seasons</th>\n",
       "      <th>imdb_id</th>\n",
       "      <th>imdb_score</th>\n",
       "      <th>imdb_votes</th>\n",
       "      <th>tmdb_popularity</th>\n",
       "      <th>tmdb_score</th>\n",
       "    </tr>\n",
       "  </thead>\n",
       "  <tbody>\n",
       "    <tr>\n",
       "      <th>133</th>\n",
       "      <td>tm84618</td>\n",
       "      <td>Taxi Driver</td>\n",
       "      <td>MOVIE</td>\n",
       "      <td>A mentally unstable Vietnam War veteran works ...</td>\n",
       "      <td>1976</td>\n",
       "      <td>R</td>\n",
       "      <td>113</td>\n",
       "      <td>['drama', 'crime']</td>\n",
       "      <td>['US']</td>\n",
       "      <td>-1.0</td>\n",
       "      <td>tt0075314</td>\n",
       "      <td>8.2</td>\n",
       "      <td>848334.0</td>\n",
       "      <td>43.893</td>\n",
       "      <td>8.166</td>\n",
       "    </tr>\n",
       "  </tbody>\n",
       "</table>\n",
       "</div>"
      ],
      "text/plain": [
       "          id        title   type   \n",
       "133  tm84618  Taxi Driver  MOVIE  \\\n",
       "\n",
       "                                           description  release_year   \n",
       "133  A mentally unstable Vietnam War veteran works ...          1976  \\\n",
       "\n",
       "    age_certification  runtime              genres production_countries   \n",
       "133                 R      113  ['drama', 'crime']               ['US']  \\\n",
       "\n",
       "     seasons    imdb_id  imdb_score  imdb_votes  tmdb_popularity  tmdb_score  \n",
       "133     -1.0  tt0075314         8.2    848334.0           43.893       8.166  "
      ]
     },
     "execution_count": 81,
     "metadata": {},
     "output_type": "execute_result"
    }
   ],
   "source": [
    "h.query('title == \"Taxi Driver\"')"
   ]
  },
  {
   "cell_type": "code",
   "execution_count": 85,
   "metadata": {},
   "outputs": [
    {
     "data": {
      "text/html": [
       "<div>\n",
       "<style scoped>\n",
       "    .dataframe tbody tr th:only-of-type {\n",
       "        vertical-align: middle;\n",
       "    }\n",
       "\n",
       "    .dataframe tbody tr th {\n",
       "        vertical-align: top;\n",
       "    }\n",
       "\n",
       "    .dataframe thead th {\n",
       "        text-align: right;\n",
       "    }\n",
       "</style>\n",
       "<table border=\"1\" class=\"dataframe\">\n",
       "  <thead>\n",
       "    <tr style=\"text-align: right;\">\n",
       "      <th></th>\n",
       "      <th>id</th>\n",
       "      <th>title</th>\n",
       "    </tr>\n",
       "  </thead>\n",
       "  <tbody>\n",
       "    <tr>\n",
       "      <th>0</th>\n",
       "      <td>tm77588</td>\n",
       "      <td>Casablanca</td>\n",
       "    </tr>\n",
       "    <tr>\n",
       "      <th>1</th>\n",
       "      <td>tm155702</td>\n",
       "      <td>The Wizard of Oz</td>\n",
       "    </tr>\n",
       "    <tr>\n",
       "      <th>2</th>\n",
       "      <td>tm83648</td>\n",
       "      <td>Citizen Kane</td>\n",
       "    </tr>\n",
       "    <tr>\n",
       "      <th>3</th>\n",
       "      <td>tm3175</td>\n",
       "      <td>Meet Me in St. Louis</td>\n",
       "    </tr>\n",
       "    <tr>\n",
       "      <th>4</th>\n",
       "      <td>ts225761</td>\n",
       "      <td>Tom and Jerry</td>\n",
       "    </tr>\n",
       "    <tr>\n",
       "      <th>...</th>\n",
       "      <td>...</td>\n",
       "      <td>...</td>\n",
       "    </tr>\n",
       "    <tr>\n",
       "      <th>2601</th>\n",
       "      <td>tm1310730</td>\n",
       "      <td>Marlon Wayans: God Loves Me</td>\n",
       "    </tr>\n",
       "    <tr>\n",
       "      <th>2602</th>\n",
       "      <td>ts171230</td>\n",
       "      <td>Poor Devil</td>\n",
       "    </tr>\n",
       "    <tr>\n",
       "      <th>2603</th>\n",
       "      <td>tm1306271</td>\n",
       "      <td>The Weeknd: Live at SoFi Stadium</td>\n",
       "    </tr>\n",
       "    <tr>\n",
       "      <th>2604</th>\n",
       "      <td>tm1305288</td>\n",
       "      <td>Marcella Arguello: Bitch, Grow Up!</td>\n",
       "    </tr>\n",
       "    <tr>\n",
       "      <th>2605</th>\n",
       "      <td>tm1303655</td>\n",
       "      <td>Super-Vilains: l'Enquête</td>\n",
       "    </tr>\n",
       "  </tbody>\n",
       "</table>\n",
       "<p>2606 rows × 2 columns</p>\n",
       "</div>"
      ],
      "text/plain": [
       "             id                               title\n",
       "0       tm77588                          Casablanca\n",
       "1      tm155702                    The Wizard of Oz\n",
       "2       tm83648                        Citizen Kane\n",
       "3        tm3175                Meet Me in St. Louis\n",
       "4      ts225761                       Tom and Jerry\n",
       "...         ...                                 ...\n",
       "2601  tm1310730         Marlon Wayans: God Loves Me\n",
       "2602   ts171230                          Poor Devil\n",
       "2603  tm1306271    The Weeknd: Live at SoFi Stadium\n",
       "2604  tm1305288  Marcella Arguello: Bitch, Grow Up!\n",
       "2605  tm1303655            Super-Vilains: l'Enquête\n",
       "\n",
       "[2606 rows x 2 columns]"
      ]
     },
     "execution_count": 85,
     "metadata": {},
     "output_type": "execute_result"
    }
   ],
   "source": [
    "h[['id', 'title']]"
   ]
  },
  {
   "cell_type": "code",
   "execution_count": 73,
   "metadata": {},
   "outputs": [
    {
     "data": {
      "text/html": [
       "<div>\n",
       "<style scoped>\n",
       "    .dataframe tbody tr th:only-of-type {\n",
       "        vertical-align: middle;\n",
       "    }\n",
       "\n",
       "    .dataframe tbody tr th {\n",
       "        vertical-align: top;\n",
       "    }\n",
       "\n",
       "    .dataframe thead th {\n",
       "        text-align: right;\n",
       "    }\n",
       "</style>\n",
       "<table border=\"1\" class=\"dataframe\">\n",
       "  <thead>\n",
       "    <tr style=\"text-align: right;\">\n",
       "      <th></th>\n",
       "      <th>id</th>\n",
       "      <th>person_id</th>\n",
       "      <th>film_id</th>\n",
       "      <th>character</th>\n",
       "      <th>role</th>\n",
       "    </tr>\n",
       "  </thead>\n",
       "  <tbody>\n",
       "    <tr>\n",
       "      <th>0</th>\n",
       "      <td>1</td>\n",
       "      <td>3748</td>\n",
       "      <td>tm84618</td>\n",
       "      <td>Travis Bickle</td>\n",
       "      <td>ACTOR</td>\n",
       "    </tr>\n",
       "    <tr>\n",
       "      <th>1</th>\n",
       "      <td>2</td>\n",
       "      <td>14658</td>\n",
       "      <td>tm84618</td>\n",
       "      <td>Iris Steensma</td>\n",
       "      <td>ACTOR</td>\n",
       "    </tr>\n",
       "    <tr>\n",
       "      <th>2</th>\n",
       "      <td>3</td>\n",
       "      <td>7064</td>\n",
       "      <td>tm84618</td>\n",
       "      <td>Tom</td>\n",
       "      <td>ACTOR</td>\n",
       "    </tr>\n",
       "    <tr>\n",
       "      <th>3</th>\n",
       "      <td>4</td>\n",
       "      <td>3739</td>\n",
       "      <td>tm84618</td>\n",
       "      <td>Matthew 'Sport' Higgins</td>\n",
       "      <td>ACTOR</td>\n",
       "    </tr>\n",
       "    <tr>\n",
       "      <th>4</th>\n",
       "      <td>5</td>\n",
       "      <td>48933</td>\n",
       "      <td>tm84618</td>\n",
       "      <td>Betsy</td>\n",
       "      <td>ACTOR</td>\n",
       "    </tr>\n",
       "  </tbody>\n",
       "</table>\n",
       "</div>"
      ],
      "text/plain": [
       "   id  person_id  film_id                character   role\n",
       "0   1       3748  tm84618            Travis Bickle  ACTOR\n",
       "1   2      14658  tm84618            Iris Steensma  ACTOR\n",
       "2   3       7064  tm84618                      Tom  ACTOR\n",
       "3   4       3739  tm84618  Matthew 'Sport' Higgins  ACTOR\n",
       "4   5      48933  tm84618                    Betsy  ACTOR"
      ]
     },
     "execution_count": 73,
     "metadata": {},
     "output_type": "execute_result"
    }
   ],
   "source": [
    "cast.head()"
   ]
  },
  {
   "cell_type": "code",
   "execution_count": 75,
   "metadata": {},
   "outputs": [
    {
     "data": {
      "text/html": [
       "<div>\n",
       "<style scoped>\n",
       "    .dataframe tbody tr th:only-of-type {\n",
       "        vertical-align: middle;\n",
       "    }\n",
       "\n",
       "    .dataframe tbody tr th {\n",
       "        vertical-align: top;\n",
       "    }\n",
       "\n",
       "    .dataframe thead th {\n",
       "        text-align: right;\n",
       "    }\n",
       "</style>\n",
       "<table border=\"1\" class=\"dataframe\">\n",
       "  <thead>\n",
       "    <tr style=\"text-align: right;\">\n",
       "      <th></th>\n",
       "      <th>review_id</th>\n",
       "      <th>imdb_id</th>\n",
       "      <th>review_title</th>\n",
       "      <th>rating_title</th>\n",
       "    </tr>\n",
       "  </thead>\n",
       "  <tbody>\n",
       "    <tr>\n",
       "      <th>0</th>\n",
       "      <td>1</td>\n",
       "      <td>tt0075314</td>\n",
       "      <td>A classy character study of a disturbed indivi...</td>\n",
       "      <td>7/10</td>\n",
       "    </tr>\n",
       "    <tr>\n",
       "      <th>1</th>\n",
       "      <td>2</td>\n",
       "      <td>tt0075314</td>\n",
       "      <td>A wonderfully engaging and convincing slide in...</td>\n",
       "      <td>10/10</td>\n",
       "    </tr>\n",
       "    <tr>\n",
       "      <th>2</th>\n",
       "      <td>3</td>\n",
       "      <td>tt0075314</td>\n",
       "      <td>Ladies and gentlemen: Mr. Robert De Niro!</td>\n",
       "      <td>10/10</td>\n",
       "    </tr>\n",
       "    <tr>\n",
       "      <th>3</th>\n",
       "      <td>4</td>\n",
       "      <td>tt0075314</td>\n",
       "      <td>Still has the power to shock...</td>\n",
       "      <td>10/10</td>\n",
       "    </tr>\n",
       "    <tr>\n",
       "      <th>4</th>\n",
       "      <td>5</td>\n",
       "      <td>tt0075314</td>\n",
       "      <td>Disturbing, powerful, relevant, important</td>\n",
       "      <td>9/10</td>\n",
       "    </tr>\n",
       "    <tr>\n",
       "      <th>...</th>\n",
       "      <td>...</td>\n",
       "      <td>...</td>\n",
       "      <td>...</td>\n",
       "      <td>...</td>\n",
       "    </tr>\n",
       "    <tr>\n",
       "      <th>88369</th>\n",
       "      <td>88370</td>\n",
       "      <td>tt14216488</td>\n",
       "      <td>What is it for real?</td>\n",
       "      <td>1/10</td>\n",
       "    </tr>\n",
       "    <tr>\n",
       "      <th>88370</th>\n",
       "      <td>88371</td>\n",
       "      <td>tt14216488</td>\n",
       "      <td>Cringe.</td>\n",
       "      <td>2/10</td>\n",
       "    </tr>\n",
       "    <tr>\n",
       "      <th>88371</th>\n",
       "      <td>88372</td>\n",
       "      <td>tt14216488</td>\n",
       "      <td>WTF</td>\n",
       "      <td>1/10</td>\n",
       "    </tr>\n",
       "    <tr>\n",
       "      <th>88372</th>\n",
       "      <td>88373</td>\n",
       "      <td>tt14216488</td>\n",
       "      <td>Bad story</td>\n",
       "      <td>1/10</td>\n",
       "    </tr>\n",
       "    <tr>\n",
       "      <th>88373</th>\n",
       "      <td>88374</td>\n",
       "      <td>tt14585902</td>\n",
       "      <td>A failed comedy</td>\n",
       "      <td>5/10</td>\n",
       "    </tr>\n",
       "  </tbody>\n",
       "</table>\n",
       "<p>88374 rows × 4 columns</p>\n",
       "</div>"
      ],
      "text/plain": [
       "       review_id     imdb_id   \n",
       "0              1   tt0075314  \\\n",
       "1              2   tt0075314   \n",
       "2              3   tt0075314   \n",
       "3              4   tt0075314   \n",
       "4              5   tt0075314   \n",
       "...          ...         ...   \n",
       "88369      88370  tt14216488   \n",
       "88370      88371  tt14216488   \n",
       "88371      88372  tt14216488   \n",
       "88372      88373  tt14216488   \n",
       "88373      88374  tt14585902   \n",
       "\n",
       "                                            review_title rating_title  \n",
       "0      A classy character study of a disturbed indivi...         7/10  \n",
       "1      A wonderfully engaging and convincing slide in...        10/10  \n",
       "2              Ladies and gentlemen: Mr. Robert De Niro!        10/10  \n",
       "3                        Still has the power to shock...        10/10  \n",
       "4              Disturbing, powerful, relevant, important         9/10  \n",
       "...                                                  ...          ...  \n",
       "88369                               What is it for real?         1/10  \n",
       "88370                                            Cringe.         2/10  \n",
       "88371                                                WTF         1/10  \n",
       "88372                                          Bad story         1/10  \n",
       "88373                                    A failed comedy         5/10  \n",
       "\n",
       "[88374 rows x 4 columns]"
      ]
     },
     "execution_count": 75,
     "metadata": {},
     "output_type": "execute_result"
    }
   ],
   "source": [
    "rev"
   ]
  },
  {
   "cell_type": "code",
   "execution_count": null,
   "metadata": {},
   "outputs": [],
   "source": []
  },
  {
   "cell_type": "code",
   "execution_count": null,
   "metadata": {},
   "outputs": [],
   "source": []
  },
  {
   "cell_type": "code",
   "execution_count": null,
   "metadata": {},
   "outputs": [],
   "source": []
  }
 ],
 "metadata": {
  "kernelspec": {
   "display_name": "ETL",
   "language": "python",
   "name": "python3"
  },
  "language_info": {
   "codemirror_mode": {
    "name": "ipython",
    "version": 3
   },
   "file_extension": ".py",
   "mimetype": "text/x-python",
   "name": "python",
   "nbconvert_exporter": "python",
   "pygments_lexer": "ipython3",
   "version": "3.9.16"
  },
  "orig_nbformat": 4
 },
 "nbformat": 4,
 "nbformat_minor": 2
}
